{
 "cells": [
  {
   "cell_type": "markdown",
   "id": "3f9525d2",
   "metadata": {},
   "source": [
    "# Поиск клиента с неоптимальными тарифами"
   ]
  },
  {
   "cell_type": "markdown",
   "id": "d880aeb5",
   "metadata": {},
   "source": [
    "### Введеине"
   ]
  },
  {
   "cell_type": "markdown",
   "id": "fe8d5053",
   "metadata": {},
   "source": [
    "#### Задачи:\n",
    "    \n",
    "    1. В связи с появлением на рынке нового конкурента со сравнительно низкими ценами и угрозой ухода клиентов необходимо проанализировать данные об использовании услуг виртуальной телефонии «Нупозвони» и найти активных клиентов, которые сэкономят, если перейдут на более дешевый или на более дорогой тариф\n",
    "    2. Определить активных клиентов.\n",
    "    3. Предложить отптимальный вариант по переводу активных клиентов на более оптимальный тариф с учетом минимизации потерь доходов.\n",
    "    4. Подготовить презентационные и информационные материалы дял заказчика."
   ]
  },
  {
   "cell_type": "markdown",
   "id": "86252dd3",
   "metadata": {},
   "source": [
    "#### План:\n",
    "Этап 1. Обработка полученных данных:\n",
    "    \n",
    "    *Приведение данных к соответствующему типу. \n",
    "    *Проверка на дубликаты, принятие решения по удалению. \n",
    "    *Проверка на пропуски, принятие решения по критичности. \n",
    "    *Проверка присутствия всех user_id в списке клиентов.\n",
    "    *Проверка правильности заполнения поля total_call_duration. (подтверждение того, что данные в секундах)\n",
    "    *Проверка длительности работы оператора (не более 12 часов в сутки).\n",
    "\n",
    "Этап 2. Анализ данных:\n",
    "    \n",
    "    *Cоздание агрегированной таблицы по user_id, месяцам, direction, internal.\n",
    "    *Поиск активных клиентов по количеству минут, количеству и типу звонков.\n",
    "    *Добавление данных о тарифах и в полученный датасет. \n",
    "    *Добавление дат регистрации клиентов. Определение клиентов которые были не весь период. Сравнение дат с периодом активности. \n",
    "    *Просчет каждой строки по всем тарифам. Сравнение минимальных затрат по тарифу с текущими затартами.\n",
    "    *Просчет дельты при разных вариантах перехода (например Если для пользователя с текущим тарифом А и выгодном тарифе С, просчитать варианты перехода с А на В и с А на С).\n",
    "    *Предложить разные варианты и подходы для минимизации потери выручки.\n",
    "\n",
    "Этап 3. Проверка гипотиз:\n",
    "    \n",
    "    *1-ая нулевая гипотиза: Переход с Текущего тарифа на Оптимальный тариф всех пользователей не повлечет значимого изменения в доходах «Нупозвони».\n",
    "    *2-ая нулевая гипотиза: Переход части клиентов, а также частичное улучшение тарифа по выдвинутому предложению не повлечет значимого изменения в доходах «Нупозвони».\n",
    "\n",
    "\n",
    "Этап 4. Выводы \n",
    "    \n",
    "    Подведение итогов и определение оптимальных предложений.\n",
    "    Подготовка презентации.\n",
    "    Подготовка отчета с перечнем клиентов для изменения тарифа.\n",
    "    Подготовка дашборда. \n",
    "\n",
    "\n",
    "\n",
    "\n",
    "\n",
    "Доп инфо:\n"
   ]
  },
  {
   "cell_type": "markdown",
   "id": "13a0d1dd",
   "metadata": {},
   "source": [
    "ТАРИФЫ:\n",
    "\n",
    "Ежемесячная плата за тариф:\n",
    "\n",
    "- Тариф А — 5000 ₽,\n",
    "- B — 2000 ₽,\n",
    "- С — 1000 ₽.\n",
    "\n",
    "**Входящие звонки** — бесплатны на всех тарифах,\n",
    "\n",
    "**Исходящие звонки внутри сети** — бесплатны до 2000 минут в месяц на всех тарифах. Цена сверх лимита:\n",
    "\n",
    "- A — 0.1 ₽/мин.,\n",
    "- B — 0.15 ₽/мин.,\n",
    "- C — 0.3 ₽/мин.\n",
    "\n",
    "**Исходящие звонки, кроме внутренних:**\n",
    "\n",
    "- A — 0.4 ₽/мин.,\n",
    "- B — 0.5 ₽/мин.,\n",
    "- C — 0.7 ₽/мин.\n",
    "\n",
    "За каждого оператора клиент платит 100 ₽ в месяц на любом тарифе — дополнительно к стоимости тарифа и цене звонков."
   ]
  },
  {
   "cell_type": "markdown",
   "id": "fe251c19",
   "metadata": {},
   "source": [
    "## Обработка полученных данных:"
   ]
  },
  {
   "cell_type": "code",
   "execution_count": 1,
   "id": "0338fbf4",
   "metadata": {},
   "outputs": [],
   "source": [
    "import os\n",
    "import numpy as np\n",
    "import pandas as pd\n",
    "import seaborn as sns\n",
    "import datetime as dt\n",
    "import scipy.stats as st\n",
    "import matplotlib.pyplot as plt"
   ]
  },
  {
   "cell_type": "code",
   "execution_count": 3,
   "id": "73759e96",
   "metadata": {},
   "outputs": [],
   "source": [
    "pth1 = '/datasets/telecom_clients.csv'\n",
    "pth1_2 = 'telecom_clients.csv'\n",
    "pth2 = '/datasets/telecom_dataset.csv'\n",
    "pth2_2 = 'telecom_dataset.csv'\n",
    "\n",
    "if os.path.exists(pth1):\n",
    "    clients = pd.read_csv(pth1)\n",
    "elif os.path.exists(pth1_2):\n",
    "    clients = pd.read_csv(pth1_2)\n",
    "else:\n",
    "    print('Something is wrong')\n",
    "if os.path.exists(pth2):\n",
    "    data = pd.read_csv(pth2)\n",
    "elif os.path.exists(pth2_2):\n",
    "    data = pd.read_csv(pth2_2)\n",
    "else:\n",
    "    print('Something is wrong')"
   ]
  },
  {
   "cell_type": "code",
   "execution_count": 4,
   "id": "a9a0de3a",
   "metadata": {},
   "outputs": [],
   "source": [
    "# clients.to_csv('telecom_clients.csv', index=False)\n",
    "# data.to_csv('telecom_dataset.csv', index=False)"
   ]
  },
  {
   "cell_type": "code",
   "execution_count": 5,
   "id": "3c47a461",
   "metadata": {},
   "outputs": [
    {
     "name": "stdout",
     "output_type": "stream",
     "text": [
      "<class 'pandas.core.frame.DataFrame'>\n",
      "RangeIndex: 732 entries, 0 to 731\n",
      "Data columns (total 3 columns):\n",
      " #   Column       Non-Null Count  Dtype \n",
      "---  ------       --------------  ----- \n",
      " 0   user_id      732 non-null    int64 \n",
      " 1   tariff_plan  732 non-null    object\n",
      " 2   date_start   732 non-null    object\n",
      "dtypes: int64(1), object(2)\n",
      "memory usage: 17.3+ KB\n",
      "<class 'pandas.core.frame.DataFrame'>\n",
      "RangeIndex: 53902 entries, 0 to 53901\n",
      "Data columns (total 9 columns):\n",
      " #   Column               Non-Null Count  Dtype  \n",
      "---  ------               --------------  -----  \n",
      " 0   user_id              53902 non-null  int64  \n",
      " 1   date                 53902 non-null  object \n",
      " 2   direction            53902 non-null  object \n",
      " 3   internal             53785 non-null  object \n",
      " 4   operator_id          45730 non-null  float64\n",
      " 5   is_missed_call       53902 non-null  bool   \n",
      " 6   calls_count          53902 non-null  int64  \n",
      " 7   call_duration        53902 non-null  int64  \n",
      " 8   total_call_duration  53902 non-null  int64  \n",
      "dtypes: bool(1), float64(1), int64(4), object(3)\n",
      "memory usage: 3.3+ MB\n"
     ]
    }
   ],
   "source": [
    "clients.info()\n",
    "data.info()"
   ]
  },
  {
   "cell_type": "code",
   "execution_count": 6,
   "id": "86866cac",
   "metadata": {},
   "outputs": [
    {
     "name": "stdout",
     "output_type": "stream",
     "text": [
      "Диапазон дат: 2019-08-02 00:00:00+03:00 - 2019-11-28 00:00:00+03:00\n"
     ]
    }
   ],
   "source": [
    "print('Диапазон дат:',data['date'].min(), '-', data['date'].max())"
   ]
  },
  {
   "cell_type": "markdown",
   "id": "1327186f",
   "metadata": {},
   "source": [
    "Имеем данные за 4 месяца. Неполныые месяцы считаем полными."
   ]
  },
  {
   "cell_type": "markdown",
   "id": "a3f1b751",
   "metadata": {},
   "source": [
    "### Приведение данных к соответствующему типу"
   ]
  },
  {
   "cell_type": "code",
   "execution_count": null,
   "id": "38b1670d",
   "metadata": {},
   "outputs": [],
   "source": []
  },
  {
   "cell_type": "code",
   "execution_count": 7,
   "id": "3f8b43b3",
   "metadata": {},
   "outputs": [],
   "source": [
    "clients['date_start'] = clients['date_start'].map(lambda x: dt.datetime.strptime(x, '%Y-%m-%d'))\n",
    "data['date'] = pd.to_datetime(data['date'], format='%Y-%m-%d %H:%M:%S')\n",
    "data['date'] = data['date'].dt.strftime('%Y-%m-%d %H:%M:%S')\n",
    "data['date'] = pd.to_datetime(data['date'], format='%Y-%m-%d %H:%M:%S')\n",
    "data['month'] = data['date'].dt.month\n",
    "data['minutes'] = (data['total_call_duration']/60).apply(np.ceil)"
   ]
  },
  {
   "cell_type": "code",
   "execution_count": 8,
   "id": "639bdbd0",
   "metadata": {},
   "outputs": [
    {
     "name": "stdout",
     "output_type": "stream",
     "text": [
      "<class 'pandas.core.frame.DataFrame'>\n",
      "RangeIndex: 53902 entries, 0 to 53901\n",
      "Data columns (total 11 columns):\n",
      " #   Column               Non-Null Count  Dtype         \n",
      "---  ------               --------------  -----         \n",
      " 0   user_id              53902 non-null  int64         \n",
      " 1   date                 53902 non-null  datetime64[ns]\n",
      " 2   direction            53902 non-null  object        \n",
      " 3   internal             53785 non-null  object        \n",
      " 4   operator_id          45730 non-null  float64       \n",
      " 5   is_missed_call       53902 non-null  bool          \n",
      " 6   calls_count          53902 non-null  int64         \n",
      " 7   call_duration        53902 non-null  int64         \n",
      " 8   total_call_duration  53902 non-null  int64         \n",
      " 9   month                53902 non-null  int64         \n",
      " 10  minutes              53902 non-null  float64       \n",
      "dtypes: bool(1), datetime64[ns](1), float64(2), int64(5), object(2)\n",
      "memory usage: 4.2+ MB\n"
     ]
    }
   ],
   "source": [
    "data.info()"
   ]
  },
  {
   "cell_type": "code",
   "execution_count": 9,
   "id": "f9468a8b",
   "metadata": {
    "scrolled": true
   },
   "outputs": [
    {
     "data": {
      "text/html": [
       "<div>\n",
       "<style scoped>\n",
       "    .dataframe tbody tr th:only-of-type {\n",
       "        vertical-align: middle;\n",
       "    }\n",
       "\n",
       "    .dataframe tbody tr th {\n",
       "        vertical-align: top;\n",
       "    }\n",
       "\n",
       "    .dataframe thead th {\n",
       "        text-align: right;\n",
       "    }\n",
       "</style>\n",
       "<table border=\"1\" class=\"dataframe\">\n",
       "  <thead>\n",
       "    <tr style=\"text-align: right;\">\n",
       "      <th></th>\n",
       "      <th>user_id</th>\n",
       "      <th>tariff_plan</th>\n",
       "      <th>date_start</th>\n",
       "    </tr>\n",
       "  </thead>\n",
       "  <tbody>\n",
       "    <tr>\n",
       "      <th>0</th>\n",
       "      <td>166713</td>\n",
       "      <td>A</td>\n",
       "      <td>2019-08-15</td>\n",
       "    </tr>\n",
       "    <tr>\n",
       "      <th>1</th>\n",
       "      <td>166901</td>\n",
       "      <td>A</td>\n",
       "      <td>2019-08-23</td>\n",
       "    </tr>\n",
       "  </tbody>\n",
       "</table>\n",
       "</div>"
      ],
      "text/plain": [
       "   user_id tariff_plan date_start\n",
       "0   166713           A 2019-08-15\n",
       "1   166901           A 2019-08-23"
      ]
     },
     "execution_count": 9,
     "metadata": {},
     "output_type": "execute_result"
    }
   ],
   "source": [
    "clients.head(2)"
   ]
  },
  {
   "cell_type": "code",
   "execution_count": 10,
   "id": "0240276d",
   "metadata": {
    "scrolled": false
   },
   "outputs": [
    {
     "data": {
      "text/html": [
       "<div>\n",
       "<style scoped>\n",
       "    .dataframe tbody tr th:only-of-type {\n",
       "        vertical-align: middle;\n",
       "    }\n",
       "\n",
       "    .dataframe tbody tr th {\n",
       "        vertical-align: top;\n",
       "    }\n",
       "\n",
       "    .dataframe thead th {\n",
       "        text-align: right;\n",
       "    }\n",
       "</style>\n",
       "<table border=\"1\" class=\"dataframe\">\n",
       "  <thead>\n",
       "    <tr style=\"text-align: right;\">\n",
       "      <th></th>\n",
       "      <th>user_id</th>\n",
       "      <th>date</th>\n",
       "      <th>direction</th>\n",
       "      <th>internal</th>\n",
       "      <th>operator_id</th>\n",
       "      <th>is_missed_call</th>\n",
       "      <th>calls_count</th>\n",
       "      <th>call_duration</th>\n",
       "      <th>total_call_duration</th>\n",
       "      <th>month</th>\n",
       "      <th>minutes</th>\n",
       "    </tr>\n",
       "  </thead>\n",
       "  <tbody>\n",
       "    <tr>\n",
       "      <th>0</th>\n",
       "      <td>166377</td>\n",
       "      <td>2019-08-04</td>\n",
       "      <td>in</td>\n",
       "      <td>False</td>\n",
       "      <td>NaN</td>\n",
       "      <td>True</td>\n",
       "      <td>2</td>\n",
       "      <td>0</td>\n",
       "      <td>4</td>\n",
       "      <td>8</td>\n",
       "      <td>1.0</td>\n",
       "    </tr>\n",
       "    <tr>\n",
       "      <th>1</th>\n",
       "      <td>166377</td>\n",
       "      <td>2019-08-05</td>\n",
       "      <td>out</td>\n",
       "      <td>True</td>\n",
       "      <td>880022.0</td>\n",
       "      <td>True</td>\n",
       "      <td>3</td>\n",
       "      <td>0</td>\n",
       "      <td>5</td>\n",
       "      <td>8</td>\n",
       "      <td>1.0</td>\n",
       "    </tr>\n",
       "  </tbody>\n",
       "</table>\n",
       "</div>"
      ],
      "text/plain": [
       "   user_id       date direction internal  operator_id  is_missed_call  \\\n",
       "0   166377 2019-08-04        in    False          NaN            True   \n",
       "1   166377 2019-08-05       out     True     880022.0            True   \n",
       "\n",
       "   calls_count  call_duration  total_call_duration  month  minutes  \n",
       "0            2              0                    4      8      1.0  \n",
       "1            3              0                    5      8      1.0  "
      ]
     },
     "execution_count": 10,
     "metadata": {},
     "output_type": "execute_result"
    }
   ],
   "source": [
    "data.head(2)"
   ]
  },
  {
   "cell_type": "code",
   "execution_count": 11,
   "id": "b7860529",
   "metadata": {
    "scrolled": true
   },
   "outputs": [
    {
     "name": "stdout",
     "output_type": "stream",
     "text": [
      "<class 'pandas.core.frame.DataFrame'>\n",
      "RangeIndex: 53902 entries, 0 to 53901\n",
      "Data columns (total 11 columns):\n",
      " #   Column               Non-Null Count  Dtype         \n",
      "---  ------               --------------  -----         \n",
      " 0   user_id              53902 non-null  int64         \n",
      " 1   date                 53902 non-null  datetime64[ns]\n",
      " 2   direction            53902 non-null  object        \n",
      " 3   internal             53785 non-null  object        \n",
      " 4   operator_id          45730 non-null  float64       \n",
      " 5   is_missed_call       53902 non-null  bool          \n",
      " 6   calls_count          53902 non-null  int64         \n",
      " 7   call_duration        53902 non-null  int64         \n",
      " 8   total_call_duration  53902 non-null  int64         \n",
      " 9   month                53902 non-null  int64         \n",
      " 10  minutes              53902 non-null  float64       \n",
      "dtypes: bool(1), datetime64[ns](1), float64(2), int64(5), object(2)\n",
      "memory usage: 4.2+ MB\n"
     ]
    }
   ],
   "source": [
    "data.info()"
   ]
  },
  {
   "cell_type": "code",
   "execution_count": 12,
   "id": "3c4b4f88",
   "metadata": {},
   "outputs": [],
   "source": [
    "data_copy = data.copy() \n",
    "# оставляем копию исходного фрейма\n",
    "# с целью возможности дальнейшего обращения к сходным данным"
   ]
  },
  {
   "cell_type": "markdown",
   "id": "17e201df",
   "metadata": {},
   "source": [
    "Данные приведены к соответствующим типам."
   ]
  },
  {
   "cell_type": "markdown",
   "id": "d5843c1a",
   "metadata": {},
   "source": [
    "### Проверка на дубликаты, принятие решения по удалению"
   ]
  },
  {
   "cell_type": "code",
   "execution_count": 13,
   "id": "71c0ecf6",
   "metadata": {},
   "outputs": [
    {
     "data": {
      "text/plain": [
       "0"
      ]
     },
     "execution_count": 13,
     "metadata": {},
     "output_type": "execute_result"
    }
   ],
   "source": [
    "clients.duplicated(keep=False).sum()"
   ]
  },
  {
   "cell_type": "markdown",
   "id": "dba52a55",
   "metadata": {},
   "source": [
    "В таблице клиентов дубликатов нет"
   ]
  },
  {
   "cell_type": "code",
   "execution_count": 14,
   "id": "aa8920c2",
   "metadata": {},
   "outputs": [
    {
     "data": {
      "text/plain": [
       "9800"
      ]
     },
     "execution_count": 14,
     "metadata": {},
     "output_type": "execute_result"
    }
   ],
   "source": [
    "data['dup'] = data.duplicated(keep=False)\n",
    "dup = data.query('dup == True')\n",
    "len(dup)"
   ]
  },
  {
   "cell_type": "code",
   "execution_count": 15,
   "id": "bbe78fa7",
   "metadata": {},
   "outputs": [
    {
     "data": {
      "text/html": [
       "<div>\n",
       "<style scoped>\n",
       "    .dataframe tbody tr th:only-of-type {\n",
       "        vertical-align: middle;\n",
       "    }\n",
       "\n",
       "    .dataframe tbody tr th {\n",
       "        vertical-align: top;\n",
       "    }\n",
       "\n",
       "    .dataframe thead th {\n",
       "        text-align: right;\n",
       "    }\n",
       "</style>\n",
       "<table border=\"1\" class=\"dataframe\">\n",
       "  <thead>\n",
       "    <tr style=\"text-align: right;\">\n",
       "      <th></th>\n",
       "      <th>user_id</th>\n",
       "      <th>date</th>\n",
       "      <th>direction</th>\n",
       "      <th>internal</th>\n",
       "      <th>operator_id</th>\n",
       "      <th>is_missed_call</th>\n",
       "      <th>calls_count</th>\n",
       "      <th>call_duration</th>\n",
       "      <th>total_call_duration</th>\n",
       "      <th>month</th>\n",
       "      <th>minutes</th>\n",
       "      <th>dup</th>\n",
       "    </tr>\n",
       "  </thead>\n",
       "  <tbody>\n",
       "    <tr>\n",
       "      <th>6</th>\n",
       "      <td>166377</td>\n",
       "      <td>2019-08-05</td>\n",
       "      <td>out</td>\n",
       "      <td>False</td>\n",
       "      <td>880020.0</td>\n",
       "      <td>True</td>\n",
       "      <td>8</td>\n",
       "      <td>0</td>\n",
       "      <td>50</td>\n",
       "      <td>8</td>\n",
       "      <td>1.0</td>\n",
       "      <td>True</td>\n",
       "    </tr>\n",
       "    <tr>\n",
       "      <th>8</th>\n",
       "      <td>166377</td>\n",
       "      <td>2019-08-05</td>\n",
       "      <td>out</td>\n",
       "      <td>False</td>\n",
       "      <td>880020.0</td>\n",
       "      <td>True</td>\n",
       "      <td>8</td>\n",
       "      <td>0</td>\n",
       "      <td>50</td>\n",
       "      <td>8</td>\n",
       "      <td>1.0</td>\n",
       "      <td>True</td>\n",
       "    </tr>\n",
       "    <tr>\n",
       "      <th>27</th>\n",
       "      <td>166377</td>\n",
       "      <td>2019-08-12</td>\n",
       "      <td>in</td>\n",
       "      <td>False</td>\n",
       "      <td>NaN</td>\n",
       "      <td>True</td>\n",
       "      <td>2</td>\n",
       "      <td>0</td>\n",
       "      <td>34</td>\n",
       "      <td>8</td>\n",
       "      <td>1.0</td>\n",
       "      <td>True</td>\n",
       "    </tr>\n",
       "    <tr>\n",
       "      <th>28</th>\n",
       "      <td>166377</td>\n",
       "      <td>2019-08-12</td>\n",
       "      <td>in</td>\n",
       "      <td>False</td>\n",
       "      <td>NaN</td>\n",
       "      <td>True</td>\n",
       "      <td>2</td>\n",
       "      <td>0</td>\n",
       "      <td>34</td>\n",
       "      <td>8</td>\n",
       "      <td>1.0</td>\n",
       "      <td>True</td>\n",
       "    </tr>\n",
       "    <tr>\n",
       "      <th>38</th>\n",
       "      <td>166377</td>\n",
       "      <td>2019-08-14</td>\n",
       "      <td>in</td>\n",
       "      <td>False</td>\n",
       "      <td>NaN</td>\n",
       "      <td>True</td>\n",
       "      <td>1</td>\n",
       "      <td>0</td>\n",
       "      <td>3</td>\n",
       "      <td>8</td>\n",
       "      <td>1.0</td>\n",
       "      <td>True</td>\n",
       "    </tr>\n",
       "    <tr>\n",
       "      <th>43</th>\n",
       "      <td>166377</td>\n",
       "      <td>2019-08-14</td>\n",
       "      <td>out</td>\n",
       "      <td>False</td>\n",
       "      <td>880026.0</td>\n",
       "      <td>False</td>\n",
       "      <td>10</td>\n",
       "      <td>1567</td>\n",
       "      <td>1654</td>\n",
       "      <td>8</td>\n",
       "      <td>28.0</td>\n",
       "      <td>True</td>\n",
       "    </tr>\n",
       "    <tr>\n",
       "      <th>44</th>\n",
       "      <td>166377</td>\n",
       "      <td>2019-08-14</td>\n",
       "      <td>out</td>\n",
       "      <td>False</td>\n",
       "      <td>880026.0</td>\n",
       "      <td>False</td>\n",
       "      <td>10</td>\n",
       "      <td>1567</td>\n",
       "      <td>1654</td>\n",
       "      <td>8</td>\n",
       "      <td>28.0</td>\n",
       "      <td>True</td>\n",
       "    </tr>\n",
       "    <tr>\n",
       "      <th>45</th>\n",
       "      <td>166377</td>\n",
       "      <td>2019-08-14</td>\n",
       "      <td>in</td>\n",
       "      <td>False</td>\n",
       "      <td>NaN</td>\n",
       "      <td>True</td>\n",
       "      <td>1</td>\n",
       "      <td>0</td>\n",
       "      <td>3</td>\n",
       "      <td>8</td>\n",
       "      <td>1.0</td>\n",
       "      <td>True</td>\n",
       "    </tr>\n",
       "    <tr>\n",
       "      <th>46</th>\n",
       "      <td>166377</td>\n",
       "      <td>2019-08-15</td>\n",
       "      <td>out</td>\n",
       "      <td>False</td>\n",
       "      <td>880026.0</td>\n",
       "      <td>False</td>\n",
       "      <td>11</td>\n",
       "      <td>1413</td>\n",
       "      <td>1473</td>\n",
       "      <td>8</td>\n",
       "      <td>25.0</td>\n",
       "      <td>True</td>\n",
       "    </tr>\n",
       "    <tr>\n",
       "      <th>51</th>\n",
       "      <td>166377</td>\n",
       "      <td>2019-08-15</td>\n",
       "      <td>out</td>\n",
       "      <td>False</td>\n",
       "      <td>880026.0</td>\n",
       "      <td>False</td>\n",
       "      <td>11</td>\n",
       "      <td>1413</td>\n",
       "      <td>1473</td>\n",
       "      <td>8</td>\n",
       "      <td>25.0</td>\n",
       "      <td>True</td>\n",
       "    </tr>\n",
       "    <tr>\n",
       "      <th>58</th>\n",
       "      <td>166377</td>\n",
       "      <td>2019-08-19</td>\n",
       "      <td>out</td>\n",
       "      <td>False</td>\n",
       "      <td>880026.0</td>\n",
       "      <td>False</td>\n",
       "      <td>14</td>\n",
       "      <td>1519</td>\n",
       "      <td>1598</td>\n",
       "      <td>8</td>\n",
       "      <td>27.0</td>\n",
       "      <td>True</td>\n",
       "    </tr>\n",
       "    <tr>\n",
       "      <th>62</th>\n",
       "      <td>166377</td>\n",
       "      <td>2019-08-19</td>\n",
       "      <td>out</td>\n",
       "      <td>False</td>\n",
       "      <td>880026.0</td>\n",
       "      <td>False</td>\n",
       "      <td>14</td>\n",
       "      <td>1519</td>\n",
       "      <td>1598</td>\n",
       "      <td>8</td>\n",
       "      <td>27.0</td>\n",
       "      <td>True</td>\n",
       "    </tr>\n",
       "    <tr>\n",
       "      <th>72</th>\n",
       "      <td>166377</td>\n",
       "      <td>2019-08-22</td>\n",
       "      <td>out</td>\n",
       "      <td>False</td>\n",
       "      <td>880026.0</td>\n",
       "      <td>True</td>\n",
       "      <td>6</td>\n",
       "      <td>0</td>\n",
       "      <td>55</td>\n",
       "      <td>8</td>\n",
       "      <td>1.0</td>\n",
       "      <td>True</td>\n",
       "    </tr>\n",
       "    <tr>\n",
       "      <th>78</th>\n",
       "      <td>166377</td>\n",
       "      <td>2019-08-22</td>\n",
       "      <td>out</td>\n",
       "      <td>False</td>\n",
       "      <td>880026.0</td>\n",
       "      <td>True</td>\n",
       "      <td>6</td>\n",
       "      <td>0</td>\n",
       "      <td>55</td>\n",
       "      <td>8</td>\n",
       "      <td>1.0</td>\n",
       "      <td>True</td>\n",
       "    </tr>\n",
       "    <tr>\n",
       "      <th>79</th>\n",
       "      <td>166377</td>\n",
       "      <td>2019-08-23</td>\n",
       "      <td>in</td>\n",
       "      <td>False</td>\n",
       "      <td>880026.0</td>\n",
       "      <td>False</td>\n",
       "      <td>1</td>\n",
       "      <td>45</td>\n",
       "      <td>52</td>\n",
       "      <td>8</td>\n",
       "      <td>1.0</td>\n",
       "      <td>True</td>\n",
       "    </tr>\n",
       "    <tr>\n",
       "      <th>84</th>\n",
       "      <td>166377</td>\n",
       "      <td>2019-08-23</td>\n",
       "      <td>out</td>\n",
       "      <td>False</td>\n",
       "      <td>880026.0</td>\n",
       "      <td>False</td>\n",
       "      <td>43</td>\n",
       "      <td>3435</td>\n",
       "      <td>3654</td>\n",
       "      <td>8</td>\n",
       "      <td>61.0</td>\n",
       "      <td>True</td>\n",
       "    </tr>\n",
       "    <tr>\n",
       "      <th>86</th>\n",
       "      <td>166377</td>\n",
       "      <td>2019-08-23</td>\n",
       "      <td>out</td>\n",
       "      <td>False</td>\n",
       "      <td>880026.0</td>\n",
       "      <td>False</td>\n",
       "      <td>43</td>\n",
       "      <td>3435</td>\n",
       "      <td>3654</td>\n",
       "      <td>8</td>\n",
       "      <td>61.0</td>\n",
       "      <td>True</td>\n",
       "    </tr>\n",
       "    <tr>\n",
       "      <th>87</th>\n",
       "      <td>166377</td>\n",
       "      <td>2019-08-23</td>\n",
       "      <td>in</td>\n",
       "      <td>False</td>\n",
       "      <td>880026.0</td>\n",
       "      <td>False</td>\n",
       "      <td>1</td>\n",
       "      <td>45</td>\n",
       "      <td>52</td>\n",
       "      <td>8</td>\n",
       "      <td>1.0</td>\n",
       "      <td>True</td>\n",
       "    </tr>\n",
       "    <tr>\n",
       "      <th>99</th>\n",
       "      <td>166377</td>\n",
       "      <td>2019-08-27</td>\n",
       "      <td>out</td>\n",
       "      <td>False</td>\n",
       "      <td>880028.0</td>\n",
       "      <td>False</td>\n",
       "      <td>20</td>\n",
       "      <td>2784</td>\n",
       "      <td>2979</td>\n",
       "      <td>8</td>\n",
       "      <td>50.0</td>\n",
       "      <td>True</td>\n",
       "    </tr>\n",
       "    <tr>\n",
       "      <th>100</th>\n",
       "      <td>166377</td>\n",
       "      <td>2019-08-27</td>\n",
       "      <td>out</td>\n",
       "      <td>False</td>\n",
       "      <td>880028.0</td>\n",
       "      <td>False</td>\n",
       "      <td>20</td>\n",
       "      <td>2784</td>\n",
       "      <td>2979</td>\n",
       "      <td>8</td>\n",
       "      <td>50.0</td>\n",
       "      <td>True</td>\n",
       "    </tr>\n",
       "  </tbody>\n",
       "</table>\n",
       "</div>"
      ],
      "text/plain": [
       "     user_id       date direction internal  operator_id  is_missed_call  \\\n",
       "6     166377 2019-08-05       out    False     880020.0            True   \n",
       "8     166377 2019-08-05       out    False     880020.0            True   \n",
       "27    166377 2019-08-12        in    False          NaN            True   \n",
       "28    166377 2019-08-12        in    False          NaN            True   \n",
       "38    166377 2019-08-14        in    False          NaN            True   \n",
       "43    166377 2019-08-14       out    False     880026.0           False   \n",
       "44    166377 2019-08-14       out    False     880026.0           False   \n",
       "45    166377 2019-08-14        in    False          NaN            True   \n",
       "46    166377 2019-08-15       out    False     880026.0           False   \n",
       "51    166377 2019-08-15       out    False     880026.0           False   \n",
       "58    166377 2019-08-19       out    False     880026.0           False   \n",
       "62    166377 2019-08-19       out    False     880026.0           False   \n",
       "72    166377 2019-08-22       out    False     880026.0            True   \n",
       "78    166377 2019-08-22       out    False     880026.0            True   \n",
       "79    166377 2019-08-23        in    False     880026.0           False   \n",
       "84    166377 2019-08-23       out    False     880026.0           False   \n",
       "86    166377 2019-08-23       out    False     880026.0           False   \n",
       "87    166377 2019-08-23        in    False     880026.0           False   \n",
       "99    166377 2019-08-27       out    False     880028.0           False   \n",
       "100   166377 2019-08-27       out    False     880028.0           False   \n",
       "\n",
       "     calls_count  call_duration  total_call_duration  month  minutes   dup  \n",
       "6              8              0                   50      8      1.0  True  \n",
       "8              8              0                   50      8      1.0  True  \n",
       "27             2              0                   34      8      1.0  True  \n",
       "28             2              0                   34      8      1.0  True  \n",
       "38             1              0                    3      8      1.0  True  \n",
       "43            10           1567                 1654      8     28.0  True  \n",
       "44            10           1567                 1654      8     28.0  True  \n",
       "45             1              0                    3      8      1.0  True  \n",
       "46            11           1413                 1473      8     25.0  True  \n",
       "51            11           1413                 1473      8     25.0  True  \n",
       "58            14           1519                 1598      8     27.0  True  \n",
       "62            14           1519                 1598      8     27.0  True  \n",
       "72             6              0                   55      8      1.0  True  \n",
       "78             6              0                   55      8      1.0  True  \n",
       "79             1             45                   52      8      1.0  True  \n",
       "84            43           3435                 3654      8     61.0  True  \n",
       "86            43           3435                 3654      8     61.0  True  \n",
       "87             1             45                   52      8      1.0  True  \n",
       "99            20           2784                 2979      8     50.0  True  \n",
       "100           20           2784                 2979      8     50.0  True  "
      ]
     },
     "execution_count": 15,
     "metadata": {},
     "output_type": "execute_result"
    }
   ],
   "source": [
    "dup.head(20)"
   ]
  },
  {
   "cell_type": "markdown",
   "id": "622a66a9",
   "metadata": {
    "scrolled": true
   },
   "source": [
    "Удалим полные дубликаты (4900 строк)"
   ]
  },
  {
   "cell_type": "code",
   "execution_count": 16,
   "id": "b950eba4",
   "metadata": {},
   "outputs": [],
   "source": [
    "data = data.drop_duplicates().reset_index(drop=True)"
   ]
  },
  {
   "cell_type": "code",
   "execution_count": 17,
   "id": "bb166f15",
   "metadata": {},
   "outputs": [
    {
     "name": "stdout",
     "output_type": "stream",
     "text": [
      "<class 'pandas.core.frame.DataFrame'>\n",
      "RangeIndex: 49002 entries, 0 to 49001\n",
      "Data columns (total 12 columns):\n",
      " #   Column               Non-Null Count  Dtype         \n",
      "---  ------               --------------  -----         \n",
      " 0   user_id              49002 non-null  int64         \n",
      " 1   date                 49002 non-null  datetime64[ns]\n",
      " 2   direction            49002 non-null  object        \n",
      " 3   internal             48892 non-null  object        \n",
      " 4   operator_id          41546 non-null  float64       \n",
      " 5   is_missed_call       49002 non-null  bool          \n",
      " 6   calls_count          49002 non-null  int64         \n",
      " 7   call_duration        49002 non-null  int64         \n",
      " 8   total_call_duration  49002 non-null  int64         \n",
      " 9   month                49002 non-null  int64         \n",
      " 10  minutes              49002 non-null  float64       \n",
      " 11  dup                  49002 non-null  bool          \n",
      "dtypes: bool(2), datetime64[ns](1), float64(2), int64(5), object(2)\n",
      "memory usage: 3.8+ MB\n"
     ]
    }
   ],
   "source": [
    "data.info()"
   ]
  },
  {
   "cell_type": "markdown",
   "id": "995a6367",
   "metadata": {},
   "source": [
    "### Проверка присутствия всех user_id в списке клиентов"
   ]
  },
  {
   "cell_type": "code",
   "execution_count": 18,
   "id": "c0d25c3f",
   "metadata": {},
   "outputs": [
    {
     "name": "stdout",
     "output_type": "stream",
     "text": [
      "[]\n"
     ]
    }
   ],
   "source": [
    "users1 = data['user_id'].unique()\n",
    "users2 = clients['user_id'].unique()\n",
    "def difference (list1, list2):\n",
    "    new = []\n",
    "    for i in list1:\n",
    "        if i not in list2:\n",
    "            new.append(i)\n",
    "    print(new)\n",
    "difference(users1,users2)"
   ]
  },
  {
   "cell_type": "markdown",
   "id": "8f84cfd3",
   "metadata": {},
   "source": [
    "Все пользователи присутствуют"
   ]
  },
  {
   "cell_type": "markdown",
   "id": "bc3a8c75",
   "metadata": {},
   "source": [
    "### Проверка правильности заполнения поля total_call_duration. (подтверждение того, что данные в секундах). Проверка длительности работы оператора (не более 12 часов в сутки)"
   ]
  },
  {
   "cell_type": "code",
   "execution_count": 19,
   "id": "541f8226",
   "metadata": {},
   "outputs": [
    {
     "data": {
      "text/html": [
       "<div>\n",
       "<style scoped>\n",
       "    .dataframe tbody tr th:only-of-type {\n",
       "        vertical-align: middle;\n",
       "    }\n",
       "\n",
       "    .dataframe tbody tr th {\n",
       "        vertical-align: top;\n",
       "    }\n",
       "\n",
       "    .dataframe thead th {\n",
       "        text-align: right;\n",
       "    }\n",
       "</style>\n",
       "<table border=\"1\" class=\"dataframe\">\n",
       "  <thead>\n",
       "    <tr style=\"text-align: right;\">\n",
       "      <th></th>\n",
       "      <th>user_id</th>\n",
       "      <th>operator_id</th>\n",
       "      <th>calls_count</th>\n",
       "      <th>call_duration</th>\n",
       "      <th>total_call_duration</th>\n",
       "      <th>month</th>\n",
       "      <th>minutes</th>\n",
       "    </tr>\n",
       "  </thead>\n",
       "  <tbody>\n",
       "    <tr>\n",
       "      <th>count</th>\n",
       "      <td>49002.000000</td>\n",
       "      <td>41546.000000</td>\n",
       "      <td>49002.000000</td>\n",
       "      <td>49002.000000</td>\n",
       "      <td>49002.000000</td>\n",
       "      <td>49002.000000</td>\n",
       "      <td>49002.000000</td>\n",
       "    </tr>\n",
       "    <tr>\n",
       "      <th>mean</th>\n",
       "      <td>167294.892759</td>\n",
       "      <td>916523.315409</td>\n",
       "      <td>16.462777</td>\n",
       "      <td>866.282091</td>\n",
       "      <td>1156.558202</td>\n",
       "      <td>10.192380</td>\n",
       "      <td>19.791621</td>\n",
       "    </tr>\n",
       "    <tr>\n",
       "      <th>std</th>\n",
       "      <td>598.558965</td>\n",
       "      <td>21230.041008</td>\n",
       "      <td>63.604098</td>\n",
       "      <td>3775.503352</td>\n",
       "      <td>4451.473661</td>\n",
       "      <td>0.852065</td>\n",
       "      <td>74.185227</td>\n",
       "    </tr>\n",
       "    <tr>\n",
       "      <th>min</th>\n",
       "      <td>166377.000000</td>\n",
       "      <td>879896.000000</td>\n",
       "      <td>1.000000</td>\n",
       "      <td>0.000000</td>\n",
       "      <td>0.000000</td>\n",
       "      <td>8.000000</td>\n",
       "      <td>0.000000</td>\n",
       "    </tr>\n",
       "    <tr>\n",
       "      <th>25%</th>\n",
       "      <td>166782.000000</td>\n",
       "      <td>900790.500000</td>\n",
       "      <td>1.000000</td>\n",
       "      <td>0.000000</td>\n",
       "      <td>46.000000</td>\n",
       "      <td>10.000000</td>\n",
       "      <td>1.000000</td>\n",
       "    </tr>\n",
       "    <tr>\n",
       "      <th>50%</th>\n",
       "      <td>167158.000000</td>\n",
       "      <td>913938.000000</td>\n",
       "      <td>4.000000</td>\n",
       "      <td>37.000000</td>\n",
       "      <td>208.000000</td>\n",
       "      <td>10.000000</td>\n",
       "      <td>4.000000</td>\n",
       "    </tr>\n",
       "    <tr>\n",
       "      <th>75%</th>\n",
       "      <td>167819.000000</td>\n",
       "      <td>937708.000000</td>\n",
       "      <td>12.000000</td>\n",
       "      <td>570.000000</td>\n",
       "      <td>901.000000</td>\n",
       "      <td>11.000000</td>\n",
       "      <td>16.000000</td>\n",
       "    </tr>\n",
       "    <tr>\n",
       "      <th>max</th>\n",
       "      <td>168606.000000</td>\n",
       "      <td>973286.000000</td>\n",
       "      <td>4817.000000</td>\n",
       "      <td>144395.000000</td>\n",
       "      <td>166155.000000</td>\n",
       "      <td>11.000000</td>\n",
       "      <td>2770.000000</td>\n",
       "    </tr>\n",
       "  </tbody>\n",
       "</table>\n",
       "</div>"
      ],
      "text/plain": [
       "             user_id    operator_id   calls_count  call_duration  \\\n",
       "count   49002.000000   41546.000000  49002.000000   49002.000000   \n",
       "mean   167294.892759  916523.315409     16.462777     866.282091   \n",
       "std       598.558965   21230.041008     63.604098    3775.503352   \n",
       "min    166377.000000  879896.000000      1.000000       0.000000   \n",
       "25%    166782.000000  900790.500000      1.000000       0.000000   \n",
       "50%    167158.000000  913938.000000      4.000000      37.000000   \n",
       "75%    167819.000000  937708.000000     12.000000     570.000000   \n",
       "max    168606.000000  973286.000000   4817.000000  144395.000000   \n",
       "\n",
       "       total_call_duration         month       minutes  \n",
       "count         49002.000000  49002.000000  49002.000000  \n",
       "mean           1156.558202     10.192380     19.791621  \n",
       "std            4451.473661      0.852065     74.185227  \n",
       "min               0.000000      8.000000      0.000000  \n",
       "25%              46.000000     10.000000      1.000000  \n",
       "50%             208.000000     10.000000      4.000000  \n",
       "75%             901.000000     11.000000     16.000000  \n",
       "max          166155.000000     11.000000   2770.000000  "
      ]
     },
     "execution_count": 19,
     "metadata": {},
     "output_type": "execute_result"
    }
   ],
   "source": [
    "data.describe()"
   ]
  },
  {
   "cell_type": "code",
   "execution_count": 20,
   "id": "4e737708",
   "metadata": {},
   "outputs": [
    {
     "data": {
      "text/plain": [
       "43200"
      ]
     },
     "execution_count": 20,
     "metadata": {},
     "output_type": "execute_result"
    }
   ],
   "source": [
    "# максимум трудовой день у одного оператора может быть не больше чем:\n",
    "12*60*60 # секунд"
   ]
  },
  {
   "cell_type": "code",
   "execution_count": 21,
   "id": "ea089f31",
   "metadata": {},
   "outputs": [
    {
     "name": "stdout",
     "output_type": "stream",
     "text": [
      "26\n",
      "[166582]\n",
      "[885876.]\n"
     ]
    }
   ],
   "source": [
    "too_long = data.query('total_call_duration > 86400')\n",
    "print(len(too_long))\n",
    "print(too_long['user_id'].unique())\n",
    "print(too_long['operator_id'].unique())"
   ]
  },
  {
   "cell_type": "code",
   "execution_count": 22,
   "id": "7385572f",
   "metadata": {},
   "outputs": [
    {
     "data": {
      "text/html": [
       "<div>\n",
       "<style scoped>\n",
       "    .dataframe tbody tr th:only-of-type {\n",
       "        vertical-align: middle;\n",
       "    }\n",
       "\n",
       "    .dataframe tbody tr th {\n",
       "        vertical-align: top;\n",
       "    }\n",
       "\n",
       "    .dataframe thead th {\n",
       "        text-align: right;\n",
       "    }\n",
       "</style>\n",
       "<table border=\"1\" class=\"dataframe\">\n",
       "  <thead>\n",
       "    <tr style=\"text-align: right;\">\n",
       "      <th></th>\n",
       "      <th>user_id</th>\n",
       "      <th>date</th>\n",
       "      <th>direction</th>\n",
       "      <th>internal</th>\n",
       "      <th>operator_id</th>\n",
       "      <th>is_missed_call</th>\n",
       "      <th>calls_count</th>\n",
       "      <th>call_duration</th>\n",
       "      <th>total_call_duration</th>\n",
       "      <th>month</th>\n",
       "      <th>minutes</th>\n",
       "      <th>dup</th>\n",
       "    </tr>\n",
       "  </thead>\n",
       "  <tbody>\n",
       "    <tr>\n",
       "      <th>6135</th>\n",
       "      <td>166582</td>\n",
       "      <td>2019-09-02</td>\n",
       "      <td>out</td>\n",
       "      <td>False</td>\n",
       "      <td>885876.0</td>\n",
       "      <td>False</td>\n",
       "      <td>1018</td>\n",
       "      <td>90095</td>\n",
       "      <td>108665</td>\n",
       "      <td>9</td>\n",
       "      <td>1812.0</td>\n",
       "      <td>False</td>\n",
       "    </tr>\n",
       "    <tr>\n",
       "      <th>6143</th>\n",
       "      <td>166582</td>\n",
       "      <td>2019-09-03</td>\n",
       "      <td>out</td>\n",
       "      <td>False</td>\n",
       "      <td>885876.0</td>\n",
       "      <td>False</td>\n",
       "      <td>1137</td>\n",
       "      <td>87700</td>\n",
       "      <td>109600</td>\n",
       "      <td>9</td>\n",
       "      <td>1827.0</td>\n",
       "      <td>False</td>\n",
       "    </tr>\n",
       "    <tr>\n",
       "      <th>6150</th>\n",
       "      <td>166582</td>\n",
       "      <td>2019-09-04</td>\n",
       "      <td>out</td>\n",
       "      <td>False</td>\n",
       "      <td>885876.0</td>\n",
       "      <td>False</td>\n",
       "      <td>863</td>\n",
       "      <td>91813</td>\n",
       "      <td>107524</td>\n",
       "      <td>9</td>\n",
       "      <td>1793.0</td>\n",
       "      <td>False</td>\n",
       "    </tr>\n",
       "    <tr>\n",
       "      <th>6157</th>\n",
       "      <td>166582</td>\n",
       "      <td>2019-09-05</td>\n",
       "      <td>out</td>\n",
       "      <td>False</td>\n",
       "      <td>885876.0</td>\n",
       "      <td>False</td>\n",
       "      <td>602</td>\n",
       "      <td>109032</td>\n",
       "      <td>120064</td>\n",
       "      <td>9</td>\n",
       "      <td>2002.0</td>\n",
       "      <td>False</td>\n",
       "    </tr>\n",
       "    <tr>\n",
       "      <th>6174</th>\n",
       "      <td>166582</td>\n",
       "      <td>2019-09-06</td>\n",
       "      <td>out</td>\n",
       "      <td>False</td>\n",
       "      <td>885876.0</td>\n",
       "      <td>False</td>\n",
       "      <td>584</td>\n",
       "      <td>87556</td>\n",
       "      <td>98711</td>\n",
       "      <td>9</td>\n",
       "      <td>1646.0</td>\n",
       "      <td>False</td>\n",
       "    </tr>\n",
       "    <tr>\n",
       "      <th>6192</th>\n",
       "      <td>166582</td>\n",
       "      <td>2019-09-09</td>\n",
       "      <td>out</td>\n",
       "      <td>False</td>\n",
       "      <td>885876.0</td>\n",
       "      <td>False</td>\n",
       "      <td>1138</td>\n",
       "      <td>121093</td>\n",
       "      <td>141930</td>\n",
       "      <td>9</td>\n",
       "      <td>2366.0</td>\n",
       "      <td>False</td>\n",
       "    </tr>\n",
       "    <tr>\n",
       "      <th>6200</th>\n",
       "      <td>166582</td>\n",
       "      <td>2019-09-10</td>\n",
       "      <td>out</td>\n",
       "      <td>False</td>\n",
       "      <td>885876.0</td>\n",
       "      <td>False</td>\n",
       "      <td>1053</td>\n",
       "      <td>80782</td>\n",
       "      <td>100139</td>\n",
       "      <td>9</td>\n",
       "      <td>1669.0</td>\n",
       "      <td>True</td>\n",
       "    </tr>\n",
       "    <tr>\n",
       "      <th>6208</th>\n",
       "      <td>166582</td>\n",
       "      <td>2019-09-11</td>\n",
       "      <td>out</td>\n",
       "      <td>False</td>\n",
       "      <td>885876.0</td>\n",
       "      <td>False</td>\n",
       "      <td>946</td>\n",
       "      <td>115057</td>\n",
       "      <td>132708</td>\n",
       "      <td>9</td>\n",
       "      <td>2212.0</td>\n",
       "      <td>False</td>\n",
       "    </tr>\n",
       "    <tr>\n",
       "      <th>6216</th>\n",
       "      <td>166582</td>\n",
       "      <td>2019-09-12</td>\n",
       "      <td>out</td>\n",
       "      <td>False</td>\n",
       "      <td>885876.0</td>\n",
       "      <td>False</td>\n",
       "      <td>696</td>\n",
       "      <td>125286</td>\n",
       "      <td>138643</td>\n",
       "      <td>9</td>\n",
       "      <td>2311.0</td>\n",
       "      <td>False</td>\n",
       "    </tr>\n",
       "    <tr>\n",
       "      <th>6227</th>\n",
       "      <td>166582</td>\n",
       "      <td>2019-09-13</td>\n",
       "      <td>out</td>\n",
       "      <td>False</td>\n",
       "      <td>885876.0</td>\n",
       "      <td>False</td>\n",
       "      <td>652</td>\n",
       "      <td>98748</td>\n",
       "      <td>111703</td>\n",
       "      <td>9</td>\n",
       "      <td>1862.0</td>\n",
       "      <td>False</td>\n",
       "    </tr>\n",
       "    <tr>\n",
       "      <th>6248</th>\n",
       "      <td>166582</td>\n",
       "      <td>2019-09-16</td>\n",
       "      <td>out</td>\n",
       "      <td>False</td>\n",
       "      <td>885876.0</td>\n",
       "      <td>False</td>\n",
       "      <td>878</td>\n",
       "      <td>71910</td>\n",
       "      <td>87712</td>\n",
       "      <td>9</td>\n",
       "      <td>1462.0</td>\n",
       "      <td>False</td>\n",
       "    </tr>\n",
       "    <tr>\n",
       "      <th>6252</th>\n",
       "      <td>166582</td>\n",
       "      <td>2019-09-17</td>\n",
       "      <td>out</td>\n",
       "      <td>False</td>\n",
       "      <td>885876.0</td>\n",
       "      <td>False</td>\n",
       "      <td>1375</td>\n",
       "      <td>100454</td>\n",
       "      <td>124787</td>\n",
       "      <td>9</td>\n",
       "      <td>2080.0</td>\n",
       "      <td>False</td>\n",
       "    </tr>\n",
       "    <tr>\n",
       "      <th>6266</th>\n",
       "      <td>166582</td>\n",
       "      <td>2019-09-18</td>\n",
       "      <td>out</td>\n",
       "      <td>False</td>\n",
       "      <td>885876.0</td>\n",
       "      <td>False</td>\n",
       "      <td>1013</td>\n",
       "      <td>121664</td>\n",
       "      <td>140050</td>\n",
       "      <td>9</td>\n",
       "      <td>2335.0</td>\n",
       "      <td>False</td>\n",
       "    </tr>\n",
       "    <tr>\n",
       "      <th>6267</th>\n",
       "      <td>166582</td>\n",
       "      <td>2019-09-19</td>\n",
       "      <td>out</td>\n",
       "      <td>False</td>\n",
       "      <td>885876.0</td>\n",
       "      <td>False</td>\n",
       "      <td>673</td>\n",
       "      <td>108207</td>\n",
       "      <td>120596</td>\n",
       "      <td>9</td>\n",
       "      <td>2010.0</td>\n",
       "      <td>False</td>\n",
       "    </tr>\n",
       "    <tr>\n",
       "      <th>6278</th>\n",
       "      <td>166582</td>\n",
       "      <td>2019-09-20</td>\n",
       "      <td>out</td>\n",
       "      <td>False</td>\n",
       "      <td>885876.0</td>\n",
       "      <td>False</td>\n",
       "      <td>737</td>\n",
       "      <td>114463</td>\n",
       "      <td>127868</td>\n",
       "      <td>9</td>\n",
       "      <td>2132.0</td>\n",
       "      <td>False</td>\n",
       "    </tr>\n",
       "    <tr>\n",
       "      <th>6298</th>\n",
       "      <td>166582</td>\n",
       "      <td>2019-09-23</td>\n",
       "      <td>out</td>\n",
       "      <td>False</td>\n",
       "      <td>885876.0</td>\n",
       "      <td>False</td>\n",
       "      <td>1436</td>\n",
       "      <td>103526</td>\n",
       "      <td>129484</td>\n",
       "      <td>9</td>\n",
       "      <td>2159.0</td>\n",
       "      <td>False</td>\n",
       "    </tr>\n",
       "    <tr>\n",
       "      <th>6318</th>\n",
       "      <td>166582</td>\n",
       "      <td>2019-09-25</td>\n",
       "      <td>out</td>\n",
       "      <td>False</td>\n",
       "      <td>885876.0</td>\n",
       "      <td>False</td>\n",
       "      <td>1230</td>\n",
       "      <td>144395</td>\n",
       "      <td>166155</td>\n",
       "      <td>9</td>\n",
       "      <td>2770.0</td>\n",
       "      <td>False</td>\n",
       "    </tr>\n",
       "    <tr>\n",
       "      <th>6322</th>\n",
       "      <td>166582</td>\n",
       "      <td>2019-09-26</td>\n",
       "      <td>out</td>\n",
       "      <td>False</td>\n",
       "      <td>885876.0</td>\n",
       "      <td>False</td>\n",
       "      <td>843</td>\n",
       "      <td>132206</td>\n",
       "      <td>146903</td>\n",
       "      <td>9</td>\n",
       "      <td>2449.0</td>\n",
       "      <td>False</td>\n",
       "    </tr>\n",
       "    <tr>\n",
       "      <th>6328</th>\n",
       "      <td>166582</td>\n",
       "      <td>2019-09-27</td>\n",
       "      <td>out</td>\n",
       "      <td>False</td>\n",
       "      <td>885876.0</td>\n",
       "      <td>False</td>\n",
       "      <td>754</td>\n",
       "      <td>114325</td>\n",
       "      <td>127751</td>\n",
       "      <td>9</td>\n",
       "      <td>2130.0</td>\n",
       "      <td>False</td>\n",
       "    </tr>\n",
       "    <tr>\n",
       "      <th>6346</th>\n",
       "      <td>166582</td>\n",
       "      <td>2019-09-30</td>\n",
       "      <td>out</td>\n",
       "      <td>False</td>\n",
       "      <td>885876.0</td>\n",
       "      <td>False</td>\n",
       "      <td>1063</td>\n",
       "      <td>93800</td>\n",
       "      <td>112572</td>\n",
       "      <td>9</td>\n",
       "      <td>1877.0</td>\n",
       "      <td>False</td>\n",
       "    </tr>\n",
       "    <tr>\n",
       "      <th>6352</th>\n",
       "      <td>166582</td>\n",
       "      <td>2019-10-01</td>\n",
       "      <td>out</td>\n",
       "      <td>False</td>\n",
       "      <td>885876.0</td>\n",
       "      <td>False</td>\n",
       "      <td>1480</td>\n",
       "      <td>86910</td>\n",
       "      <td>113843</td>\n",
       "      <td>10</td>\n",
       "      <td>1898.0</td>\n",
       "      <td>False</td>\n",
       "    </tr>\n",
       "    <tr>\n",
       "      <th>6367</th>\n",
       "      <td>166582</td>\n",
       "      <td>2019-10-02</td>\n",
       "      <td>out</td>\n",
       "      <td>False</td>\n",
       "      <td>885876.0</td>\n",
       "      <td>False</td>\n",
       "      <td>995</td>\n",
       "      <td>120175</td>\n",
       "      <td>137324</td>\n",
       "      <td>10</td>\n",
       "      <td>2289.0</td>\n",
       "      <td>False</td>\n",
       "    </tr>\n",
       "    <tr>\n",
       "      <th>6375</th>\n",
       "      <td>166582</td>\n",
       "      <td>2019-10-03</td>\n",
       "      <td>out</td>\n",
       "      <td>False</td>\n",
       "      <td>885876.0</td>\n",
       "      <td>False</td>\n",
       "      <td>314</td>\n",
       "      <td>94237</td>\n",
       "      <td>99839</td>\n",
       "      <td>10</td>\n",
       "      <td>1664.0</td>\n",
       "      <td>False</td>\n",
       "    </tr>\n",
       "    <tr>\n",
       "      <th>6389</th>\n",
       "      <td>166582</td>\n",
       "      <td>2019-10-04</td>\n",
       "      <td>out</td>\n",
       "      <td>False</td>\n",
       "      <td>885876.0</td>\n",
       "      <td>False</td>\n",
       "      <td>277</td>\n",
       "      <td>83560</td>\n",
       "      <td>87883</td>\n",
       "      <td>10</td>\n",
       "      <td>1465.0</td>\n",
       "      <td>False</td>\n",
       "    </tr>\n",
       "    <tr>\n",
       "      <th>6434</th>\n",
       "      <td>166582</td>\n",
       "      <td>2019-10-09</td>\n",
       "      <td>out</td>\n",
       "      <td>False</td>\n",
       "      <td>885876.0</td>\n",
       "      <td>False</td>\n",
       "      <td>696</td>\n",
       "      <td>117177</td>\n",
       "      <td>129395</td>\n",
       "      <td>10</td>\n",
       "      <td>2157.0</td>\n",
       "      <td>False</td>\n",
       "    </tr>\n",
       "    <tr>\n",
       "      <th>6454</th>\n",
       "      <td>166582</td>\n",
       "      <td>2019-10-10</td>\n",
       "      <td>out</td>\n",
       "      <td>False</td>\n",
       "      <td>885876.0</td>\n",
       "      <td>False</td>\n",
       "      <td>348</td>\n",
       "      <td>89576</td>\n",
       "      <td>95440</td>\n",
       "      <td>10</td>\n",
       "      <td>1591.0</td>\n",
       "      <td>False</td>\n",
       "    </tr>\n",
       "  </tbody>\n",
       "</table>\n",
       "</div>"
      ],
      "text/plain": [
       "      user_id       date direction internal  operator_id  is_missed_call  \\\n",
       "6135   166582 2019-09-02       out    False     885876.0           False   \n",
       "6143   166582 2019-09-03       out    False     885876.0           False   \n",
       "6150   166582 2019-09-04       out    False     885876.0           False   \n",
       "6157   166582 2019-09-05       out    False     885876.0           False   \n",
       "6174   166582 2019-09-06       out    False     885876.0           False   \n",
       "6192   166582 2019-09-09       out    False     885876.0           False   \n",
       "6200   166582 2019-09-10       out    False     885876.0           False   \n",
       "6208   166582 2019-09-11       out    False     885876.0           False   \n",
       "6216   166582 2019-09-12       out    False     885876.0           False   \n",
       "6227   166582 2019-09-13       out    False     885876.0           False   \n",
       "6248   166582 2019-09-16       out    False     885876.0           False   \n",
       "6252   166582 2019-09-17       out    False     885876.0           False   \n",
       "6266   166582 2019-09-18       out    False     885876.0           False   \n",
       "6267   166582 2019-09-19       out    False     885876.0           False   \n",
       "6278   166582 2019-09-20       out    False     885876.0           False   \n",
       "6298   166582 2019-09-23       out    False     885876.0           False   \n",
       "6318   166582 2019-09-25       out    False     885876.0           False   \n",
       "6322   166582 2019-09-26       out    False     885876.0           False   \n",
       "6328   166582 2019-09-27       out    False     885876.0           False   \n",
       "6346   166582 2019-09-30       out    False     885876.0           False   \n",
       "6352   166582 2019-10-01       out    False     885876.0           False   \n",
       "6367   166582 2019-10-02       out    False     885876.0           False   \n",
       "6375   166582 2019-10-03       out    False     885876.0           False   \n",
       "6389   166582 2019-10-04       out    False     885876.0           False   \n",
       "6434   166582 2019-10-09       out    False     885876.0           False   \n",
       "6454   166582 2019-10-10       out    False     885876.0           False   \n",
       "\n",
       "      calls_count  call_duration  total_call_duration  month  minutes    dup  \n",
       "6135         1018          90095               108665      9   1812.0  False  \n",
       "6143         1137          87700               109600      9   1827.0  False  \n",
       "6150          863          91813               107524      9   1793.0  False  \n",
       "6157          602         109032               120064      9   2002.0  False  \n",
       "6174          584          87556                98711      9   1646.0  False  \n",
       "6192         1138         121093               141930      9   2366.0  False  \n",
       "6200         1053          80782               100139      9   1669.0   True  \n",
       "6208          946         115057               132708      9   2212.0  False  \n",
       "6216          696         125286               138643      9   2311.0  False  \n",
       "6227          652          98748               111703      9   1862.0  False  \n",
       "6248          878          71910                87712      9   1462.0  False  \n",
       "6252         1375         100454               124787      9   2080.0  False  \n",
       "6266         1013         121664               140050      9   2335.0  False  \n",
       "6267          673         108207               120596      9   2010.0  False  \n",
       "6278          737         114463               127868      9   2132.0  False  \n",
       "6298         1436         103526               129484      9   2159.0  False  \n",
       "6318         1230         144395               166155      9   2770.0  False  \n",
       "6322          843         132206               146903      9   2449.0  False  \n",
       "6328          754         114325               127751      9   2130.0  False  \n",
       "6346         1063          93800               112572      9   1877.0  False  \n",
       "6352         1480          86910               113843     10   1898.0  False  \n",
       "6367          995         120175               137324     10   2289.0  False  \n",
       "6375          314          94237                99839     10   1664.0  False  \n",
       "6389          277          83560                87883     10   1465.0  False  \n",
       "6434          696         117177               129395     10   2157.0  False  \n",
       "6454          348          89576                95440     10   1591.0  False  "
      ]
     },
     "execution_count": 22,
     "metadata": {},
     "output_type": "execute_result"
    }
   ],
   "source": [
    "too_long"
   ]
  },
  {
   "cell_type": "markdown",
   "id": "7cd98cda",
   "metadata": {},
   "source": [
    "Проанализировав данные можно заметить, что всего 3 пользователя и всего 6 операторов имеют превышающий установленный график работы. В сутках всего 86400 секунд. поэтому цифра точно не может быть больше."
   ]
  },
  {
   "cell_type": "markdown",
   "id": "8eb38713",
   "metadata": {},
   "source": [
    "Один пользователь и один оператор имею зашкаливающие показатели. Также у данного оператора нереальное для одних суток работы показатели количества звонков.\n",
    "Передадим данную информацию заказчику и исключим данные значения из базы."
   ]
  },
  {
   "cell_type": "markdown",
   "id": "37410b7e",
   "metadata": {},
   "source": [
    "Пользователь 166582  (operator_id 885876). Вывести отдельно данные."
   ]
  },
  {
   "cell_type": "code",
   "execution_count": 23,
   "id": "9ad69745",
   "metadata": {},
   "outputs": [
    {
     "data": {
      "text/html": [
       "<div>\n",
       "<style scoped>\n",
       "    .dataframe tbody tr th:only-of-type {\n",
       "        vertical-align: middle;\n",
       "    }\n",
       "\n",
       "    .dataframe tbody tr th {\n",
       "        vertical-align: top;\n",
       "    }\n",
       "\n",
       "    .dataframe thead th {\n",
       "        text-align: right;\n",
       "    }\n",
       "</style>\n",
       "<table border=\"1\" class=\"dataframe\">\n",
       "  <thead>\n",
       "    <tr style=\"text-align: right;\">\n",
       "      <th></th>\n",
       "      <th>user_id</th>\n",
       "      <th>date</th>\n",
       "      <th>direction</th>\n",
       "      <th>internal</th>\n",
       "      <th>operator_id</th>\n",
       "      <th>is_missed_call</th>\n",
       "      <th>calls_count</th>\n",
       "      <th>call_duration</th>\n",
       "      <th>total_call_duration</th>\n",
       "      <th>month</th>\n",
       "      <th>minutes</th>\n",
       "      <th>dup</th>\n",
       "    </tr>\n",
       "  </thead>\n",
       "  <tbody>\n",
       "    <tr>\n",
       "      <th>0</th>\n",
       "      <td>166377</td>\n",
       "      <td>2019-08-04</td>\n",
       "      <td>in</td>\n",
       "      <td>False</td>\n",
       "      <td>NaN</td>\n",
       "      <td>True</td>\n",
       "      <td>2</td>\n",
       "      <td>0</td>\n",
       "      <td>4</td>\n",
       "      <td>8</td>\n",
       "      <td>1.0</td>\n",
       "      <td>False</td>\n",
       "    </tr>\n",
       "  </tbody>\n",
       "</table>\n",
       "</div>"
      ],
      "text/plain": [
       "   user_id       date direction internal  operator_id  is_missed_call  \\\n",
       "0   166377 2019-08-04        in    False          NaN            True   \n",
       "\n",
       "   calls_count  call_duration  total_call_duration  month  minutes    dup  \n",
       "0            2              0                    4      8      1.0  False  "
      ]
     },
     "execution_count": 23,
     "metadata": {},
     "output_type": "execute_result"
    }
   ],
   "source": [
    "data.head(1)"
   ]
  },
  {
   "cell_type": "code",
   "execution_count": 24,
   "id": "0ba176f3",
   "metadata": {},
   "outputs": [
    {
     "data": {
      "text/html": [
       "<div>\n",
       "<style scoped>\n",
       "    .dataframe tbody tr th:only-of-type {\n",
       "        vertical-align: middle;\n",
       "    }\n",
       "\n",
       "    .dataframe tbody tr th {\n",
       "        vertical-align: top;\n",
       "    }\n",
       "\n",
       "    .dataframe thead th {\n",
       "        text-align: right;\n",
       "    }\n",
       "</style>\n",
       "<table border=\"1\" class=\"dataframe\">\n",
       "  <thead>\n",
       "    <tr style=\"text-align: right;\">\n",
       "      <th></th>\n",
       "      <th>user_id</th>\n",
       "      <th>operator_id</th>\n",
       "      <th>dates</th>\n",
       "      <th>calls_count</th>\n",
       "      <th>avg_call_duration</th>\n",
       "    </tr>\n",
       "  </thead>\n",
       "  <tbody>\n",
       "    <tr>\n",
       "      <th>0</th>\n",
       "      <td>166582</td>\n",
       "      <td>885876.0</td>\n",
       "      <td>27</td>\n",
       "      <td>39897</td>\n",
       "      <td>137450.074074</td>\n",
       "    </tr>\n",
       "    <tr>\n",
       "      <th>1</th>\n",
       "      <td>166582</td>\n",
       "      <td>885890.0</td>\n",
       "      <td>12</td>\n",
       "      <td>13447</td>\n",
       "      <td>93796.083333</td>\n",
       "    </tr>\n",
       "  </tbody>\n",
       "</table>\n",
       "</div>"
      ],
      "text/plain": [
       "   user_id  operator_id  dates  calls_count  avg_call_duration\n",
       "0   166582     885876.0     27        39897      137450.074074\n",
       "1   166582     885890.0     12        13447       93796.083333"
      ]
     },
     "execution_count": 24,
     "metadata": {},
     "output_type": "execute_result"
    }
   ],
   "source": [
    "too_long = (data.groupby(['user_id','date','operator_id'], as_index=False)\n",
    "        .agg(total_call_duration = ('total_call_duration','sum'),\n",
    "            calls_count = ('calls_count','sum'))\n",
    "        .query('total_call_duration > 86400')\n",
    "        .groupby(['user_id','operator_id'], as_index=False)\n",
    "        .agg(dates = ('date','nunique'),\n",
    "#              operator_id = ('operator_id','unique'),\n",
    "             calls_count = ('calls_count','sum'),\n",
    "             avg_call_duration = ('total_call_duration','mean'))\n",
    ")\n",
    "too_long"
   ]
  },
  {
   "cell_type": "code",
   "execution_count": 25,
   "id": "74b866e2",
   "metadata": {},
   "outputs": [
    {
     "data": {
      "text/plain": [
       "array([885890., 885876.,     nan, 925922.])"
      ]
     },
     "execution_count": 25,
     "metadata": {},
     "output_type": "execute_result"
    }
   ],
   "source": [
    "data.query('user_id == 166582')['operator_id'].unique()"
   ]
  },
  {
   "cell_type": "markdown",
   "id": "5bc5c4d6",
   "metadata": {},
   "source": [
    "У пользователя два оперитора с зашкаливающими по продолжительности за 1 сутки показатилями продолжительности.\\\n",
    "Также есть неправильное определение оператора и один оператор с нормальными показателями.\\\n",
    "Что-то явно считается неправильно, передадим информацию клиенту отдельно по данному пользователю и исключим его из базы полностью, чтобы не исказить информацию.\\\n",
    "После этого посмотрим на операторов и пользователей превышабщих установленный в 12 часов."
   ]
  },
  {
   "cell_type": "code",
   "execution_count": 26,
   "id": "2fc55281",
   "metadata": {},
   "outputs": [],
   "source": [
    "data = data.query('user_id != 166582')"
   ]
  },
  {
   "cell_type": "code",
   "execution_count": 27,
   "id": "674f3fe0",
   "metadata": {},
   "outputs": [
    {
     "data": {
      "text/html": [
       "<div>\n",
       "<style scoped>\n",
       "    .dataframe tbody tr th:only-of-type {\n",
       "        vertical-align: middle;\n",
       "    }\n",
       "\n",
       "    .dataframe tbody tr th {\n",
       "        vertical-align: top;\n",
       "    }\n",
       "\n",
       "    .dataframe thead th {\n",
       "        text-align: right;\n",
       "    }\n",
       "</style>\n",
       "<table border=\"1\" class=\"dataframe\">\n",
       "  <thead>\n",
       "    <tr style=\"text-align: right;\">\n",
       "      <th></th>\n",
       "      <th>user_id</th>\n",
       "      <th>operator_id</th>\n",
       "      <th>dates</th>\n",
       "      <th>calls_count</th>\n",
       "      <th>avg_call_duration</th>\n",
       "    </tr>\n",
       "  </thead>\n",
       "  <tbody>\n",
       "    <tr>\n",
       "      <th>0</th>\n",
       "      <td>167285</td>\n",
       "      <td>908640.0</td>\n",
       "      <td>2</td>\n",
       "      <td>3350</td>\n",
       "      <td>46630.5</td>\n",
       "    </tr>\n",
       "    <tr>\n",
       "      <th>1</th>\n",
       "      <td>167827</td>\n",
       "      <td>929424.0</td>\n",
       "      <td>1</td>\n",
       "      <td>1491</td>\n",
       "      <td>63253.0</td>\n",
       "    </tr>\n",
       "    <tr>\n",
       "      <th>2</th>\n",
       "      <td>167827</td>\n",
       "      <td>929428.0</td>\n",
       "      <td>2</td>\n",
       "      <td>4532</td>\n",
       "      <td>48428.5</td>\n",
       "    </tr>\n",
       "    <tr>\n",
       "      <th>3</th>\n",
       "      <td>168361</td>\n",
       "      <td>945278.0</td>\n",
       "      <td>1</td>\n",
       "      <td>227</td>\n",
       "      <td>61611.0</td>\n",
       "    </tr>\n",
       "  </tbody>\n",
       "</table>\n",
       "</div>"
      ],
      "text/plain": [
       "   user_id  operator_id  dates  calls_count  avg_call_duration\n",
       "0   167285     908640.0      2         3350            46630.5\n",
       "1   167827     929424.0      1         1491            63253.0\n",
       "2   167827     929428.0      2         4532            48428.5\n",
       "3   168361     945278.0      1          227            61611.0"
      ]
     },
     "execution_count": 27,
     "metadata": {},
     "output_type": "execute_result"
    }
   ],
   "source": [
    "too_long = (data.groupby(['user_id','date','operator_id'], as_index=False)\n",
    "        .agg(total_call_duration = ('total_call_duration','sum'),\n",
    "            calls_count = ('calls_count','sum'))\n",
    "        .query('total_call_duration > 43200')\n",
    "        .groupby(['user_id','operator_id'], as_index=False)\n",
    "        .agg(dates = ('date','nunique'),\n",
    "#              operator_id = ('operator_id','unique'),\n",
    "             calls_count = ('calls_count','sum'),\n",
    "             avg_call_duration = ('total_call_duration','mean'))\n",
    ")\n",
    "too_long"
   ]
  },
  {
   "cell_type": "code",
   "execution_count": 28,
   "id": "f5fa1627",
   "metadata": {},
   "outputs": [
    {
     "data": {
      "text/html": [
       "<div>\n",
       "<style scoped>\n",
       "    .dataframe tbody tr th:only-of-type {\n",
       "        vertical-align: middle;\n",
       "    }\n",
       "\n",
       "    .dataframe tbody tr th {\n",
       "        vertical-align: top;\n",
       "    }\n",
       "\n",
       "    .dataframe thead th {\n",
       "        text-align: right;\n",
       "    }\n",
       "</style>\n",
       "<table border=\"1\" class=\"dataframe\">\n",
       "  <thead>\n",
       "    <tr style=\"text-align: right;\">\n",
       "      <th></th>\n",
       "      <th></th>\n",
       "      <th>calls_count</th>\n",
       "    </tr>\n",
       "    <tr>\n",
       "      <th>user_id</th>\n",
       "      <th>operator_id</th>\n",
       "      <th></th>\n",
       "    </tr>\n",
       "  </thead>\n",
       "  <tbody>\n",
       "    <tr>\n",
       "      <th>167285</th>\n",
       "      <th>908640.0</th>\n",
       "      <td>14239</td>\n",
       "    </tr>\n",
       "    <tr>\n",
       "      <th rowspan=\"3\" valign=\"top\">167827</th>\n",
       "      <th>929424.0</th>\n",
       "      <td>5229</td>\n",
       "    </tr>\n",
       "    <tr>\n",
       "      <th>929426.0</th>\n",
       "      <td>11189</td>\n",
       "    </tr>\n",
       "    <tr>\n",
       "      <th>929428.0</th>\n",
       "      <td>23754</td>\n",
       "    </tr>\n",
       "    <tr>\n",
       "      <th rowspan=\"27\" valign=\"top\">168361</th>\n",
       "      <th>945074.0</th>\n",
       "      <td>3</td>\n",
       "    </tr>\n",
       "    <tr>\n",
       "      <th>945274.0</th>\n",
       "      <td>1</td>\n",
       "    </tr>\n",
       "    <tr>\n",
       "      <th>945278.0</th>\n",
       "      <td>4001</td>\n",
       "    </tr>\n",
       "    <tr>\n",
       "      <th>945280.0</th>\n",
       "      <td>2399</td>\n",
       "    </tr>\n",
       "    <tr>\n",
       "      <th>945282.0</th>\n",
       "      <td>2309</td>\n",
       "    </tr>\n",
       "    <tr>\n",
       "      <th>945284.0</th>\n",
       "      <td>2071</td>\n",
       "    </tr>\n",
       "    <tr>\n",
       "      <th>945286.0</th>\n",
       "      <td>6880</td>\n",
       "    </tr>\n",
       "    <tr>\n",
       "      <th>945288.0</th>\n",
       "      <td>2209</td>\n",
       "    </tr>\n",
       "    <tr>\n",
       "      <th>945290.0</th>\n",
       "      <td>3373</td>\n",
       "    </tr>\n",
       "    <tr>\n",
       "      <th>945294.0</th>\n",
       "      <td>3368</td>\n",
       "    </tr>\n",
       "    <tr>\n",
       "      <th>945296.0</th>\n",
       "      <td>2434</td>\n",
       "    </tr>\n",
       "    <tr>\n",
       "      <th>945298.0</th>\n",
       "      <td>1313</td>\n",
       "    </tr>\n",
       "    <tr>\n",
       "      <th>945302.0</th>\n",
       "      <td>6138</td>\n",
       "    </tr>\n",
       "    <tr>\n",
       "      <th>945304.0</th>\n",
       "      <td>2576</td>\n",
       "    </tr>\n",
       "    <tr>\n",
       "      <th>945308.0</th>\n",
       "      <td>1584</td>\n",
       "    </tr>\n",
       "    <tr>\n",
       "      <th>945310.0</th>\n",
       "      <td>3311</td>\n",
       "    </tr>\n",
       "    <tr>\n",
       "      <th>945312.0</th>\n",
       "      <td>2146</td>\n",
       "    </tr>\n",
       "    <tr>\n",
       "      <th>945314.0</th>\n",
       "      <td>1763</td>\n",
       "    </tr>\n",
       "    <tr>\n",
       "      <th>945316.0</th>\n",
       "      <td>2575</td>\n",
       "    </tr>\n",
       "    <tr>\n",
       "      <th>945318.0</th>\n",
       "      <td>1839</td>\n",
       "    </tr>\n",
       "    <tr>\n",
       "      <th>945320.0</th>\n",
       "      <td>2177</td>\n",
       "    </tr>\n",
       "    <tr>\n",
       "      <th>945322.0</th>\n",
       "      <td>4775</td>\n",
       "    </tr>\n",
       "    <tr>\n",
       "      <th>945324.0</th>\n",
       "      <td>2226</td>\n",
       "    </tr>\n",
       "    <tr>\n",
       "      <th>965538.0</th>\n",
       "      <td>475</td>\n",
       "    </tr>\n",
       "    <tr>\n",
       "      <th>965540.0</th>\n",
       "      <td>807</td>\n",
       "    </tr>\n",
       "    <tr>\n",
       "      <th>965542.0</th>\n",
       "      <td>681</td>\n",
       "    </tr>\n",
       "    <tr>\n",
       "      <th>965544.0</th>\n",
       "      <td>1277</td>\n",
       "    </tr>\n",
       "  </tbody>\n",
       "</table>\n",
       "</div>"
      ],
      "text/plain": [
       "                     calls_count\n",
       "user_id operator_id             \n",
       "167285  908640.0           14239\n",
       "167827  929424.0            5229\n",
       "        929426.0           11189\n",
       "        929428.0           23754\n",
       "168361  945074.0               3\n",
       "        945274.0               1\n",
       "        945278.0            4001\n",
       "        945280.0            2399\n",
       "        945282.0            2309\n",
       "        945284.0            2071\n",
       "        945286.0            6880\n",
       "        945288.0            2209\n",
       "        945290.0            3373\n",
       "        945294.0            3368\n",
       "        945296.0            2434\n",
       "        945298.0            1313\n",
       "        945302.0            6138\n",
       "        945304.0            2576\n",
       "        945308.0            1584\n",
       "        945310.0            3311\n",
       "        945312.0            2146\n",
       "        945314.0            1763\n",
       "        945316.0            2575\n",
       "        945318.0            1839\n",
       "        945320.0            2177\n",
       "        945322.0            4775\n",
       "        945324.0            2226\n",
       "        965538.0             475\n",
       "        965540.0             807\n",
       "        965542.0             681\n",
       "        965544.0            1277"
      ]
     },
     "execution_count": 28,
     "metadata": {},
     "output_type": "execute_result"
    }
   ],
   "source": [
    "users_over_43200 = too_long[\"user_id\"].unique()\n",
    "data.query('user_id in @users_over_43200').groupby(['user_id','operator_id']).agg(calls_count=('calls_count','sum'))"
   ]
  },
  {
   "cell_type": "markdown",
   "id": "1a5e3146",
   "metadata": {},
   "source": [
    "Такие операторы есть, но их оставим, так как это вполне возможно в связи с автоматизированной системой и их не так много.\\\n",
    "Также перечислим их в отчете для инфомрации."
   ]
  },
  {
   "cell_type": "markdown",
   "id": "0c3215a9",
   "metadata": {},
   "source": [
    "### Пропуски"
   ]
  },
  {
   "cell_type": "code",
   "execution_count": 29,
   "id": "ff641935",
   "metadata": {
    "scrolled": true
   },
   "outputs": [
    {
     "name": "stdout",
     "output_type": "stream",
     "text": [
      "<class 'pandas.core.frame.DataFrame'>\n",
      "Int64Index: 48282 entries, 0 to 49001\n",
      "Data columns (total 12 columns):\n",
      " #   Column               Non-Null Count  Dtype         \n",
      "---  ------               --------------  -----         \n",
      " 0   user_id              48282 non-null  int64         \n",
      " 1   date                 48282 non-null  datetime64[ns]\n",
      " 2   direction            48282 non-null  object        \n",
      " 3   internal             48172 non-null  object        \n",
      " 4   operator_id          40937 non-null  float64       \n",
      " 5   is_missed_call       48282 non-null  bool          \n",
      " 6   calls_count          48282 non-null  int64         \n",
      " 7   call_duration        48282 non-null  int64         \n",
      " 8   total_call_duration  48282 non-null  int64         \n",
      " 9   month                48282 non-null  int64         \n",
      " 10  minutes              48282 non-null  float64       \n",
      " 11  dup                  48282 non-null  bool          \n",
      "dtypes: bool(2), datetime64[ns](1), float64(2), int64(5), object(2)\n",
      "memory usage: 4.1+ MB\n"
     ]
    }
   ],
   "source": [
    "data.info()"
   ]
  },
  {
   "cell_type": "code",
   "execution_count": 30,
   "id": "11881bda",
   "metadata": {},
   "outputs": [
    {
     "data": {
      "text/html": [
       "<div>\n",
       "<style scoped>\n",
       "    .dataframe tbody tr th:only-of-type {\n",
       "        vertical-align: middle;\n",
       "    }\n",
       "\n",
       "    .dataframe tbody tr th {\n",
       "        vertical-align: top;\n",
       "    }\n",
       "\n",
       "    .dataframe thead th {\n",
       "        text-align: right;\n",
       "    }\n",
       "</style>\n",
       "<table border=\"1\" class=\"dataframe\">\n",
       "  <thead>\n",
       "    <tr style=\"text-align: right;\">\n",
       "      <th></th>\n",
       "      <th>user_id</th>\n",
       "      <th>date</th>\n",
       "      <th>direction</th>\n",
       "      <th>internal</th>\n",
       "      <th>operator_id</th>\n",
       "      <th>is_missed_call</th>\n",
       "      <th>calls_count</th>\n",
       "      <th>call_duration</th>\n",
       "      <th>total_call_duration</th>\n",
       "      <th>month</th>\n",
       "      <th>minutes</th>\n",
       "      <th>dup</th>\n",
       "    </tr>\n",
       "  </thead>\n",
       "  <tbody>\n",
       "    <tr>\n",
       "      <th>3732</th>\n",
       "      <td>166503</td>\n",
       "      <td>2019-09-26</td>\n",
       "      <td>out</td>\n",
       "      <td>False</td>\n",
       "      <td>NaN</td>\n",
       "      <td>False</td>\n",
       "      <td>1</td>\n",
       "      <td>213</td>\n",
       "      <td>220</td>\n",
       "      <td>9</td>\n",
       "      <td>4.0</td>\n",
       "      <td>False</td>\n",
       "    </tr>\n",
       "    <tr>\n",
       "      <th>3830</th>\n",
       "      <td>166503</td>\n",
       "      <td>2019-10-21</td>\n",
       "      <td>out</td>\n",
       "      <td>True</td>\n",
       "      <td>NaN</td>\n",
       "      <td>False</td>\n",
       "      <td>2</td>\n",
       "      <td>382</td>\n",
       "      <td>397</td>\n",
       "      <td>10</td>\n",
       "      <td>7.0</td>\n",
       "      <td>False</td>\n",
       "    </tr>\n",
       "    <tr>\n",
       "      <th>39783</th>\n",
       "      <td>168018</td>\n",
       "      <td>2019-11-05</td>\n",
       "      <td>out</td>\n",
       "      <td>False</td>\n",
       "      <td>NaN</td>\n",
       "      <td>False</td>\n",
       "      <td>1</td>\n",
       "      <td>978</td>\n",
       "      <td>984</td>\n",
       "      <td>11</td>\n",
       "      <td>17.0</td>\n",
       "      <td>False</td>\n",
       "    </tr>\n",
       "    <tr>\n",
       "      <th>39829</th>\n",
       "      <td>168018</td>\n",
       "      <td>2019-11-13</td>\n",
       "      <td>out</td>\n",
       "      <td>False</td>\n",
       "      <td>NaN</td>\n",
       "      <td>False</td>\n",
       "      <td>1</td>\n",
       "      <td>585</td>\n",
       "      <td>598</td>\n",
       "      <td>11</td>\n",
       "      <td>10.0</td>\n",
       "      <td>False</td>\n",
       "    </tr>\n",
       "    <tr>\n",
       "      <th>39868</th>\n",
       "      <td>168018</td>\n",
       "      <td>2019-11-26</td>\n",
       "      <td>out</td>\n",
       "      <td>False</td>\n",
       "      <td>NaN</td>\n",
       "      <td>False</td>\n",
       "      <td>1</td>\n",
       "      <td>229</td>\n",
       "      <td>246</td>\n",
       "      <td>11</td>\n",
       "      <td>5.0</td>\n",
       "      <td>False</td>\n",
       "    </tr>\n",
       "    <tr>\n",
       "      <th>45510</th>\n",
       "      <td>168252</td>\n",
       "      <td>2019-10-17</td>\n",
       "      <td>out</td>\n",
       "      <td>False</td>\n",
       "      <td>NaN</td>\n",
       "      <td>False</td>\n",
       "      <td>1</td>\n",
       "      <td>69</td>\n",
       "      <td>79</td>\n",
       "      <td>10</td>\n",
       "      <td>2.0</td>\n",
       "      <td>False</td>\n",
       "    </tr>\n",
       "    <tr>\n",
       "      <th>45519</th>\n",
       "      <td>168252</td>\n",
       "      <td>2019-10-18</td>\n",
       "      <td>out</td>\n",
       "      <td>False</td>\n",
       "      <td>NaN</td>\n",
       "      <td>False</td>\n",
       "      <td>1</td>\n",
       "      <td>170</td>\n",
       "      <td>177</td>\n",
       "      <td>10</td>\n",
       "      <td>3.0</td>\n",
       "      <td>True</td>\n",
       "    </tr>\n",
       "    <tr>\n",
       "      <th>45541</th>\n",
       "      <td>168252</td>\n",
       "      <td>2019-10-21</td>\n",
       "      <td>out</td>\n",
       "      <td>False</td>\n",
       "      <td>NaN</td>\n",
       "      <td>False</td>\n",
       "      <td>1</td>\n",
       "      <td>60</td>\n",
       "      <td>68</td>\n",
       "      <td>10</td>\n",
       "      <td>2.0</td>\n",
       "      <td>False</td>\n",
       "    </tr>\n",
       "    <tr>\n",
       "      <th>45562</th>\n",
       "      <td>168252</td>\n",
       "      <td>2019-10-23</td>\n",
       "      <td>out</td>\n",
       "      <td>False</td>\n",
       "      <td>NaN</td>\n",
       "      <td>False</td>\n",
       "      <td>1</td>\n",
       "      <td>81</td>\n",
       "      <td>100</td>\n",
       "      <td>10</td>\n",
       "      <td>2.0</td>\n",
       "      <td>False</td>\n",
       "    </tr>\n",
       "    <tr>\n",
       "      <th>45594</th>\n",
       "      <td>168252</td>\n",
       "      <td>2019-10-27</td>\n",
       "      <td>out</td>\n",
       "      <td>False</td>\n",
       "      <td>NaN</td>\n",
       "      <td>False</td>\n",
       "      <td>1</td>\n",
       "      <td>578</td>\n",
       "      <td>590</td>\n",
       "      <td>10</td>\n",
       "      <td>10.0</td>\n",
       "      <td>False</td>\n",
       "    </tr>\n",
       "    <tr>\n",
       "      <th>45643</th>\n",
       "      <td>168252</td>\n",
       "      <td>2019-10-30</td>\n",
       "      <td>out</td>\n",
       "      <td>False</td>\n",
       "      <td>NaN</td>\n",
       "      <td>False</td>\n",
       "      <td>1</td>\n",
       "      <td>951</td>\n",
       "      <td>967</td>\n",
       "      <td>10</td>\n",
       "      <td>17.0</td>\n",
       "      <td>True</td>\n",
       "    </tr>\n",
       "    <tr>\n",
       "      <th>45677</th>\n",
       "      <td>168252</td>\n",
       "      <td>2019-10-31</td>\n",
       "      <td>out</td>\n",
       "      <td>False</td>\n",
       "      <td>NaN</td>\n",
       "      <td>False</td>\n",
       "      <td>2</td>\n",
       "      <td>2084</td>\n",
       "      <td>2110</td>\n",
       "      <td>10</td>\n",
       "      <td>36.0</td>\n",
       "      <td>False</td>\n",
       "    </tr>\n",
       "    <tr>\n",
       "      <th>45688</th>\n",
       "      <td>168252</td>\n",
       "      <td>2019-11-01</td>\n",
       "      <td>out</td>\n",
       "      <td>False</td>\n",
       "      <td>NaN</td>\n",
       "      <td>False</td>\n",
       "      <td>2</td>\n",
       "      <td>1442</td>\n",
       "      <td>1481</td>\n",
       "      <td>11</td>\n",
       "      <td>25.0</td>\n",
       "      <td>False</td>\n",
       "    </tr>\n",
       "    <tr>\n",
       "      <th>45698</th>\n",
       "      <td>168252</td>\n",
       "      <td>2019-11-02</td>\n",
       "      <td>out</td>\n",
       "      <td>False</td>\n",
       "      <td>NaN</td>\n",
       "      <td>False</td>\n",
       "      <td>2</td>\n",
       "      <td>1113</td>\n",
       "      <td>1148</td>\n",
       "      <td>11</td>\n",
       "      <td>20.0</td>\n",
       "      <td>False</td>\n",
       "    </tr>\n",
       "    <tr>\n",
       "      <th>45721</th>\n",
       "      <td>168252</td>\n",
       "      <td>2019-11-04</td>\n",
       "      <td>out</td>\n",
       "      <td>False</td>\n",
       "      <td>NaN</td>\n",
       "      <td>False</td>\n",
       "      <td>2</td>\n",
       "      <td>1235</td>\n",
       "      <td>1260</td>\n",
       "      <td>11</td>\n",
       "      <td>21.0</td>\n",
       "      <td>False</td>\n",
       "    </tr>\n",
       "    <tr>\n",
       "      <th>45732</th>\n",
       "      <td>168252</td>\n",
       "      <td>2019-11-05</td>\n",
       "      <td>out</td>\n",
       "      <td>False</td>\n",
       "      <td>NaN</td>\n",
       "      <td>False</td>\n",
       "      <td>3</td>\n",
       "      <td>2128</td>\n",
       "      <td>2184</td>\n",
       "      <td>11</td>\n",
       "      <td>37.0</td>\n",
       "      <td>False</td>\n",
       "    </tr>\n",
       "    <tr>\n",
       "      <th>45756</th>\n",
       "      <td>168252</td>\n",
       "      <td>2019-11-06</td>\n",
       "      <td>out</td>\n",
       "      <td>False</td>\n",
       "      <td>NaN</td>\n",
       "      <td>False</td>\n",
       "      <td>5</td>\n",
       "      <td>3225</td>\n",
       "      <td>3287</td>\n",
       "      <td>11</td>\n",
       "      <td>55.0</td>\n",
       "      <td>False</td>\n",
       "    </tr>\n",
       "    <tr>\n",
       "      <th>45782</th>\n",
       "      <td>168252</td>\n",
       "      <td>2019-11-07</td>\n",
       "      <td>out</td>\n",
       "      <td>False</td>\n",
       "      <td>NaN</td>\n",
       "      <td>False</td>\n",
       "      <td>11</td>\n",
       "      <td>5545</td>\n",
       "      <td>5708</td>\n",
       "      <td>11</td>\n",
       "      <td>96.0</td>\n",
       "      <td>False</td>\n",
       "    </tr>\n",
       "    <tr>\n",
       "      <th>45801</th>\n",
       "      <td>168252</td>\n",
       "      <td>2019-11-08</td>\n",
       "      <td>out</td>\n",
       "      <td>False</td>\n",
       "      <td>NaN</td>\n",
       "      <td>False</td>\n",
       "      <td>13</td>\n",
       "      <td>7390</td>\n",
       "      <td>7564</td>\n",
       "      <td>11</td>\n",
       "      <td>127.0</td>\n",
       "      <td>False</td>\n",
       "    </tr>\n",
       "    <tr>\n",
       "      <th>45837</th>\n",
       "      <td>168252</td>\n",
       "      <td>2019-11-09</td>\n",
       "      <td>out</td>\n",
       "      <td>False</td>\n",
       "      <td>NaN</td>\n",
       "      <td>False</td>\n",
       "      <td>3</td>\n",
       "      <td>1640</td>\n",
       "      <td>1682</td>\n",
       "      <td>11</td>\n",
       "      <td>29.0</td>\n",
       "      <td>False</td>\n",
       "    </tr>\n",
       "    <tr>\n",
       "      <th>45842</th>\n",
       "      <td>168252</td>\n",
       "      <td>2019-11-10</td>\n",
       "      <td>out</td>\n",
       "      <td>False</td>\n",
       "      <td>NaN</td>\n",
       "      <td>False</td>\n",
       "      <td>3</td>\n",
       "      <td>3678</td>\n",
       "      <td>3724</td>\n",
       "      <td>11</td>\n",
       "      <td>63.0</td>\n",
       "      <td>False</td>\n",
       "    </tr>\n",
       "    <tr>\n",
       "      <th>45863</th>\n",
       "      <td>168252</td>\n",
       "      <td>2019-11-11</td>\n",
       "      <td>out</td>\n",
       "      <td>False</td>\n",
       "      <td>NaN</td>\n",
       "      <td>False</td>\n",
       "      <td>11</td>\n",
       "      <td>6492</td>\n",
       "      <td>6670</td>\n",
       "      <td>11</td>\n",
       "      <td>112.0</td>\n",
       "      <td>False</td>\n",
       "    </tr>\n",
       "    <tr>\n",
       "      <th>45899</th>\n",
       "      <td>168252</td>\n",
       "      <td>2019-11-12</td>\n",
       "      <td>out</td>\n",
       "      <td>True</td>\n",
       "      <td>NaN</td>\n",
       "      <td>False</td>\n",
       "      <td>1</td>\n",
       "      <td>49</td>\n",
       "      <td>59</td>\n",
       "      <td>11</td>\n",
       "      <td>1.0</td>\n",
       "      <td>False</td>\n",
       "    </tr>\n",
       "    <tr>\n",
       "      <th>45904</th>\n",
       "      <td>168252</td>\n",
       "      <td>2019-11-12</td>\n",
       "      <td>out</td>\n",
       "      <td>False</td>\n",
       "      <td>NaN</td>\n",
       "      <td>False</td>\n",
       "      <td>12</td>\n",
       "      <td>8890</td>\n",
       "      <td>9054</td>\n",
       "      <td>11</td>\n",
       "      <td>151.0</td>\n",
       "      <td>True</td>\n",
       "    </tr>\n",
       "    <tr>\n",
       "      <th>45920</th>\n",
       "      <td>168252</td>\n",
       "      <td>2019-11-13</td>\n",
       "      <td>out</td>\n",
       "      <td>False</td>\n",
       "      <td>NaN</td>\n",
       "      <td>False</td>\n",
       "      <td>20</td>\n",
       "      <td>10412</td>\n",
       "      <td>10705</td>\n",
       "      <td>11</td>\n",
       "      <td>179.0</td>\n",
       "      <td>False</td>\n",
       "    </tr>\n",
       "    <tr>\n",
       "      <th>45934</th>\n",
       "      <td>168252</td>\n",
       "      <td>2019-11-14</td>\n",
       "      <td>out</td>\n",
       "      <td>True</td>\n",
       "      <td>NaN</td>\n",
       "      <td>False</td>\n",
       "      <td>1</td>\n",
       "      <td>56</td>\n",
       "      <td>62</td>\n",
       "      <td>11</td>\n",
       "      <td>2.0</td>\n",
       "      <td>False</td>\n",
       "    </tr>\n",
       "    <tr>\n",
       "      <th>45943</th>\n",
       "      <td>168252</td>\n",
       "      <td>2019-11-14</td>\n",
       "      <td>out</td>\n",
       "      <td>False</td>\n",
       "      <td>NaN</td>\n",
       "      <td>False</td>\n",
       "      <td>1</td>\n",
       "      <td>369</td>\n",
       "      <td>385</td>\n",
       "      <td>11</td>\n",
       "      <td>7.0</td>\n",
       "      <td>False</td>\n",
       "    </tr>\n",
       "    <tr>\n",
       "      <th>45965</th>\n",
       "      <td>168252</td>\n",
       "      <td>2019-11-15</td>\n",
       "      <td>out</td>\n",
       "      <td>False</td>\n",
       "      <td>NaN</td>\n",
       "      <td>False</td>\n",
       "      <td>16</td>\n",
       "      <td>8164</td>\n",
       "      <td>8366</td>\n",
       "      <td>11</td>\n",
       "      <td>140.0</td>\n",
       "      <td>False</td>\n",
       "    </tr>\n",
       "    <tr>\n",
       "      <th>45976</th>\n",
       "      <td>168252</td>\n",
       "      <td>2019-11-16</td>\n",
       "      <td>out</td>\n",
       "      <td>False</td>\n",
       "      <td>NaN</td>\n",
       "      <td>False</td>\n",
       "      <td>4</td>\n",
       "      <td>2613</td>\n",
       "      <td>2675</td>\n",
       "      <td>11</td>\n",
       "      <td>45.0</td>\n",
       "      <td>False</td>\n",
       "    </tr>\n",
       "    <tr>\n",
       "      <th>45998</th>\n",
       "      <td>168252</td>\n",
       "      <td>2019-11-17</td>\n",
       "      <td>out</td>\n",
       "      <td>False</td>\n",
       "      <td>NaN</td>\n",
       "      <td>False</td>\n",
       "      <td>3</td>\n",
       "      <td>1524</td>\n",
       "      <td>1559</td>\n",
       "      <td>11</td>\n",
       "      <td>26.0</td>\n",
       "      <td>False</td>\n",
       "    </tr>\n",
       "    <tr>\n",
       "      <th>46020</th>\n",
       "      <td>168252</td>\n",
       "      <td>2019-11-18</td>\n",
       "      <td>out</td>\n",
       "      <td>False</td>\n",
       "      <td>NaN</td>\n",
       "      <td>False</td>\n",
       "      <td>12</td>\n",
       "      <td>4954</td>\n",
       "      <td>5132</td>\n",
       "      <td>11</td>\n",
       "      <td>86.0</td>\n",
       "      <td>False</td>\n",
       "    </tr>\n",
       "    <tr>\n",
       "      <th>46022</th>\n",
       "      <td>168252</td>\n",
       "      <td>2019-11-18</td>\n",
       "      <td>out</td>\n",
       "      <td>True</td>\n",
       "      <td>NaN</td>\n",
       "      <td>False</td>\n",
       "      <td>1</td>\n",
       "      <td>46</td>\n",
       "      <td>55</td>\n",
       "      <td>11</td>\n",
       "      <td>1.0</td>\n",
       "      <td>True</td>\n",
       "    </tr>\n",
       "    <tr>\n",
       "      <th>46037</th>\n",
       "      <td>168252</td>\n",
       "      <td>2019-11-19</td>\n",
       "      <td>out</td>\n",
       "      <td>False</td>\n",
       "      <td>NaN</td>\n",
       "      <td>False</td>\n",
       "      <td>14</td>\n",
       "      <td>6429</td>\n",
       "      <td>6633</td>\n",
       "      <td>11</td>\n",
       "      <td>111.0</td>\n",
       "      <td>False</td>\n",
       "    </tr>\n",
       "    <tr>\n",
       "      <th>46066</th>\n",
       "      <td>168252</td>\n",
       "      <td>2019-11-20</td>\n",
       "      <td>out</td>\n",
       "      <td>False</td>\n",
       "      <td>NaN</td>\n",
       "      <td>False</td>\n",
       "      <td>17</td>\n",
       "      <td>7799</td>\n",
       "      <td>7999</td>\n",
       "      <td>11</td>\n",
       "      <td>134.0</td>\n",
       "      <td>False</td>\n",
       "    </tr>\n",
       "    <tr>\n",
       "      <th>46102</th>\n",
       "      <td>168252</td>\n",
       "      <td>2019-11-21</td>\n",
       "      <td>out</td>\n",
       "      <td>True</td>\n",
       "      <td>NaN</td>\n",
       "      <td>False</td>\n",
       "      <td>1</td>\n",
       "      <td>53</td>\n",
       "      <td>62</td>\n",
       "      <td>11</td>\n",
       "      <td>2.0</td>\n",
       "      <td>False</td>\n",
       "    </tr>\n",
       "    <tr>\n",
       "      <th>46124</th>\n",
       "      <td>168252</td>\n",
       "      <td>2019-11-21</td>\n",
       "      <td>out</td>\n",
       "      <td>False</td>\n",
       "      <td>NaN</td>\n",
       "      <td>False</td>\n",
       "      <td>22</td>\n",
       "      <td>10506</td>\n",
       "      <td>10893</td>\n",
       "      <td>11</td>\n",
       "      <td>182.0</td>\n",
       "      <td>False</td>\n",
       "    </tr>\n",
       "    <tr>\n",
       "      <th>46164</th>\n",
       "      <td>168252</td>\n",
       "      <td>2019-11-22</td>\n",
       "      <td>out</td>\n",
       "      <td>False</td>\n",
       "      <td>NaN</td>\n",
       "      <td>False</td>\n",
       "      <td>34</td>\n",
       "      <td>19737</td>\n",
       "      <td>20221</td>\n",
       "      <td>11</td>\n",
       "      <td>338.0</td>\n",
       "      <td>False</td>\n",
       "    </tr>\n",
       "    <tr>\n",
       "      <th>46190</th>\n",
       "      <td>168252</td>\n",
       "      <td>2019-11-23</td>\n",
       "      <td>out</td>\n",
       "      <td>False</td>\n",
       "      <td>NaN</td>\n",
       "      <td>False</td>\n",
       "      <td>5</td>\n",
       "      <td>2126</td>\n",
       "      <td>2185</td>\n",
       "      <td>11</td>\n",
       "      <td>37.0</td>\n",
       "      <td>False</td>\n",
       "    </tr>\n",
       "    <tr>\n",
       "      <th>46193</th>\n",
       "      <td>168252</td>\n",
       "      <td>2019-11-24</td>\n",
       "      <td>out</td>\n",
       "      <td>False</td>\n",
       "      <td>NaN</td>\n",
       "      <td>False</td>\n",
       "      <td>5</td>\n",
       "      <td>2906</td>\n",
       "      <td>2977</td>\n",
       "      <td>11</td>\n",
       "      <td>50.0</td>\n",
       "      <td>False</td>\n",
       "    </tr>\n",
       "    <tr>\n",
       "      <th>46220</th>\n",
       "      <td>168252</td>\n",
       "      <td>2019-11-25</td>\n",
       "      <td>out</td>\n",
       "      <td>False</td>\n",
       "      <td>NaN</td>\n",
       "      <td>False</td>\n",
       "      <td>11</td>\n",
       "      <td>6287</td>\n",
       "      <td>6432</td>\n",
       "      <td>11</td>\n",
       "      <td>108.0</td>\n",
       "      <td>False</td>\n",
       "    </tr>\n",
       "    <tr>\n",
       "      <th>46260</th>\n",
       "      <td>168252</td>\n",
       "      <td>2019-11-26</td>\n",
       "      <td>out</td>\n",
       "      <td>False</td>\n",
       "      <td>NaN</td>\n",
       "      <td>False</td>\n",
       "      <td>19</td>\n",
       "      <td>12591</td>\n",
       "      <td>12870</td>\n",
       "      <td>11</td>\n",
       "      <td>215.0</td>\n",
       "      <td>False</td>\n",
       "    </tr>\n",
       "    <tr>\n",
       "      <th>46265</th>\n",
       "      <td>168252</td>\n",
       "      <td>2019-11-26</td>\n",
       "      <td>out</td>\n",
       "      <td>True</td>\n",
       "      <td>NaN</td>\n",
       "      <td>False</td>\n",
       "      <td>1</td>\n",
       "      <td>72</td>\n",
       "      <td>90</td>\n",
       "      <td>11</td>\n",
       "      <td>2.0</td>\n",
       "      <td>False</td>\n",
       "    </tr>\n",
       "    <tr>\n",
       "      <th>46308</th>\n",
       "      <td>168252</td>\n",
       "      <td>2019-11-27</td>\n",
       "      <td>out</td>\n",
       "      <td>False</td>\n",
       "      <td>NaN</td>\n",
       "      <td>False</td>\n",
       "      <td>27</td>\n",
       "      <td>17925</td>\n",
       "      <td>18283</td>\n",
       "      <td>11</td>\n",
       "      <td>305.0</td>\n",
       "      <td>False</td>\n",
       "    </tr>\n",
       "    <tr>\n",
       "      <th>46352</th>\n",
       "      <td>168252</td>\n",
       "      <td>2019-11-28</td>\n",
       "      <td>out</td>\n",
       "      <td>False</td>\n",
       "      <td>NaN</td>\n",
       "      <td>False</td>\n",
       "      <td>22</td>\n",
       "      <td>11904</td>\n",
       "      <td>12211</td>\n",
       "      <td>11</td>\n",
       "      <td>204.0</td>\n",
       "      <td>False</td>\n",
       "    </tr>\n",
       "    <tr>\n",
       "      <th>46353</th>\n",
       "      <td>168252</td>\n",
       "      <td>2019-11-28</td>\n",
       "      <td>out</td>\n",
       "      <td>True</td>\n",
       "      <td>NaN</td>\n",
       "      <td>False</td>\n",
       "      <td>1</td>\n",
       "      <td>159</td>\n",
       "      <td>168</td>\n",
       "      <td>11</td>\n",
       "      <td>3.0</td>\n",
       "      <td>False</td>\n",
       "    </tr>\n",
       "  </tbody>\n",
       "</table>\n",
       "</div>"
      ],
      "text/plain": [
       "       user_id       date direction internal  operator_id  is_missed_call  \\\n",
       "3732    166503 2019-09-26       out    False          NaN           False   \n",
       "3830    166503 2019-10-21       out     True          NaN           False   \n",
       "39783   168018 2019-11-05       out    False          NaN           False   \n",
       "39829   168018 2019-11-13       out    False          NaN           False   \n",
       "39868   168018 2019-11-26       out    False          NaN           False   \n",
       "45510   168252 2019-10-17       out    False          NaN           False   \n",
       "45519   168252 2019-10-18       out    False          NaN           False   \n",
       "45541   168252 2019-10-21       out    False          NaN           False   \n",
       "45562   168252 2019-10-23       out    False          NaN           False   \n",
       "45594   168252 2019-10-27       out    False          NaN           False   \n",
       "45643   168252 2019-10-30       out    False          NaN           False   \n",
       "45677   168252 2019-10-31       out    False          NaN           False   \n",
       "45688   168252 2019-11-01       out    False          NaN           False   \n",
       "45698   168252 2019-11-02       out    False          NaN           False   \n",
       "45721   168252 2019-11-04       out    False          NaN           False   \n",
       "45732   168252 2019-11-05       out    False          NaN           False   \n",
       "45756   168252 2019-11-06       out    False          NaN           False   \n",
       "45782   168252 2019-11-07       out    False          NaN           False   \n",
       "45801   168252 2019-11-08       out    False          NaN           False   \n",
       "45837   168252 2019-11-09       out    False          NaN           False   \n",
       "45842   168252 2019-11-10       out    False          NaN           False   \n",
       "45863   168252 2019-11-11       out    False          NaN           False   \n",
       "45899   168252 2019-11-12       out     True          NaN           False   \n",
       "45904   168252 2019-11-12       out    False          NaN           False   \n",
       "45920   168252 2019-11-13       out    False          NaN           False   \n",
       "45934   168252 2019-11-14       out     True          NaN           False   \n",
       "45943   168252 2019-11-14       out    False          NaN           False   \n",
       "45965   168252 2019-11-15       out    False          NaN           False   \n",
       "45976   168252 2019-11-16       out    False          NaN           False   \n",
       "45998   168252 2019-11-17       out    False          NaN           False   \n",
       "46020   168252 2019-11-18       out    False          NaN           False   \n",
       "46022   168252 2019-11-18       out     True          NaN           False   \n",
       "46037   168252 2019-11-19       out    False          NaN           False   \n",
       "46066   168252 2019-11-20       out    False          NaN           False   \n",
       "46102   168252 2019-11-21       out     True          NaN           False   \n",
       "46124   168252 2019-11-21       out    False          NaN           False   \n",
       "46164   168252 2019-11-22       out    False          NaN           False   \n",
       "46190   168252 2019-11-23       out    False          NaN           False   \n",
       "46193   168252 2019-11-24       out    False          NaN           False   \n",
       "46220   168252 2019-11-25       out    False          NaN           False   \n",
       "46260   168252 2019-11-26       out    False          NaN           False   \n",
       "46265   168252 2019-11-26       out     True          NaN           False   \n",
       "46308   168252 2019-11-27       out    False          NaN           False   \n",
       "46352   168252 2019-11-28       out    False          NaN           False   \n",
       "46353   168252 2019-11-28       out     True          NaN           False   \n",
       "\n",
       "       calls_count  call_duration  total_call_duration  month  minutes    dup  \n",
       "3732             1            213                  220      9      4.0  False  \n",
       "3830             2            382                  397     10      7.0  False  \n",
       "39783            1            978                  984     11     17.0  False  \n",
       "39829            1            585                  598     11     10.0  False  \n",
       "39868            1            229                  246     11      5.0  False  \n",
       "45510            1             69                   79     10      2.0  False  \n",
       "45519            1            170                  177     10      3.0   True  \n",
       "45541            1             60                   68     10      2.0  False  \n",
       "45562            1             81                  100     10      2.0  False  \n",
       "45594            1            578                  590     10     10.0  False  \n",
       "45643            1            951                  967     10     17.0   True  \n",
       "45677            2           2084                 2110     10     36.0  False  \n",
       "45688            2           1442                 1481     11     25.0  False  \n",
       "45698            2           1113                 1148     11     20.0  False  \n",
       "45721            2           1235                 1260     11     21.0  False  \n",
       "45732            3           2128                 2184     11     37.0  False  \n",
       "45756            5           3225                 3287     11     55.0  False  \n",
       "45782           11           5545                 5708     11     96.0  False  \n",
       "45801           13           7390                 7564     11    127.0  False  \n",
       "45837            3           1640                 1682     11     29.0  False  \n",
       "45842            3           3678                 3724     11     63.0  False  \n",
       "45863           11           6492                 6670     11    112.0  False  \n",
       "45899            1             49                   59     11      1.0  False  \n",
       "45904           12           8890                 9054     11    151.0   True  \n",
       "45920           20          10412                10705     11    179.0  False  \n",
       "45934            1             56                   62     11      2.0  False  \n",
       "45943            1            369                  385     11      7.0  False  \n",
       "45965           16           8164                 8366     11    140.0  False  \n",
       "45976            4           2613                 2675     11     45.0  False  \n",
       "45998            3           1524                 1559     11     26.0  False  \n",
       "46020           12           4954                 5132     11     86.0  False  \n",
       "46022            1             46                   55     11      1.0   True  \n",
       "46037           14           6429                 6633     11    111.0  False  \n",
       "46066           17           7799                 7999     11    134.0  False  \n",
       "46102            1             53                   62     11      2.0  False  \n",
       "46124           22          10506                10893     11    182.0  False  \n",
       "46164           34          19737                20221     11    338.0  False  \n",
       "46190            5           2126                 2185     11     37.0  False  \n",
       "46193            5           2906                 2977     11     50.0  False  \n",
       "46220           11           6287                 6432     11    108.0  False  \n",
       "46260           19          12591                12870     11    215.0  False  \n",
       "46265            1             72                   90     11      2.0  False  \n",
       "46308           27          17925                18283     11    305.0  False  \n",
       "46352           22          11904                12211     11    204.0  False  \n",
       "46353            1            159                  168     11      3.0  False  "
      ]
     },
     "execution_count": 30,
     "metadata": {},
     "output_type": "execute_result"
    }
   ],
   "source": [
    "data.query('(operator_id.isna())and(direction==\"out\")and(total_call_duration>0)and(is_missed_call==False)')#.head(50)#['user_id'].unique()"
   ]
  },
  {
   "cell_type": "markdown",
   "id": "9f43f313",
   "metadata": {},
   "source": [
    "Пропуски в поле operator_id могут сказаться на итоговых финансовых результатах однако это никак не сказывается на выборе оптимального тарифа.\\\n",
    "Большая часть пропусков связана с пропущенными звонками или нулевой длительностью.\\\n",
    "С точки зрения исследования пропуски не существенны."
   ]
  },
  {
   "cell_type": "code",
   "execution_count": 31,
   "id": "75fa51cf",
   "metadata": {},
   "outputs": [
    {
     "data": {
      "text/html": [
       "<div>\n",
       "<style scoped>\n",
       "    .dataframe tbody tr th:only-of-type {\n",
       "        vertical-align: middle;\n",
       "    }\n",
       "\n",
       "    .dataframe tbody tr th {\n",
       "        vertical-align: top;\n",
       "    }\n",
       "\n",
       "    .dataframe thead th {\n",
       "        text-align: right;\n",
       "    }\n",
       "</style>\n",
       "<table border=\"1\" class=\"dataframe\">\n",
       "  <thead>\n",
       "    <tr style=\"text-align: right;\">\n",
       "      <th></th>\n",
       "      <th>user_id</th>\n",
       "      <th>date</th>\n",
       "      <th>direction</th>\n",
       "      <th>internal</th>\n",
       "      <th>operator_id</th>\n",
       "      <th>is_missed_call</th>\n",
       "      <th>calls_count</th>\n",
       "      <th>call_duration</th>\n",
       "      <th>total_call_duration</th>\n",
       "      <th>month</th>\n",
       "      <th>minutes</th>\n",
       "      <th>dup</th>\n",
       "    </tr>\n",
       "  </thead>\n",
       "  <tbody>\n",
       "    <tr>\n",
       "      <th>19099</th>\n",
       "      <td>167016</td>\n",
       "      <td>2019-10-23</td>\n",
       "      <td>out</td>\n",
       "      <td>NaN</td>\n",
       "      <td>NaN</td>\n",
       "      <td>True</td>\n",
       "      <td>3</td>\n",
       "      <td>0</td>\n",
       "      <td>196</td>\n",
       "      <td>10</td>\n",
       "      <td>4.0</td>\n",
       "      <td>False</td>\n",
       "    </tr>\n",
       "    <tr>\n",
       "      <th>46717</th>\n",
       "      <td>168291</td>\n",
       "      <td>2019-11-28</td>\n",
       "      <td>out</td>\n",
       "      <td>NaN</td>\n",
       "      <td>NaN</td>\n",
       "      <td>True</td>\n",
       "      <td>3</td>\n",
       "      <td>0</td>\n",
       "      <td>93</td>\n",
       "      <td>11</td>\n",
       "      <td>2.0</td>\n",
       "      <td>False</td>\n",
       "    </tr>\n",
       "  </tbody>\n",
       "</table>\n",
       "</div>"
      ],
      "text/plain": [
       "       user_id       date direction internal  operator_id  is_missed_call  \\\n",
       "19099   167016 2019-10-23       out      NaN          NaN            True   \n",
       "46717   168291 2019-11-28       out      NaN          NaN            True   \n",
       "\n",
       "       calls_count  call_duration  total_call_duration  month  minutes    dup  \n",
       "19099            3              0                  196     10      4.0  False  \n",
       "46717            3              0                   93     11      2.0  False  "
      ]
     },
     "execution_count": 31,
     "metadata": {},
     "output_type": "execute_result"
    }
   ],
   "source": [
    "data.query('(internal.isna())and(direction==\"out\")')"
   ]
  },
  {
   "cell_type": "markdown",
   "id": "19c80112",
   "metadata": {},
   "source": [
    "Также пропуски присутствуют в столбце internal. Это платные звонки и они должны учитываться в расчетах. Однако пропуски всего в 6 минутах. Данные пропуски не существенны дял исследования из -за своего объема."
   ]
  },
  {
   "cell_type": "code",
   "execution_count": 32,
   "id": "8822bfc6",
   "metadata": {},
   "outputs": [
    {
     "data": {
      "text/html": [
       "<div>\n",
       "<style scoped>\n",
       "    .dataframe tbody tr th:only-of-type {\n",
       "        vertical-align: middle;\n",
       "    }\n",
       "\n",
       "    .dataframe tbody tr th {\n",
       "        vertical-align: top;\n",
       "    }\n",
       "\n",
       "    .dataframe thead th {\n",
       "        text-align: right;\n",
       "    }\n",
       "</style>\n",
       "<table border=\"1\" class=\"dataframe\">\n",
       "  <thead>\n",
       "    <tr style=\"text-align: right;\">\n",
       "      <th></th>\n",
       "      <th></th>\n",
       "      <th></th>\n",
       "      <th>call_count</th>\n",
       "      <th>call_duration</th>\n",
       "      <th>call_share</th>\n",
       "    </tr>\n",
       "    <tr>\n",
       "      <th>is_missed_call</th>\n",
       "      <th>direction</th>\n",
       "      <th>internal</th>\n",
       "      <th></th>\n",
       "      <th></th>\n",
       "      <th></th>\n",
       "    </tr>\n",
       "  </thead>\n",
       "  <tbody>\n",
       "    <tr>\n",
       "      <th rowspan=\"4\" valign=\"top\">False</th>\n",
       "      <th rowspan=\"2\" valign=\"top\">in</th>\n",
       "      <th>False</th>\n",
       "      <td>636</td>\n",
       "      <td>324186</td>\n",
       "      <td>0.006387</td>\n",
       "    </tr>\n",
       "    <tr>\n",
       "      <th>True</th>\n",
       "      <td>10</td>\n",
       "      <td>900</td>\n",
       "      <td>0.000100</td>\n",
       "    </tr>\n",
       "    <tr>\n",
       "      <th rowspan=\"2\" valign=\"top\">out</th>\n",
       "      <th>False</th>\n",
       "      <td>311</td>\n",
       "      <td>179427</td>\n",
       "      <td>0.003123</td>\n",
       "    </tr>\n",
       "    <tr>\n",
       "      <th>True</th>\n",
       "      <td>8</td>\n",
       "      <td>893</td>\n",
       "      <td>0.000080</td>\n",
       "    </tr>\n",
       "    <tr>\n",
       "      <th rowspan=\"4\" valign=\"top\">True</th>\n",
       "      <th rowspan=\"2\" valign=\"top\">in</th>\n",
       "      <th>False</th>\n",
       "      <td>97501</td>\n",
       "      <td>1175556</td>\n",
       "      <td>0.979221</td>\n",
       "    </tr>\n",
       "    <tr>\n",
       "      <th>True</th>\n",
       "      <td>920</td>\n",
       "      <td>17969</td>\n",
       "      <td>0.009240</td>\n",
       "    </tr>\n",
       "    <tr>\n",
       "      <th rowspan=\"2\" valign=\"top\">out</th>\n",
       "      <th>False</th>\n",
       "      <td>132</td>\n",
       "      <td>150</td>\n",
       "      <td>0.001326</td>\n",
       "    </tr>\n",
       "    <tr>\n",
       "      <th>True</th>\n",
       "      <td>52</td>\n",
       "      <td>533</td>\n",
       "      <td>0.000522</td>\n",
       "    </tr>\n",
       "  </tbody>\n",
       "</table>\n",
       "</div>"
      ],
      "text/plain": [
       "                                   call_count  call_duration  call_share\n",
       "is_missed_call direction internal                                       \n",
       "False          in        False            636         324186    0.006387\n",
       "                         True              10            900    0.000100\n",
       "               out       False            311         179427    0.003123\n",
       "                         True               8            893    0.000080\n",
       "True           in        False          97501        1175556    0.979221\n",
       "                         True             920          17969    0.009240\n",
       "               out       False            132            150    0.001326\n",
       "                         True              52            533    0.000522"
      ]
     },
     "execution_count": 32,
     "metadata": {},
     "output_type": "execute_result"
    }
   ],
   "source": [
    "# ячейка тимлида:\n",
    "(data\n",
    " .query('operator_id != operator_id')\n",
    " .groupby(['is_missed_call','direction','internal'])\n",
    " \n",
    " # агрегируем данные по количеству звонков и их длительности:\n",
    " .agg(call_count = ('calls_count','sum'),\n",
    "      call_duration = ('total_call_duration','sum'))\n",
    "\n",
    " # считаем долю звонков:\n",
    " .assign(call_share = lambda x: x['call_count'] / x['call_count'].sum())\n",
    ")"
   ]
  },
  {
   "cell_type": "markdown",
   "id": "f397e7af",
   "metadata": {},
   "source": [
    "## Анализ данных:"
   ]
  },
  {
   "cell_type": "code",
   "execution_count": 33,
   "id": "df5e7140",
   "metadata": {},
   "outputs": [
    {
     "name": "stdout",
     "output_type": "stream",
     "text": [
      "всего пользователей 306\n"
     ]
    }
   ],
   "source": [
    "users_all = data['user_id'].unique() #все пользователи\n",
    "print('всего пользователей', len(users_all))"
   ]
  },
  {
   "cell_type": "code",
   "execution_count": 34,
   "id": "aca51367",
   "metadata": {},
   "outputs": [
    {
     "data": {
      "text/html": [
       "<div>\n",
       "<style scoped>\n",
       "    .dataframe tbody tr th:only-of-type {\n",
       "        vertical-align: middle;\n",
       "    }\n",
       "\n",
       "    .dataframe tbody tr th {\n",
       "        vertical-align: top;\n",
       "    }\n",
       "\n",
       "    .dataframe thead th {\n",
       "        text-align: right;\n",
       "    }\n",
       "</style>\n",
       "<table border=\"1\" class=\"dataframe\">\n",
       "  <thead>\n",
       "    <tr style=\"text-align: right;\">\n",
       "      <th></th>\n",
       "      <th>tariff_num</th>\n",
       "      <th>price</th>\n",
       "      <th>monthly</th>\n",
       "      <th>overlimit_price</th>\n",
       "    </tr>\n",
       "    <tr>\n",
       "      <th>tariff_plan</th>\n",
       "      <th></th>\n",
       "      <th></th>\n",
       "      <th></th>\n",
       "      <th></th>\n",
       "    </tr>\n",
       "  </thead>\n",
       "  <tbody>\n",
       "    <tr>\n",
       "      <th>A</th>\n",
       "      <td>1</td>\n",
       "      <td>0.4</td>\n",
       "      <td>5000</td>\n",
       "      <td>0.10</td>\n",
       "    </tr>\n",
       "    <tr>\n",
       "      <th>B</th>\n",
       "      <td>2</td>\n",
       "      <td>0.5</td>\n",
       "      <td>2000</td>\n",
       "      <td>0.15</td>\n",
       "    </tr>\n",
       "    <tr>\n",
       "      <th>C</th>\n",
       "      <td>3</td>\n",
       "      <td>0.7</td>\n",
       "      <td>1000</td>\n",
       "      <td>0.30</td>\n",
       "    </tr>\n",
       "  </tbody>\n",
       "</table>\n",
       "</div>"
      ],
      "text/plain": [
       "             tariff_num  price  monthly  overlimit_price\n",
       "tariff_plan                                             \n",
       "A                     1    0.4     5000             0.10\n",
       "B                     2    0.5     2000             0.15\n",
       "C                     3    0.7     1000             0.30"
      ]
     },
     "execution_count": 34,
     "metadata": {},
     "output_type": "execute_result"
    }
   ],
   "source": [
    "# создадим переменные с данными тарифов и прочих параметров дял использования в дальнейшем.\n",
    "cost_of_operator = 100\n",
    "limit = 2000\n",
    "\n",
    "tarifs_out_calls = {\n",
    "    'tariff_plan':['A', 'B', 'C'],\n",
    "    'tariff_num':[1, 2, 3],\n",
    "    'price':[0.4, 0.5, 0.7],\n",
    "    'monthly':[5000, 2000, 1000],\n",
    "    'overlimit_price':[0.1, 0.15, 0.3] }\n",
    "\n",
    "tarifs_out = pd.DataFrame(tarifs_out_calls)\n",
    "tarifs_out.set_index('tariff_plan', inplace=True)\n",
    "tarifs_out"
   ]
  },
  {
   "cell_type": "markdown",
   "id": "9f8bbcf0",
   "metadata": {
    "scrolled": true
   },
   "source": [
    "### Cоздание агрегированной таблицы по user_id, месяцам, direction, internal"
   ]
  },
  {
   "cell_type": "code",
   "execution_count": 35,
   "id": "aa062d94",
   "metadata": {
    "scrolled": false
   },
   "outputs": [
    {
     "data": {
      "text/html": [
       "<div>\n",
       "<style scoped>\n",
       "    .dataframe tbody tr th:only-of-type {\n",
       "        vertical-align: middle;\n",
       "    }\n",
       "\n",
       "    .dataframe tbody tr th {\n",
       "        vertical-align: top;\n",
       "    }\n",
       "\n",
       "    .dataframe thead th {\n",
       "        text-align: right;\n",
       "    }\n",
       "</style>\n",
       "<table border=\"1\" class=\"dataframe\">\n",
       "  <thead>\n",
       "    <tr style=\"text-align: right;\">\n",
       "      <th></th>\n",
       "      <th>month</th>\n",
       "      <th>user_id</th>\n",
       "      <th>direction</th>\n",
       "      <th>internal</th>\n",
       "      <th>minutes</th>\n",
       "    </tr>\n",
       "  </thead>\n",
       "  <tbody>\n",
       "    <tr>\n",
       "      <th>1</th>\n",
       "      <td>8</td>\n",
       "      <td>166377</td>\n",
       "      <td>out</td>\n",
       "      <td>False</td>\n",
       "      <td>1337.0</td>\n",
       "    </tr>\n",
       "    <tr>\n",
       "      <th>2</th>\n",
       "      <td>8</td>\n",
       "      <td>166377</td>\n",
       "      <td>out</td>\n",
       "      <td>True</td>\n",
       "      <td>8.0</td>\n",
       "    </tr>\n",
       "    <tr>\n",
       "      <th>5</th>\n",
       "      <td>8</td>\n",
       "      <td>166391</td>\n",
       "      <td>out</td>\n",
       "      <td>True</td>\n",
       "      <td>1.0</td>\n",
       "    </tr>\n",
       "    <tr>\n",
       "      <th>9</th>\n",
       "      <td>8</td>\n",
       "      <td>166405</td>\n",
       "      <td>out</td>\n",
       "      <td>False</td>\n",
       "      <td>875.0</td>\n",
       "    </tr>\n",
       "    <tr>\n",
       "      <th>10</th>\n",
       "      <td>8</td>\n",
       "      <td>166405</td>\n",
       "      <td>out</td>\n",
       "      <td>True</td>\n",
       "      <td>1.0</td>\n",
       "    </tr>\n",
       "  </tbody>\n",
       "</table>\n",
       "</div>"
      ],
      "text/plain": [
       "    month  user_id direction internal  minutes\n",
       "1       8   166377       out    False   1337.0\n",
       "2       8   166377       out     True      8.0\n",
       "5       8   166391       out     True      1.0\n",
       "9       8   166405       out    False    875.0\n",
       "10      8   166405       out     True      1.0"
      ]
     },
     "execution_count": 35,
     "metadata": {},
     "output_type": "execute_result"
    }
   ],
   "source": [
    "agg_calls = (data\n",
    "             .groupby(['month','user_id','direction','internal'], as_index=False)\n",
    "             .agg({'minutes':'sum'})\n",
    "             .query('(direction == \"out\")'))\n",
    "agg_calls.head()"
   ]
  },
  {
   "cell_type": "code",
   "execution_count": 36,
   "id": "1bd0b315",
   "metadata": {
    "scrolled": true
   },
   "outputs": [
    {
     "data": {
      "text/html": [
       "<div>\n",
       "<style scoped>\n",
       "    .dataframe tbody tr th:only-of-type {\n",
       "        vertical-align: middle;\n",
       "    }\n",
       "\n",
       "    .dataframe tbody tr th {\n",
       "        vertical-align: top;\n",
       "    }\n",
       "\n",
       "    .dataframe thead th {\n",
       "        text-align: right;\n",
       "    }\n",
       "</style>\n",
       "<table border=\"1\" class=\"dataframe\">\n",
       "  <thead>\n",
       "    <tr style=\"text-align: right;\">\n",
       "      <th></th>\n",
       "      <th>month</th>\n",
       "      <th>user_id</th>\n",
       "      <th>direction</th>\n",
       "      <th>internal</th>\n",
       "      <th>minutes</th>\n",
       "      <th>A</th>\n",
       "      <th>B</th>\n",
       "      <th>C</th>\n",
       "    </tr>\n",
       "  </thead>\n",
       "  <tbody>\n",
       "    <tr>\n",
       "      <th>1</th>\n",
       "      <td>8</td>\n",
       "      <td>166377</td>\n",
       "      <td>out</td>\n",
       "      <td>False</td>\n",
       "      <td>1337.0</td>\n",
       "      <td>534.8</td>\n",
       "      <td>668.5</td>\n",
       "      <td>935.9</td>\n",
       "    </tr>\n",
       "    <tr>\n",
       "      <th>2</th>\n",
       "      <td>8</td>\n",
       "      <td>166377</td>\n",
       "      <td>out</td>\n",
       "      <td>True</td>\n",
       "      <td>8.0</td>\n",
       "      <td>0.0</td>\n",
       "      <td>0.0</td>\n",
       "      <td>0.0</td>\n",
       "    </tr>\n",
       "    <tr>\n",
       "      <th>5</th>\n",
       "      <td>8</td>\n",
       "      <td>166391</td>\n",
       "      <td>out</td>\n",
       "      <td>True</td>\n",
       "      <td>1.0</td>\n",
       "      <td>0.0</td>\n",
       "      <td>0.0</td>\n",
       "      <td>0.0</td>\n",
       "    </tr>\n",
       "    <tr>\n",
       "      <th>9</th>\n",
       "      <td>8</td>\n",
       "      <td>166405</td>\n",
       "      <td>out</td>\n",
       "      <td>False</td>\n",
       "      <td>875.0</td>\n",
       "      <td>350.0</td>\n",
       "      <td>437.5</td>\n",
       "      <td>612.5</td>\n",
       "    </tr>\n",
       "    <tr>\n",
       "      <th>10</th>\n",
       "      <td>8</td>\n",
       "      <td>166405</td>\n",
       "      <td>out</td>\n",
       "      <td>True</td>\n",
       "      <td>1.0</td>\n",
       "      <td>0.0</td>\n",
       "      <td>0.0</td>\n",
       "      <td>0.0</td>\n",
       "    </tr>\n",
       "  </tbody>\n",
       "</table>\n",
       "</div>"
      ],
      "text/plain": [
       "    month  user_id direction internal  minutes      A      B      C\n",
       "1       8   166377       out    False   1337.0  534.8  668.5  935.9\n",
       "2       8   166377       out     True      8.0    0.0    0.0    0.0\n",
       "5       8   166391       out     True      1.0    0.0    0.0    0.0\n",
       "9       8   166405       out    False    875.0  350.0  437.5  612.5\n",
       "10      8   166405       out     True      1.0    0.0    0.0    0.0"
      ]
     },
     "execution_count": 36,
     "metadata": {},
     "output_type": "execute_result"
    }
   ],
   "source": [
    "# фуункция расчета стоимости оплаты по каждому тарифу.\n",
    "\n",
    "def cost_of_outcalls(row, tarifs):\n",
    "    sums = [] \n",
    "    length = len(tarifs) # Количество тарифов\n",
    "    if row['internal'] == False:\n",
    "        for i in range(length):\n",
    "            sums.append(row['minutes'] * tarifs.iloc[i]['price']) \n",
    "    else:\n",
    "        if (row['minutes'] - 2000) > 0:\n",
    "            for i in range(length):\n",
    "                sums.append((row['minutes']-2000) * tarifs.iloc[i]['overlimit_price'])\n",
    "        else:\n",
    "            sums = [0]*length\n",
    "    return sums\n",
    "\n",
    "costs = pd.DataFrame(agg_calls.apply(cost_of_outcalls, tarifs = tarifs_out, axis=1), columns=['costs'])\n",
    "agg_calls[list(tarifs_out.index)] = pd.DataFrame(costs['costs'].tolist(), index= costs.index)\n",
    "agg_calls.head()"
   ]
  },
  {
   "cell_type": "markdown",
   "id": "95ca055d",
   "metadata": {},
   "source": [
    "Цена за звонки по разным тарифам"
   ]
  },
  {
   "cell_type": "code",
   "execution_count": 37,
   "id": "c1858e98",
   "metadata": {},
   "outputs": [
    {
     "data": {
      "text/html": [
       "<div>\n",
       "<style scoped>\n",
       "    .dataframe tbody tr th:only-of-type {\n",
       "        vertical-align: middle;\n",
       "    }\n",
       "\n",
       "    .dataframe tbody tr th {\n",
       "        vertical-align: top;\n",
       "    }\n",
       "\n",
       "    .dataframe thead th {\n",
       "        text-align: right;\n",
       "    }\n",
       "</style>\n",
       "<table border=\"1\" class=\"dataframe\">\n",
       "  <thead>\n",
       "    <tr style=\"text-align: right;\">\n",
       "      <th></th>\n",
       "      <th>month</th>\n",
       "      <th>user_id</th>\n",
       "      <th>direction</th>\n",
       "      <th>internal</th>\n",
       "      <th>minutes</th>\n",
       "      <th>A</th>\n",
       "      <th>B</th>\n",
       "      <th>C</th>\n",
       "    </tr>\n",
       "  </thead>\n",
       "  <tbody>\n",
       "  </tbody>\n",
       "</table>\n",
       "</div>"
      ],
      "text/plain": [
       "Empty DataFrame\n",
       "Columns: [month, user_id, direction, internal, minutes, A, B, C]\n",
       "Index: []"
      ]
     },
     "metadata": {},
     "output_type": "display_data"
    },
    {
     "data": {
      "text/html": [
       "<div>\n",
       "<style scoped>\n",
       "    .dataframe tbody tr th:only-of-type {\n",
       "        vertical-align: middle;\n",
       "    }\n",
       "\n",
       "    .dataframe tbody tr th {\n",
       "        vertical-align: top;\n",
       "    }\n",
       "\n",
       "    .dataframe thead th {\n",
       "        text-align: right;\n",
       "    }\n",
       "</style>\n",
       "<table border=\"1\" class=\"dataframe\">\n",
       "  <thead>\n",
       "    <tr style=\"text-align: right;\">\n",
       "      <th></th>\n",
       "      <th>month</th>\n",
       "      <th>user_id</th>\n",
       "      <th>direction</th>\n",
       "      <th>internal</th>\n",
       "      <th>minutes</th>\n",
       "      <th>A</th>\n",
       "      <th>B</th>\n",
       "      <th>C</th>\n",
       "    </tr>\n",
       "  </thead>\n",
       "  <tbody>\n",
       "  </tbody>\n",
       "</table>\n",
       "</div>"
      ],
      "text/plain": [
       "Empty DataFrame\n",
       "Columns: [month, user_id, direction, internal, minutes, A, B, C]\n",
       "Index: []"
      ]
     },
     "execution_count": 37,
     "metadata": {},
     "output_type": "execute_result"
    }
   ],
   "source": [
    "# ячейка тимлида: посмотрим на тех клиентов, которые превысили лимит по внутренним исходящим - таких нет:\n",
    "tmp = (data\n",
    "             .groupby(['month','user_id','direction','internal'], as_index=False)\n",
    "             .agg({'minutes':'sum'})\n",
    "             .query('(direction == \"out\")'))\n",
    "tmp[list(tarifs_out.index)] = pd.DataFrame(costs['costs'].tolist(), index= costs.index)\n",
    "display(tmp.query('internal == True and minutes > 2000'))\n",
    "\n",
    "# но в таблице выше есть траты по внутренним исходящим:\n",
    "agg_calls.query('(internal == 1) and (A != 0)')  # вот так наверное по моей логике правильно"
   ]
  },
  {
   "cell_type": "code",
   "execution_count": 38,
   "id": "2a752248",
   "metadata": {},
   "outputs": [],
   "source": [
    "agg_calls = agg_calls.groupby(['user_id','month'], as_index=False).sum().drop(['minutes'], axis=1)"
   ]
  },
  {
   "cell_type": "markdown",
   "id": "21d75c08",
   "metadata": {},
   "source": [
    "Подсчет операторов у каждого пользователя."
   ]
  },
  {
   "cell_type": "code",
   "execution_count": 39,
   "id": "3adc8816",
   "metadata": {},
   "outputs": [
    {
     "data": {
      "image/png": "[encoded data removed]",
      "text/plain": [
       "<Figure size 432x288 with 1 Axes>"
      ]
     },
     "metadata": {
      "needs_background": "light"
     },
     "output_type": "display_data"
    }
   ],
   "source": [
    "operators = (data\n",
    "             .groupby(['user_id', 'month'], as_index=False)\n",
    "             .agg({'operator_id':'nunique'})\n",
    "             .rename(columns={'operator_id': 'operators'}))\n",
    "operators['pay_for_operators'] = operators['operators'] * cost_of_operator\n",
    "operators = operators.drop(['operators'], axis=1)\n",
    "operators[['pay_for_operators']].plot(kind='hist', bins=50, title='Распределение оплаты за операторов')\n",
    "plt.ylabel('Количество пользователей')\n",
    "plt.xlabel('Плата за количество операторов');"
   ]
  },
  {
   "cell_type": "code",
   "execution_count": 40,
   "id": "30c1aa30",
   "metadata": {},
   "outputs": [
    {
     "data": {
      "text/plain": [
       "array([ 500,  400,  200,  100,    0, 1000,  800,  300,  700, 1500, 1600,\n",
       "       1300,  600, 1400, 1200, 1100, 2900, 1700,  900, 4400, 4800, 2700,\n",
       "       3700, 4600, 2500, 2300], dtype=int64)"
      ]
     },
     "execution_count": 40,
     "metadata": {},
     "output_type": "execute_result"
    }
   ],
   "source": [
    "operators['pay_for_operators'].unique()"
   ]
  },
  {
   "cell_type": "code",
   "execution_count": 41,
   "id": "4ca305be",
   "metadata": {},
   "outputs": [],
   "source": [
    "# К пользователям по месяцам с оплатой за операторов присоединяем оплату за звонки\n",
    "data_consolidated = operators.merge(agg_calls, on=['user_id','month'], how='left')"
   ]
  },
  {
   "cell_type": "code",
   "execution_count": 42,
   "id": "c519de5d",
   "metadata": {},
   "outputs": [],
   "source": [
    "# далее присоединяем текущий тарифный план\n",
    "data_consolidated = data_consolidated.merge(clients[['user_id','tariff_plan']], on=['user_id'], how='left').fillna(0)"
   ]
  },
  {
   "cell_type": "code",
   "execution_count": 43,
   "id": "7be96ba3",
   "metadata": {},
   "outputs": [
    {
     "data": {
      "text/html": [
       "<div>\n",
       "<style scoped>\n",
       "    .dataframe tbody tr th:only-of-type {\n",
       "        vertical-align: middle;\n",
       "    }\n",
       "\n",
       "    .dataframe tbody tr th {\n",
       "        vertical-align: top;\n",
       "    }\n",
       "\n",
       "    .dataframe thead th {\n",
       "        text-align: right;\n",
       "    }\n",
       "</style>\n",
       "<table border=\"1\" class=\"dataframe\">\n",
       "  <thead>\n",
       "    <tr style=\"text-align: right;\">\n",
       "      <th></th>\n",
       "      <th>user_id</th>\n",
       "      <th>month</th>\n",
       "      <th>pay_for_operators</th>\n",
       "      <th>A</th>\n",
       "      <th>B</th>\n",
       "      <th>C</th>\n",
       "      <th>tariff_plan</th>\n",
       "    </tr>\n",
       "  </thead>\n",
       "  <tbody>\n",
       "    <tr>\n",
       "      <th>0</th>\n",
       "      <td>166377</td>\n",
       "      <td>8</td>\n",
       "      <td>500</td>\n",
       "      <td>534.8</td>\n",
       "      <td>668.5</td>\n",
       "      <td>935.9</td>\n",
       "      <td>B</td>\n",
       "    </tr>\n",
       "    <tr>\n",
       "      <th>1</th>\n",
       "      <td>166377</td>\n",
       "      <td>9</td>\n",
       "      <td>400</td>\n",
       "      <td>727.2</td>\n",
       "      <td>909.0</td>\n",
       "      <td>1272.6</td>\n",
       "      <td>B</td>\n",
       "    </tr>\n",
       "    <tr>\n",
       "      <th>2</th>\n",
       "      <td>166377</td>\n",
       "      <td>10</td>\n",
       "      <td>500</td>\n",
       "      <td>681.6</td>\n",
       "      <td>852.0</td>\n",
       "      <td>1192.8</td>\n",
       "      <td>B</td>\n",
       "    </tr>\n",
       "  </tbody>\n",
       "</table>\n",
       "</div>"
      ],
      "text/plain": [
       "   user_id  month  pay_for_operators      A      B       C tariff_plan\n",
       "0   166377      8                500  534.8  668.5   935.9           B\n",
       "1   166377      9                400  727.2  909.0  1272.6           B\n",
       "2   166377     10                500  681.6  852.0  1192.8           B"
      ]
     },
     "execution_count": 43,
     "metadata": {},
     "output_type": "execute_result"
    }
   ],
   "source": [
    "data_consolidated.head(3)"
   ]
  },
  {
   "cell_type": "code",
   "execution_count": 44,
   "id": "6679845a",
   "metadata": {},
   "outputs": [],
   "source": [
    "# Функция для расчета полной ежемесячной оплаты за тариф\n",
    "def totals(df, tarifs):\n",
    "    columns = ['user_id','month','tariff_plan'] #создаем список с названиями столбцов итоговой таблицы\n",
    "    for item in tarifs.index: # перебираем тарифы\n",
    "        # для каждого пользователя суммируем оплату за операторов, за минту, абонентскую плату. \n",
    "        df['%s' % item] = df['pay_for_operators'] + df[item] + tarifs['monthly'][item]\n",
    "        columns.append('%s' % item) # добавляем названия тарифов в список столбцов \n",
    "    total = df[columns] #выводим столбцы\n",
    "    return total"
   ]
  },
  {
   "cell_type": "code",
   "execution_count": 45,
   "id": "a507d08f",
   "metadata": {},
   "outputs": [],
   "source": [
    "total = totals(data_consolidated, tarifs_out)"
   ]
  },
  {
   "cell_type": "code",
   "execution_count": 46,
   "id": "d4ae8c7f",
   "metadata": {},
   "outputs": [
    {
     "data": {
      "text/html": [
       "<div>\n",
       "<style scoped>\n",
       "    .dataframe tbody tr th:only-of-type {\n",
       "        vertical-align: middle;\n",
       "    }\n",
       "\n",
       "    .dataframe tbody tr th {\n",
       "        vertical-align: top;\n",
       "    }\n",
       "\n",
       "    .dataframe thead th {\n",
       "        text-align: right;\n",
       "    }\n",
       "</style>\n",
       "<table border=\"1\" class=\"dataframe\">\n",
       "  <thead>\n",
       "    <tr style=\"text-align: right;\">\n",
       "      <th></th>\n",
       "      <th>user_id</th>\n",
       "      <th>month</th>\n",
       "      <th>tariff_plan</th>\n",
       "      <th>A</th>\n",
       "      <th>B</th>\n",
       "      <th>C</th>\n",
       "    </tr>\n",
       "  </thead>\n",
       "  <tbody>\n",
       "    <tr>\n",
       "      <th>0</th>\n",
       "      <td>166377</td>\n",
       "      <td>8</td>\n",
       "      <td>B</td>\n",
       "      <td>6034.8</td>\n",
       "      <td>3168.5</td>\n",
       "      <td>2435.9</td>\n",
       "    </tr>\n",
       "    <tr>\n",
       "      <th>1</th>\n",
       "      <td>166377</td>\n",
       "      <td>9</td>\n",
       "      <td>B</td>\n",
       "      <td>6127.2</td>\n",
       "      <td>3309.0</td>\n",
       "      <td>2672.6</td>\n",
       "    </tr>\n",
       "    <tr>\n",
       "      <th>2</th>\n",
       "      <td>166377</td>\n",
       "      <td>10</td>\n",
       "      <td>B</td>\n",
       "      <td>6181.6</td>\n",
       "      <td>3352.0</td>\n",
       "      <td>2692.8</td>\n",
       "    </tr>\n",
       "    <tr>\n",
       "      <th>3</th>\n",
       "      <td>166377</td>\n",
       "      <td>11</td>\n",
       "      <td>B</td>\n",
       "      <td>6053.2</td>\n",
       "      <td>3216.5</td>\n",
       "      <td>2543.1</td>\n",
       "    </tr>\n",
       "    <tr>\n",
       "      <th>4</th>\n",
       "      <td>166391</td>\n",
       "      <td>8</td>\n",
       "      <td>C</td>\n",
       "      <td>5200.0</td>\n",
       "      <td>2200.0</td>\n",
       "      <td>1200.0</td>\n",
       "    </tr>\n",
       "  </tbody>\n",
       "</table>\n",
       "</div>"
      ],
      "text/plain": [
       "   user_id  month tariff_plan       A       B       C\n",
       "0   166377      8           B  6034.8  3168.5  2435.9\n",
       "1   166377      9           B  6127.2  3309.0  2672.6\n",
       "2   166377     10           B  6181.6  3352.0  2692.8\n",
       "3   166377     11           B  6053.2  3216.5  2543.1\n",
       "4   166391      8           C  5200.0  2200.0  1200.0"
      ]
     },
     "execution_count": 46,
     "metadata": {},
     "output_type": "execute_result"
    }
   ],
   "source": [
    "total.head()"
   ]
  },
  {
   "cell_type": "code",
   "execution_count": 47,
   "id": "dd2f3dba",
   "metadata": {},
   "outputs": [],
   "source": [
    "# Функция для возвращения сумммы за тариф по названию тарифа\n",
    "def now(row):\n",
    "    return row[row['tariff_plan']]"
   ]
  },
  {
   "cell_type": "code",
   "execution_count": 48,
   "id": "319a1976",
   "metadata": {},
   "outputs": [],
   "source": [
    "total['sum_now'] = total.apply(now, axis=1)"
   ]
  },
  {
   "cell_type": "code",
   "execution_count": 49,
   "id": "4a3c6d05",
   "metadata": {},
   "outputs": [],
   "source": [
    "total['tariff_plan_best'] = total[tarifs_out.index].idxmin(axis=1) # создаём столбец с названием оптимального тарифа\n",
    "total['sum_best'] = total[tarifs_out.index].min(axis=1) # возвращаем сумму по названию тарифа"
   ]
  },
  {
   "cell_type": "code",
   "execution_count": 50,
   "id": "644f1cea",
   "metadata": {},
   "outputs": [
    {
     "data": {
      "text/html": [
       "<div>\n",
       "<style scoped>\n",
       "    .dataframe tbody tr th:only-of-type {\n",
       "        vertical-align: middle;\n",
       "    }\n",
       "\n",
       "    .dataframe tbody tr th {\n",
       "        vertical-align: top;\n",
       "    }\n",
       "\n",
       "    .dataframe thead th {\n",
       "        text-align: right;\n",
       "    }\n",
       "</style>\n",
       "<table border=\"1\" class=\"dataframe\">\n",
       "  <thead>\n",
       "    <tr style=\"text-align: right;\">\n",
       "      <th></th>\n",
       "      <th>user_id</th>\n",
       "      <th>month</th>\n",
       "      <th>tariff_plan</th>\n",
       "      <th>A</th>\n",
       "      <th>B</th>\n",
       "      <th>C</th>\n",
       "      <th>sum_now</th>\n",
       "      <th>tariff_plan_best</th>\n",
       "      <th>sum_best</th>\n",
       "    </tr>\n",
       "  </thead>\n",
       "  <tbody>\n",
       "    <tr>\n",
       "      <th>0</th>\n",
       "      <td>166377</td>\n",
       "      <td>8</td>\n",
       "      <td>B</td>\n",
       "      <td>6034.8</td>\n",
       "      <td>3168.5</td>\n",
       "      <td>2435.9</td>\n",
       "      <td>3168.5</td>\n",
       "      <td>C</td>\n",
       "      <td>2435.9</td>\n",
       "    </tr>\n",
       "    <tr>\n",
       "      <th>1</th>\n",
       "      <td>166377</td>\n",
       "      <td>9</td>\n",
       "      <td>B</td>\n",
       "      <td>6127.2</td>\n",
       "      <td>3309.0</td>\n",
       "      <td>2672.6</td>\n",
       "      <td>3309.0</td>\n",
       "      <td>C</td>\n",
       "      <td>2672.6</td>\n",
       "    </tr>\n",
       "    <tr>\n",
       "      <th>2</th>\n",
       "      <td>166377</td>\n",
       "      <td>10</td>\n",
       "      <td>B</td>\n",
       "      <td>6181.6</td>\n",
       "      <td>3352.0</td>\n",
       "      <td>2692.8</td>\n",
       "      <td>3352.0</td>\n",
       "      <td>C</td>\n",
       "      <td>2692.8</td>\n",
       "    </tr>\n",
       "    <tr>\n",
       "      <th>3</th>\n",
       "      <td>166377</td>\n",
       "      <td>11</td>\n",
       "      <td>B</td>\n",
       "      <td>6053.2</td>\n",
       "      <td>3216.5</td>\n",
       "      <td>2543.1</td>\n",
       "      <td>3216.5</td>\n",
       "      <td>C</td>\n",
       "      <td>2543.1</td>\n",
       "    </tr>\n",
       "    <tr>\n",
       "      <th>4</th>\n",
       "      <td>166391</td>\n",
       "      <td>8</td>\n",
       "      <td>C</td>\n",
       "      <td>5200.0</td>\n",
       "      <td>2200.0</td>\n",
       "      <td>1200.0</td>\n",
       "      <td>1200.0</td>\n",
       "      <td>C</td>\n",
       "      <td>1200.0</td>\n",
       "    </tr>\n",
       "  </tbody>\n",
       "</table>\n",
       "</div>"
      ],
      "text/plain": [
       "   user_id  month tariff_plan       A       B       C  sum_now  \\\n",
       "0   166377      8           B  6034.8  3168.5  2435.9   3168.5   \n",
       "1   166377      9           B  6127.2  3309.0  2672.6   3309.0   \n",
       "2   166377     10           B  6181.6  3352.0  2692.8   3352.0   \n",
       "3   166377     11           B  6053.2  3216.5  2543.1   3216.5   \n",
       "4   166391      8           C  5200.0  2200.0  1200.0   1200.0   \n",
       "\n",
       "  tariff_plan_best  sum_best  \n",
       "0                C    2435.9  \n",
       "1                C    2672.6  \n",
       "2                C    2692.8  \n",
       "3                C    2543.1  \n",
       "4                C    1200.0  "
      ]
     },
     "execution_count": 50,
     "metadata": {},
     "output_type": "execute_result"
    }
   ],
   "source": [
    "total.head()"
   ]
  },
  {
   "cell_type": "code",
   "execution_count": 51,
   "id": "211e385b",
   "metadata": {},
   "outputs": [
    {
     "data": {
      "text/html": [
       "<div>\n",
       "<style scoped>\n",
       "    .dataframe tbody tr th:only-of-type {\n",
       "        vertical-align: middle;\n",
       "    }\n",
       "\n",
       "    .dataframe tbody tr th {\n",
       "        vertical-align: top;\n",
       "    }\n",
       "\n",
       "    .dataframe thead th {\n",
       "        text-align: right;\n",
       "    }\n",
       "</style>\n",
       "<table border=\"1\" class=\"dataframe\">\n",
       "  <thead>\n",
       "    <tr style=\"text-align: right;\">\n",
       "      <th></th>\n",
       "      <th>user_id</th>\n",
       "      <th>tariff_plan</th>\n",
       "      <th>A</th>\n",
       "      <th>B</th>\n",
       "      <th>C</th>\n",
       "      <th>sum_now</th>\n",
       "      <th>tariff_plan_best</th>\n",
       "      <th>sum_best</th>\n",
       "    </tr>\n",
       "  </thead>\n",
       "  <tbody>\n",
       "    <tr>\n",
       "      <th>0</th>\n",
       "      <td>166377</td>\n",
       "      <td>B</td>\n",
       "      <td>24396.8</td>\n",
       "      <td>13046.0</td>\n",
       "      <td>10344.4</td>\n",
       "      <td>13046.0</td>\n",
       "      <td>C</td>\n",
       "      <td>10344.4</td>\n",
       "    </tr>\n",
       "    <tr>\n",
       "      <th>1</th>\n",
       "      <td>166391</td>\n",
       "      <td>C</td>\n",
       "      <td>20400.0</td>\n",
       "      <td>8400.0</td>\n",
       "      <td>4400.0</td>\n",
       "      <td>4400.0</td>\n",
       "      <td>C</td>\n",
       "      <td>4400.0</td>\n",
       "    </tr>\n",
       "    <tr>\n",
       "      <th>2</th>\n",
       "      <td>166392</td>\n",
       "      <td>C</td>\n",
       "      <td>20800.0</td>\n",
       "      <td>8800.0</td>\n",
       "      <td>4800.0</td>\n",
       "      <td>4800.0</td>\n",
       "      <td>C</td>\n",
       "      <td>4800.0</td>\n",
       "    </tr>\n",
       "    <tr>\n",
       "      <th>3</th>\n",
       "      <td>166399</td>\n",
       "      <td>C</td>\n",
       "      <td>15300.0</td>\n",
       "      <td>6300.0</td>\n",
       "      <td>3300.0</td>\n",
       "      <td>3300.0</td>\n",
       "      <td>C</td>\n",
       "      <td>3300.0</td>\n",
       "    </tr>\n",
       "    <tr>\n",
       "      <th>4</th>\n",
       "      <td>166405</td>\n",
       "      <td>B</td>\n",
       "      <td>28891.2</td>\n",
       "      <td>18514.0</td>\n",
       "      <td>17759.6</td>\n",
       "      <td>18514.0</td>\n",
       "      <td>C</td>\n",
       "      <td>17759.6</td>\n",
       "    </tr>\n",
       "  </tbody>\n",
       "</table>\n",
       "</div>"
      ],
      "text/plain": [
       "   user_id tariff_plan        A        B        C  sum_now tariff_plan_best  \\\n",
       "0   166377           B  24396.8  13046.0  10344.4  13046.0                C   \n",
       "1   166391           C  20400.0   8400.0   4400.0   4400.0                C   \n",
       "2   166392           C  20800.0   8800.0   4800.0   4800.0                C   \n",
       "3   166399           C  15300.0   6300.0   3300.0   3300.0                C   \n",
       "4   166405           B  28891.2  18514.0  17759.6  18514.0                C   \n",
       "\n",
       "   sum_best  \n",
       "0   10344.4  \n",
       "1    4400.0  \n",
       "2    4800.0  \n",
       "3    3300.0  \n",
       "4   17759.6  "
      ]
     },
     "execution_count": 51,
     "metadata": {},
     "output_type": "execute_result"
    }
   ],
   "source": [
    "# Создаём агрегированную таблицу с суммами за весь период и делаем расчет оптимального тарифа\n",
    "total_agg = total.groupby(['user_id'], as_index=False).agg({'tariff_plan':'last', \n",
    "                                                            'A': 'sum',\n",
    "                                                            'B': 'sum',\n",
    "                                                            'C': 'sum',\n",
    "                                                            'sum_now': 'sum' })\n",
    "total_agg['tariff_plan_best'] = total_agg[tarifs_out.index].idxmin(axis=1)\n",
    "total_agg['sum_best'] = total_agg[tarifs_out.index].min(axis=1) \n",
    "total_agg.head()"
   ]
  },
  {
   "cell_type": "code",
   "execution_count": 52,
   "id": "4f7c6ce4",
   "metadata": {},
   "outputs": [],
   "source": [
    "total_good_tarif = total.copy()\n",
    "# делаемкопию таблицы, пока не провели её усечение и обработку"
   ]
  },
  {
   "cell_type": "code",
   "execution_count": 53,
   "id": "2fbc3a6a",
   "metadata": {},
   "outputs": [
    {
     "data": {
      "text/html": [
       "<div>\n",
       "<style scoped>\n",
       "    .dataframe tbody tr th:only-of-type {\n",
       "        vertical-align: middle;\n",
       "    }\n",
       "\n",
       "    .dataframe tbody tr th {\n",
       "        vertical-align: top;\n",
       "    }\n",
       "\n",
       "    .dataframe thead th {\n",
       "        text-align: right;\n",
       "    }\n",
       "</style>\n",
       "<table border=\"1\" class=\"dataframe\">\n",
       "  <thead>\n",
       "    <tr style=\"text-align: right;\">\n",
       "      <th></th>\n",
       "      <th>num_month</th>\n",
       "      <th>tariff_plan</th>\n",
       "      <th>num_tariff_plan_best</th>\n",
       "      <th>tariff_plan_best</th>\n",
       "    </tr>\n",
       "    <tr>\n",
       "      <th>user_id</th>\n",
       "      <th></th>\n",
       "      <th></th>\n",
       "      <th></th>\n",
       "      <th></th>\n",
       "    </tr>\n",
       "  </thead>\n",
       "  <tbody>\n",
       "    <tr>\n",
       "      <th>166405</th>\n",
       "      <td>4</td>\n",
       "      <td>[B]</td>\n",
       "      <td>2</td>\n",
       "      <td>[C, B]</td>\n",
       "    </tr>\n",
       "    <tr>\n",
       "      <th>167011</th>\n",
       "      <td>2</td>\n",
       "      <td>[C]</td>\n",
       "      <td>2</td>\n",
       "      <td>[C, B]</td>\n",
       "    </tr>\n",
       "    <tr>\n",
       "      <th>167285</th>\n",
       "      <td>2</td>\n",
       "      <td>[A]</td>\n",
       "      <td>2</td>\n",
       "      <td>[C, B]</td>\n",
       "    </tr>\n",
       "    <tr>\n",
       "      <th>167626</th>\n",
       "      <td>2</td>\n",
       "      <td>[A]</td>\n",
       "      <td>2</td>\n",
       "      <td>[B, A]</td>\n",
       "    </tr>\n",
       "    <tr>\n",
       "      <th>168062</th>\n",
       "      <td>2</td>\n",
       "      <td>[A]</td>\n",
       "      <td>2</td>\n",
       "      <td>[C, B]</td>\n",
       "    </tr>\n",
       "    <tr>\n",
       "      <th>168187</th>\n",
       "      <td>2</td>\n",
       "      <td>[A]</td>\n",
       "      <td>2</td>\n",
       "      <td>[C, B]</td>\n",
       "    </tr>\n",
       "    <tr>\n",
       "      <th>168252</th>\n",
       "      <td>2</td>\n",
       "      <td>[A]</td>\n",
       "      <td>2</td>\n",
       "      <td>[C, B]</td>\n",
       "    </tr>\n",
       "    <tr>\n",
       "      <th>168361</th>\n",
       "      <td>2</td>\n",
       "      <td>[A]</td>\n",
       "      <td>2</td>\n",
       "      <td>[B, A]</td>\n",
       "    </tr>\n",
       "  </tbody>\n",
       "</table>\n",
       "</div>"
      ],
      "text/plain": [
       "         num_month tariff_plan  num_tariff_plan_best tariff_plan_best\n",
       "user_id                                                              \n",
       "166405           4         [B]                     2           [C, B]\n",
       "167011           2         [C]                     2           [C, B]\n",
       "167285           2         [A]                     2           [C, B]\n",
       "167626           2         [A]                     2           [B, A]\n",
       "168062           2         [A]                     2           [C, B]\n",
       "168187           2         [A]                     2           [C, B]\n",
       "168252           2         [A]                     2           [C, B]\n",
       "168361           2         [A]                     2           [B, A]"
      ]
     },
     "execution_count": 53,
     "metadata": {},
     "output_type": "execute_result"
    }
   ],
   "source": [
    "# ячейка тимлида:\n",
    "total_not_stable = (total\n",
    " .groupby('user_id')\n",
    " .agg(num_month = ('month','nunique'),\n",
    "      tariff_plan = ('tariff_plan','unique'),\n",
    "      num_tariff_plan_best = ('tariff_plan_best','nunique'),\n",
    "      tariff_plan_best = ('tariff_plan_best','unique'))\n",
    " .query('num_tariff_plan_best > 1')\n",
    ")\n",
    "total_not_stable"
   ]
  },
  {
   "cell_type": "code",
   "execution_count": 54,
   "id": "e60908a4",
   "metadata": {},
   "outputs": [
    {
     "data": {
      "text/plain": [
       "Int64Index([166405, 167011, 167285, 167626, 168062, 168187, 168252, 168361], dtype='int64', name='user_id')"
      ]
     },
     "execution_count": 54,
     "metadata": {},
     "output_type": "execute_result"
    }
   ],
   "source": [
    "total_users_not_stable = total_not_stable.index\n",
    "total_users_not_stable"
   ]
  },
  {
   "cell_type": "code",
   "execution_count": 55,
   "id": "6d162a6d",
   "metadata": {},
   "outputs": [],
   "source": [
    "total = total.query('user_id not in @total_users_not_stable')\n",
    "total_agg = total_agg.query('user_id not in @total_users_not_stable')"
   ]
  },
  {
   "cell_type": "markdown",
   "id": "d3fa3e5a",
   "metadata": {},
   "source": [
    "<div style=\"border:solid steelblue 3px; padding: 5px\">\n",
    "    \n",
    "При таком подходе мы можем получить такую ситуацию, когда клиент находится между двумя тарифами по оптимальности. Т.е. его объем услуг еще не стабилизировался. Возможно, что такому клиенту пока рано предлагать какой-либо тариф, так как в следующем месяце все может поменяться и ему наоборот будет невыгоден тариф, который предлагаем.\n",
    "    \n",
    "Уберем этих клиентов из дальнейшей проверки в отдельный список и в конце по ним представлю отдельную справку."
   ]
  },
  {
   "cell_type": "markdown",
   "id": "7ed1ded2",
   "metadata": {},
   "source": [
    "### Определение активных клиентов"
   ]
  },
  {
   "cell_type": "code",
   "execution_count": 56,
   "id": "8a347f8b",
   "metadata": {},
   "outputs": [
    {
     "data": {
      "text/html": [
       "<div>\n",
       "<style scoped>\n",
       "    .dataframe tbody tr th:only-of-type {\n",
       "        vertical-align: middle;\n",
       "    }\n",
       "\n",
       "    .dataframe tbody tr th {\n",
       "        vertical-align: top;\n",
       "    }\n",
       "\n",
       "    .dataframe thead th {\n",
       "        text-align: right;\n",
       "    }\n",
       "</style>\n",
       "<table border=\"1\" class=\"dataframe\">\n",
       "  <thead>\n",
       "    <tr style=\"text-align: right;\">\n",
       "      <th></th>\n",
       "      <th>aug</th>\n",
       "      <th>sep</th>\n",
       "      <th>oct</th>\n",
       "      <th>nov</th>\n",
       "    </tr>\n",
       "    <tr>\n",
       "      <th>user_id</th>\n",
       "      <th></th>\n",
       "      <th></th>\n",
       "      <th></th>\n",
       "      <th></th>\n",
       "    </tr>\n",
       "  </thead>\n",
       "  <tbody>\n",
       "    <tr>\n",
       "      <th>166377</th>\n",
       "      <td>3168.5</td>\n",
       "      <td>3309.0</td>\n",
       "      <td>3352.0</td>\n",
       "      <td>3216.5</td>\n",
       "    </tr>\n",
       "    <tr>\n",
       "      <th>166391</th>\n",
       "      <td>1200.0</td>\n",
       "      <td>1100.0</td>\n",
       "      <td>1000.0</td>\n",
       "      <td>1100.0</td>\n",
       "    </tr>\n",
       "    <tr>\n",
       "      <th>166392</th>\n",
       "      <td>1200.0</td>\n",
       "      <td>1200.0</td>\n",
       "      <td>1200.0</td>\n",
       "      <td>1200.0</td>\n",
       "    </tr>\n",
       "    <tr>\n",
       "      <th>166399</th>\n",
       "      <td>1100.0</td>\n",
       "      <td>1100.0</td>\n",
       "      <td>1100.0</td>\n",
       "      <td>NaN</td>\n",
       "    </tr>\n",
       "    <tr>\n",
       "      <th>166406</th>\n",
       "      <td>3620.0</td>\n",
       "      <td>3148.5</td>\n",
       "      <td>3143.0</td>\n",
       "      <td>2603.0</td>\n",
       "    </tr>\n",
       "  </tbody>\n",
       "</table>\n",
       "</div>"
      ],
      "text/plain": [
       "            aug     sep     oct     nov\n",
       "user_id                                \n",
       "166377   3168.5  3309.0  3352.0  3216.5\n",
       "166391   1200.0  1100.0  1000.0  1100.0\n",
       "166392   1200.0  1200.0  1200.0  1200.0\n",
       "166399   1100.0  1100.0  1100.0     NaN\n",
       "166406   3620.0  3148.5  3143.0  2603.0"
      ]
     },
     "execution_count": 56,
     "metadata": {},
     "output_type": "execute_result"
    }
   ],
   "source": [
    "# Сводная таблица по пользователям по каждому месяцу (с суммой затрат)\n",
    "user_month_sum = total.pivot_table(index='user_id', columns='month', values='sum_now')\n",
    "user_month_sum.columns = ['aug','sep','oct','nov']\n",
    "user_month_sum.head()"
   ]
  },
  {
   "cell_type": "code",
   "execution_count": 57,
   "id": "60782732",
   "metadata": {
    "scrolled": false
   },
   "outputs": [
    {
     "name": "stdout",
     "output_type": "stream",
     "text": [
      "Всего активных пользователей: 255 из 306\n"
     ]
    }
   ],
   "source": [
    "# Примем за активных пользователей тех, кто в ноябре совершал платыне действия.\n",
    "users_active = user_month_sum.reset_index().query('nov.notna()')['user_id'].unique()\n",
    "print('Всего активных пользователей:',len(users_active),'из', len(users_all))"
   ]
  },
  {
   "cell_type": "markdown",
   "id": "6a8b25fe",
   "metadata": {},
   "source": [
    "Также проанализируем количество исходящих минут"
   ]
  },
  {
   "cell_type": "code",
   "execution_count": 58,
   "id": "1b48f104",
   "metadata": {},
   "outputs": [],
   "source": [
    "out_minutes = (data\n",
    "               .query('direction == \"out\"')\n",
    "               .groupby(['user_id','month'], as_index=False)['minutes'].sum())\n",
    "out_minutes = out_minutes.pivot_table(index='user_id', columns='month', values='minutes')"
   ]
  },
  {
   "cell_type": "code",
   "execution_count": 59,
   "id": "ab0b0591",
   "metadata": {},
   "outputs": [
    {
     "data": {
      "text/html": [
       "<style type=\"text/css\">\n",
       "</style>\n",
       "<table id=\"T_c530c\">\n",
       "  <thead>\n",
       "    <tr>\n",
       "      <th class=\"index_name level0\" >month</th>\n",
       "      <th id=\"T_c530c_level0_col0\" class=\"col_heading level0 col0\" >8</th>\n",
       "      <th id=\"T_c530c_level0_col1\" class=\"col_heading level0 col1\" >9</th>\n",
       "      <th id=\"T_c530c_level0_col2\" class=\"col_heading level0 col2\" >10</th>\n",
       "      <th id=\"T_c530c_level0_col3\" class=\"col_heading level0 col3\" >11</th>\n",
       "      <th id=\"T_c530c_level0_col4\" class=\"col_heading level0 col4\" >minute_sum</th>\n",
       "    </tr>\n",
       "  </thead>\n",
       "  <tbody>\n",
       "    <tr>\n",
       "      <th id=\"T_c530c_level0_row0\" class=\"row_heading level0 row0\" >count</th>\n",
       "      <td id=\"T_c530c_row0_col0\" class=\"data row0 col0\" >49.0</td>\n",
       "      <td id=\"T_c530c_row0_col1\" class=\"data row0 col1\" >118.0</td>\n",
       "      <td id=\"T_c530c_row0_col2\" class=\"data row0 col2\" >167.0</td>\n",
       "      <td id=\"T_c530c_row0_col3\" class=\"data row0 col3\" >178.0</td>\n",
       "      <td id=\"T_c530c_row0_col4\" class=\"data row0 col4\" >221.0</td>\n",
       "    </tr>\n",
       "    <tr>\n",
       "      <th id=\"T_c530c_level0_row1\" class=\"row_heading level0 row1\" >mean</th>\n",
       "      <td id=\"T_c530c_row1_col0\" class=\"data row1 col0\" >348.2</td>\n",
       "      <td id=\"T_c530c_row1_col1\" class=\"data row1 col1\" >763.7</td>\n",
       "      <td id=\"T_c530c_row1_col2\" class=\"data row1 col2\" >1239.1</td>\n",
       "      <td id=\"T_c530c_row1_col3\" class=\"data row1 col3\" >1383.1</td>\n",
       "      <td id=\"T_c530c_row1_col4\" class=\"data row1 col4\" >2535.3</td>\n",
       "    </tr>\n",
       "    <tr>\n",
       "      <th id=\"T_c530c_level0_row2\" class=\"row_heading level0 row2\" >std</th>\n",
       "      <td id=\"T_c530c_row2_col0\" class=\"data row2 col0\" >883.4</td>\n",
       "      <td id=\"T_c530c_row2_col1\" class=\"data row2 col1\" >2496.3</td>\n",
       "      <td id=\"T_c530c_row2_col2\" class=\"data row2 col2\" >4607.7</td>\n",
       "      <td id=\"T_c530c_row2_col3\" class=\"data row2 col3\" >5807.2</td>\n",
       "      <td id=\"T_c530c_row2_col4\" class=\"data row2 col4\" >8817.5</td>\n",
       "    </tr>\n",
       "    <tr>\n",
       "      <th id=\"T_c530c_level0_row3\" class=\"row_heading level0 row3\" >min</th>\n",
       "      <td id=\"T_c530c_row3_col0\" class=\"data row3 col0\" >0.0</td>\n",
       "      <td id=\"T_c530c_row3_col1\" class=\"data row3 col1\" >1.0</td>\n",
       "      <td id=\"T_c530c_row3_col2\" class=\"data row3 col2\" >0.0</td>\n",
       "      <td id=\"T_c530c_row3_col3\" class=\"data row3 col3\" >0.0</td>\n",
       "      <td id=\"T_c530c_row3_col4\" class=\"data row3 col4\" >0.0</td>\n",
       "    </tr>\n",
       "    <tr>\n",
       "      <th id=\"T_c530c_level0_row4\" class=\"row_heading level0 row4\" >25%</th>\n",
       "      <td id=\"T_c530c_row4_col0\" class=\"data row4 col0\" >3.0</td>\n",
       "      <td id=\"T_c530c_row4_col1\" class=\"data row4 col1\" >16.2</td>\n",
       "      <td id=\"T_c530c_row4_col2\" class=\"data row4 col2\" >15.5</td>\n",
       "      <td id=\"T_c530c_row4_col3\" class=\"data row4 col3\" >29.5</td>\n",
       "      <td id=\"T_c530c_row4_col4\" class=\"data row4 col4\" >41.0</td>\n",
       "    </tr>\n",
       "    <tr>\n",
       "      <th id=\"T_c530c_level0_row5\" class=\"row_heading level0 row5\" >50%</th>\n",
       "      <td id=\"T_c530c_row5_col0\" class=\"data row5 col0\" >28.0</td>\n",
       "      <td id=\"T_c530c_row5_col1\" class=\"data row5 col1\" >96.0</td>\n",
       "      <td id=\"T_c530c_row5_col2\" class=\"data row5 col2\" >183.0</td>\n",
       "      <td id=\"T_c530c_row5_col3\" class=\"data row5 col3\" >228.5</td>\n",
       "      <td id=\"T_c530c_row5_col4\" class=\"data row5 col4\" >377.0</td>\n",
       "    </tr>\n",
       "    <tr>\n",
       "      <th id=\"T_c530c_level0_row6\" class=\"row_heading level0 row6\" >75%</th>\n",
       "      <td id=\"T_c530c_row6_col0\" class=\"data row6 col0\" >198.0</td>\n",
       "      <td id=\"T_c530c_row6_col1\" class=\"data row6 col1\" >368.5</td>\n",
       "      <td id=\"T_c530c_row6_col2\" class=\"data row6 col2\" >736.5</td>\n",
       "      <td id=\"T_c530c_row6_col3\" class=\"data row6 col3\" >844.2</td>\n",
       "      <td id=\"T_c530c_row6_col4\" class=\"data row6 col4\" >1474.0</td>\n",
       "    </tr>\n",
       "    <tr>\n",
       "      <th id=\"T_c530c_level0_row7\" class=\"row_heading level0 row7\" >max</th>\n",
       "      <td id=\"T_c530c_row7_col0\" class=\"data row7 col0\" >5358.0</td>\n",
       "      <td id=\"T_c530c_row7_col1\" class=\"data row7 col1\" >21324.0</td>\n",
       "      <td id=\"T_c530c_row7_col2\" class=\"data row7 col2\" >52072.0</td>\n",
       "      <td id=\"T_c530c_row7_col3\" class=\"data row7 col3\" >72502.0</td>\n",
       "      <td id=\"T_c530c_row7_col4\" class=\"data row7 col4\" >94037.0</td>\n",
       "    </tr>\n",
       "  </tbody>\n",
       "</table>\n"
      ],
      "text/plain": [
       "<pandas.io.formats.style.Styler at 0x192fafacd90>"
      ]
     },
     "execution_count": 59,
     "metadata": {},
     "output_type": "execute_result"
    }
   ],
   "source": [
    "out_minutes['minute_sum'] = out_minutes.sum(axis=1)\n",
    "out_minutes.describe().style.format('{:.1f}')"
   ]
  },
  {
   "cell_type": "code",
   "execution_count": 60,
   "id": "354185c6",
   "metadata": {
    "scrolled": false
   },
   "outputs": [
    {
     "data": {
      "image/png": "[encoded data removed]",
      "text/plain": [
       "<Figure size 576x432 with 1 Axes>"
      ]
     },
     "metadata": {
      "needs_background": "light"
     },
     "output_type": "display_data"
    }
   ],
   "source": [
    "out_minutes.sort_values(by='minute_sum').reset_index(drop=True).plot(kind='box', ylim=(0,500), title='Распределение количества минут по месяцам', figsize=(8,6))\n",
    "plt.ylabel('Количество минут')\n",
    "plt.xlabel('Месяц');"
   ]
  },
  {
   "cell_type": "markdown",
   "id": "e96ccd8f",
   "metadata": {},
   "source": [
    "Можно заметить, что медианное количество минут намного меньше среднего, а первый квартиль не превышает 30 минут, а значит очень много малоактивных пользователей.<br>\n",
    "Поэтому будем считать всех малоактивных - активными.<br>\n",
    "А неактивными будут только те, которые не совершал платных действий в ноябре.<br>\n",
    "Далее изучаем только активных пользователей (users_active)"
   ]
  },
  {
   "cell_type": "code",
   "execution_count": 61,
   "id": "95a4177b",
   "metadata": {},
   "outputs": [],
   "source": [
    "total = total.query('user_id in @users_active') # по месяцам\n",
    "total_agg = total_agg.query('user_id in @users_active') # за весь период"
   ]
  },
  {
   "cell_type": "markdown",
   "id": "1aabb6f4",
   "metadata": {},
   "source": [
    "### Отбор пользователей с оптимальным/неоптимальным тарифом"
   ]
  },
  {
   "cell_type": "code",
   "execution_count": 62,
   "id": "c36ff770",
   "metadata": {},
   "outputs": [
    {
     "data": {
      "text/plain": [
       "120"
      ]
     },
     "execution_count": 62,
     "metadata": {},
     "output_type": "execute_result"
    }
   ],
   "source": [
    "# найдём неоптимальных пользователей у которых тариф не совпадает с оптимальным в последнем месяце.\n",
    "users_not_optimal = list(total.query('~user_id.duplicated(keep=\"last\")').query('tariff_plan != tariff_plan_best')['user_id'].unique())\n",
    "len(users_not_optimal)"
   ]
  },
  {
   "cell_type": "code",
   "execution_count": 63,
   "id": "f8f4736a",
   "metadata": {},
   "outputs": [
    {
     "data": {
      "text/plain": [
       "120"
      ]
     },
     "execution_count": 63,
     "metadata": {},
     "output_type": "execute_result"
    }
   ],
   "source": [
    "# найдём пользователей у которых неоптимален период в целом.\n",
    "users_not_optimal_agg = list(total_agg.query('tariff_plan != tariff_plan_best')['user_id'].unique())\n",
    "len(users_not_optimal_agg)"
   ]
  },
  {
   "cell_type": "code",
   "execution_count": 64,
   "id": "a26aaa7a",
   "metadata": {},
   "outputs": [
    {
     "data": {
      "text/plain": [
       "[]"
      ]
     },
     "execution_count": 64,
     "metadata": {},
     "output_type": "execute_result"
    }
   ],
   "source": [
    "# удалим из users_not_optimal_agg пользователей из users_not_optimal (у которых последний месяц неоптимален)\n",
    "users_stabilased = users_not_optimal_agg.copy()\n",
    "for user in users_not_optimal:\n",
    "    if user in users_stabilased:\n",
    "        users_stabilased.remove(user)\n",
    "users_stabilased"
   ]
  },
  {
   "cell_type": "markdown",
   "id": "a469ba0d",
   "metadata": {},
   "source": [
    "По данным пользователям users_not_optimal и users_not_optimal_agg можно менять тариф для оптимизации расходов.\n",
    "Однако, пользователи у которых последний месяц является оптимальным нет необходимости трогать, так как они принесли прибыль больше чем могли бы при этом оптимизировав расходы в последнем месяце. Их покажем отдельной таблицей справочно в выводах.\n",
    "\n",
    "Пользователи, которые в последнем месяце имели неоптимальный тариф наоборот можно разделить на тех, которые в целом неоптимальны и тех, кто неоптимален только в последний месяц. Их тоже нужно разделить."
   ]
  },
  {
   "cell_type": "code",
   "execution_count": null,
   "id": "d4d35070",
   "metadata": {},
   "outputs": [],
   "source": []
  },
  {
   "cell_type": "code",
   "execution_count": 65,
   "id": "869878b3",
   "metadata": {},
   "outputs": [
    {
     "data": {
      "text/plain": [
       "135"
      ]
     },
     "execution_count": 65,
     "metadata": {},
     "output_type": "execute_result"
    }
   ],
   "source": [
    "users_optimal_agg = list(users_active)\n",
    "for user in users_not_optimal_agg:\n",
    "    users_optimal_agg.remove(user)\n",
    "len(users_optimal_agg)"
   ]
  },
  {
   "cell_type": "code",
   "execution_count": 66,
   "id": "d0ce3cce",
   "metadata": {},
   "outputs": [
    {
     "data": {
      "text/plain": [
       "0"
      ]
     },
     "execution_count": 66,
     "metadata": {},
     "output_type": "execute_result"
    }
   ],
   "source": [
    "users_destabilased = []\n",
    "users_optimal = users_optimal_agg.copy()\n",
    "for user in users_optimal_agg:\n",
    "    if user in users_not_optimal:\n",
    "        users_destabilased.append(user)\n",
    "        users_optimal.remove(user)\n",
    "len(users_destabilased)"
   ]
  },
  {
   "cell_type": "code",
   "execution_count": 67,
   "id": "3f026f45",
   "metadata": {},
   "outputs": [
    {
     "data": {
      "text/plain": [
       "135"
      ]
     },
     "execution_count": 67,
     "metadata": {},
     "output_type": "execute_result"
    }
   ],
   "source": [
    "len(users_optimal)"
   ]
  },
  {
   "cell_type": "markdown",
   "id": "438b02cb",
   "metadata": {},
   "source": [
    "Пользователи users_destabilased в целом пользуются оптимальным тарифом, однако в последнем месяце тариф был невыгоден.\\\n",
    "Справочно укажем это в выводах."
   ]
  },
  {
   "cell_type": "markdown",
   "id": "35148e86",
   "metadata": {},
   "source": [
    "### Анализ активных пользователей с неоптимальным тарифом в последнем месяце"
   ]
  },
  {
   "cell_type": "markdown",
   "id": "89b9068c",
   "metadata": {},
   "source": [
    "Список пользователей с неоптимальным тарифом (в финальном месяце тариф не оптимален) в переменной users_not_optimal.<br>"
   ]
  },
  {
   "cell_type": "code",
   "execution_count": 68,
   "id": "68ae7f92",
   "metadata": {},
   "outputs": [],
   "source": [
    "# Выборка по неоптимальным пользователям\n",
    "# за последний месяц\n",
    "total_bad_tarif = total.query('user_id in @users_not_optimal').sort_values(by=['user_id','month'])\n",
    "total_bad_tarif = total_bad_tarif.query('~user_id.duplicated(keep=\"last\")').reset_index(drop=True)\n",
    "# за весь период\n",
    "total_bad_tarif_agg = total_agg.query('user_id in @users_not_optimal').sort_values(by=['user_id']).reset_index(drop=True)"
   ]
  },
  {
   "cell_type": "code",
   "execution_count": 69,
   "id": "225ad1b9",
   "metadata": {},
   "outputs": [
    {
     "data": {
      "text/html": [
       "<div>\n",
       "<style scoped>\n",
       "    .dataframe tbody tr th:only-of-type {\n",
       "        vertical-align: middle;\n",
       "    }\n",
       "\n",
       "    .dataframe tbody tr th {\n",
       "        vertical-align: top;\n",
       "    }\n",
       "\n",
       "    .dataframe thead th {\n",
       "        text-align: right;\n",
       "    }\n",
       "</style>\n",
       "<table border=\"1\" class=\"dataframe\">\n",
       "  <thead>\n",
       "    <tr style=\"text-align: right;\">\n",
       "      <th></th>\n",
       "      <th>user_id</th>\n",
       "      <th>month</th>\n",
       "      <th>tariff_plan</th>\n",
       "      <th>A</th>\n",
       "      <th>B</th>\n",
       "      <th>C</th>\n",
       "      <th>sum_now</th>\n",
       "      <th>tariff_plan_best</th>\n",
       "      <th>sum_best</th>\n",
       "    </tr>\n",
       "  </thead>\n",
       "  <tbody>\n",
       "    <tr>\n",
       "      <th>0</th>\n",
       "      <td>166377</td>\n",
       "      <td>11</td>\n",
       "      <td>B</td>\n",
       "      <td>6053.2</td>\n",
       "      <td>3216.5</td>\n",
       "      <td>2543.1</td>\n",
       "      <td>3216.5</td>\n",
       "      <td>C</td>\n",
       "      <td>2543.1</td>\n",
       "    </tr>\n",
       "    <tr>\n",
       "      <th>1</th>\n",
       "      <td>166406</td>\n",
       "      <td>11</td>\n",
       "      <td>B</td>\n",
       "      <td>5522.4</td>\n",
       "      <td>2603.0</td>\n",
       "      <td>1764.2</td>\n",
       "      <td>2603.0</td>\n",
       "      <td>C</td>\n",
       "      <td>1764.2</td>\n",
       "    </tr>\n",
       "    <tr>\n",
       "      <th>2</th>\n",
       "      <td>166407</td>\n",
       "      <td>11</td>\n",
       "      <td>A</td>\n",
       "      <td>5856.4</td>\n",
       "      <td>2870.5</td>\n",
       "      <td>1898.7</td>\n",
       "      <td>5856.4</td>\n",
       "      <td>C</td>\n",
       "      <td>1898.7</td>\n",
       "    </tr>\n",
       "    <tr>\n",
       "      <th>3</th>\n",
       "      <td>166428</td>\n",
       "      <td>11</td>\n",
       "      <td>B</td>\n",
       "      <td>5100.0</td>\n",
       "      <td>2100.0</td>\n",
       "      <td>1100.0</td>\n",
       "      <td>2100.0</td>\n",
       "      <td>C</td>\n",
       "      <td>1100.0</td>\n",
       "    </tr>\n",
       "  </tbody>\n",
       "</table>\n",
       "</div>"
      ],
      "text/plain": [
       "   user_id  month tariff_plan       A       B       C  sum_now  \\\n",
       "0   166377     11           B  6053.2  3216.5  2543.1   3216.5   \n",
       "1   166406     11           B  5522.4  2603.0  1764.2   2603.0   \n",
       "2   166407     11           A  5856.4  2870.5  1898.7   5856.4   \n",
       "3   166428     11           B  5100.0  2100.0  1100.0   2100.0   \n",
       "\n",
       "  tariff_plan_best  sum_best  \n",
       "0                C    2543.1  \n",
       "1                C    1764.2  \n",
       "2                C    1898.7  \n",
       "3                C    1100.0  "
      ]
     },
     "metadata": {},
     "output_type": "display_data"
    },
    {
     "data": {
      "text/html": [
       "<div>\n",
       "<style scoped>\n",
       "    .dataframe tbody tr th:only-of-type {\n",
       "        vertical-align: middle;\n",
       "    }\n",
       "\n",
       "    .dataframe tbody tr th {\n",
       "        vertical-align: top;\n",
       "    }\n",
       "\n",
       "    .dataframe thead th {\n",
       "        text-align: right;\n",
       "    }\n",
       "</style>\n",
       "<table border=\"1\" class=\"dataframe\">\n",
       "  <thead>\n",
       "    <tr style=\"text-align: right;\">\n",
       "      <th></th>\n",
       "      <th>user_id</th>\n",
       "      <th>tariff_plan</th>\n",
       "      <th>A</th>\n",
       "      <th>B</th>\n",
       "      <th>C</th>\n",
       "      <th>sum_now</th>\n",
       "      <th>tariff_plan_best</th>\n",
       "      <th>sum_best</th>\n",
       "    </tr>\n",
       "  </thead>\n",
       "  <tbody>\n",
       "    <tr>\n",
       "      <th>0</th>\n",
       "      <td>166377</td>\n",
       "      <td>B</td>\n",
       "      <td>24396.8</td>\n",
       "      <td>13046.0</td>\n",
       "      <td>10344.4</td>\n",
       "      <td>13046.0</td>\n",
       "      <td>C</td>\n",
       "      <td>10344.4</td>\n",
       "    </tr>\n",
       "    <tr>\n",
       "      <th>1</th>\n",
       "      <td>166406</td>\n",
       "      <td>B</td>\n",
       "      <td>23791.6</td>\n",
       "      <td>12514.5</td>\n",
       "      <td>9960.3</td>\n",
       "      <td>12514.5</td>\n",
       "      <td>C</td>\n",
       "      <td>9960.3</td>\n",
       "    </tr>\n",
       "  </tbody>\n",
       "</table>\n",
       "</div>"
      ],
      "text/plain": [
       "   user_id tariff_plan        A        B        C  sum_now tariff_plan_best  \\\n",
       "0   166377           B  24396.8  13046.0  10344.4  13046.0                C   \n",
       "1   166406           B  23791.6  12514.5   9960.3  12514.5                C   \n",
       "\n",
       "   sum_best  \n",
       "0   10344.4  \n",
       "1    9960.3  "
      ]
     },
     "metadata": {},
     "output_type": "display_data"
    }
   ],
   "source": [
    "display(total_bad_tarif.head(4))\n",
    "display(total_bad_tarif_agg.head(2))"
   ]
  },
  {
   "cell_type": "code",
   "execution_count": 70,
   "id": "ee3a5e13",
   "metadata": {},
   "outputs": [
    {
     "data": {
      "text/plain": [
       "{'A': 1, 'B': 2, 'C': 3}"
      ]
     },
     "execution_count": 70,
     "metadata": {},
     "output_type": "execute_result"
    }
   ],
   "source": [
    "# Создадим словарь соответствия названия тарифа и номера\n",
    "# Тарифы располагаем по уменьшению объемов и стоимости.\n",
    "# Чем больше цифра, тем дешевле тариф и меньше минут включено.\n",
    "\n",
    "tariff_dict = tarifs_out[['tariff_num']].T.to_dict('records')[0]\n",
    "tariff_dict"
   ]
  },
  {
   "cell_type": "code",
   "execution_count": 71,
   "id": "cada9f23",
   "metadata": {},
   "outputs": [
    {
     "data": {
      "text/plain": [
       "{1: 'A', 2: 'B', 3: 'C'}"
      ]
     },
     "execution_count": 71,
     "metadata": {},
     "output_type": "execute_result"
    }
   ],
   "source": [
    "# Создадим обратный словарь\n",
    "tariff_dict_rev = {}\n",
    "for keys, num in tariff_dict.items():\n",
    "    tariff_dict_rev[num]= keys\n",
    "tariff_dict_rev"
   ]
  },
  {
   "cell_type": "code",
   "execution_count": 72,
   "id": "038a7e5d",
   "metadata": {
    "scrolled": true
   },
   "outputs": [
    {
     "data": {
      "text/html": [
       "<div>\n",
       "<style scoped>\n",
       "    .dataframe tbody tr th:only-of-type {\n",
       "        vertical-align: middle;\n",
       "    }\n",
       "\n",
       "    .dataframe tbody tr th {\n",
       "        vertical-align: top;\n",
       "    }\n",
       "\n",
       "    .dataframe thead th {\n",
       "        text-align: right;\n",
       "    }\n",
       "</style>\n",
       "<table border=\"1\" class=\"dataframe\">\n",
       "  <thead>\n",
       "    <tr style=\"text-align: right;\">\n",
       "      <th></th>\n",
       "      <th>user_id</th>\n",
       "      <th>month</th>\n",
       "      <th>tariff_plan</th>\n",
       "      <th>A</th>\n",
       "      <th>B</th>\n",
       "      <th>C</th>\n",
       "      <th>sum_now</th>\n",
       "      <th>tariff_plan_best</th>\n",
       "      <th>sum_best</th>\n",
       "    </tr>\n",
       "  </thead>\n",
       "  <tbody>\n",
       "    <tr>\n",
       "      <th>0</th>\n",
       "      <td>166377</td>\n",
       "      <td>11</td>\n",
       "      <td>2</td>\n",
       "      <td>6053.2</td>\n",
       "      <td>3216.5</td>\n",
       "      <td>2543.1</td>\n",
       "      <td>3216.5</td>\n",
       "      <td>3</td>\n",
       "      <td>2543.1</td>\n",
       "    </tr>\n",
       "    <tr>\n",
       "      <th>1</th>\n",
       "      <td>166406</td>\n",
       "      <td>11</td>\n",
       "      <td>2</td>\n",
       "      <td>5522.4</td>\n",
       "      <td>2603.0</td>\n",
       "      <td>1764.2</td>\n",
       "      <td>2603.0</td>\n",
       "      <td>3</td>\n",
       "      <td>1764.2</td>\n",
       "    </tr>\n",
       "  </tbody>\n",
       "</table>\n",
       "</div>"
      ],
      "text/plain": [
       "   user_id  month  tariff_plan       A       B       C  sum_now  \\\n",
       "0   166377     11            2  6053.2  3216.5  2543.1   3216.5   \n",
       "1   166406     11            2  5522.4  2603.0  1764.2   2603.0   \n",
       "\n",
       "   tariff_plan_best  sum_best  \n",
       "0                 3    2543.1  \n",
       "1                 3    1764.2  "
      ]
     },
     "execution_count": 72,
     "metadata": {},
     "output_type": "execute_result"
    }
   ],
   "source": [
    "# заменим назваине тарифа на номер (цифру)\n",
    "total_bad_tarif['tariff_plan'] = total_bad_tarif['tariff_plan'].map(tariff_dict)\n",
    "total_bad_tarif['tariff_plan_best'] = total_bad_tarif['tariff_plan_best'].map(tariff_dict)\n",
    "total_bad_tarif.head(2)"
   ]
  },
  {
   "cell_type": "markdown",
   "id": "0a77ea8a",
   "metadata": {},
   "source": [
    "#### Дельта текущего и оптимельного тарифов"
   ]
  },
  {
   "cell_type": "markdown",
   "id": "f6883744",
   "metadata": {},
   "source": [
    "#### По количеству пользователей"
   ]
  },
  {
   "cell_type": "code",
   "execution_count": 73,
   "id": "5a75a476",
   "metadata": {
    "scrolled": false
   },
   "outputs": [],
   "source": [
    "total_bad_tarif['diff'] = total_bad_tarif['tariff_plan_best'] - total_bad_tarif['tariff_plan']"
   ]
  },
  {
   "cell_type": "code",
   "execution_count": 74,
   "id": "9ea0cafb",
   "metadata": {
    "scrolled": false
   },
   "outputs": [
    {
     "data": {
      "text/html": [
       "<div>\n",
       "<style scoped>\n",
       "    .dataframe tbody tr th:only-of-type {\n",
       "        vertical-align: middle;\n",
       "    }\n",
       "\n",
       "    .dataframe tbody tr th {\n",
       "        vertical-align: top;\n",
       "    }\n",
       "\n",
       "    .dataframe thead th {\n",
       "        text-align: right;\n",
       "    }\n",
       "</style>\n",
       "<table border=\"1\" class=\"dataframe\">\n",
       "  <thead>\n",
       "    <tr style=\"text-align: right;\">\n",
       "      <th></th>\n",
       "      <th>tariff_plan_now</th>\n",
       "      <th>delta</th>\n",
       "      <th>users</th>\n",
       "    </tr>\n",
       "  </thead>\n",
       "  <tbody>\n",
       "    <tr>\n",
       "      <th>0</th>\n",
       "      <td>A</td>\n",
       "      <td>2</td>\n",
       "      <td>25</td>\n",
       "    </tr>\n",
       "    <tr>\n",
       "      <th>1</th>\n",
       "      <td>B</td>\n",
       "      <td>1</td>\n",
       "      <td>94</td>\n",
       "    </tr>\n",
       "    <tr>\n",
       "      <th>2</th>\n",
       "      <td>C</td>\n",
       "      <td>-1</td>\n",
       "      <td>1</td>\n",
       "    </tr>\n",
       "  </tbody>\n",
       "</table>\n",
       "</div>"
      ],
      "text/plain": [
       "  tariff_plan_now  delta  users\n",
       "0               A      2     25\n",
       "1               B      1     94\n",
       "2               C     -1      1"
      ]
     },
     "execution_count": 74,
     "metadata": {},
     "output_type": "execute_result"
    }
   ],
   "source": [
    "tarif_delta = total_bad_tarif.groupby(['tariff_plan','diff'])[['user_id']].count().reset_index()\n",
    "tarif_delta.columns = ['tariff_plan_now', 'delta', 'users']\n",
    "tarif_delta['tariff_plan_now'] = tarif_delta['tariff_plan_now'].map(tariff_dict_rev)\n",
    "tarif_delta"
   ]
  },
  {
   "cell_type": "code",
   "execution_count": 75,
   "id": "75f58c21",
   "metadata": {
    "scrolled": true
   },
   "outputs": [
    {
     "data": {
      "image/png": "[encoded data removed]",
      "text/plain": [
       "<Figure size 504x360 with 1 Axes>"
      ]
     },
     "metadata": {
      "needs_background": "light"
     },
     "output_type": "display_data"
    }
   ],
   "source": [
    "plt.figure(figsize=(7, 5))\n",
    "ax = sns.barplot(x='tariff_plan_now', y='users', hue='delta', data=tarif_delta) \n",
    "plt.title('Изменение тарифов на оптимальные')\n",
    "plt.grid(True)\n",
    "plt.ylabel('Изменение тарифа')\n",
    "plt.xlabel('Текущий тариф');"
   ]
  },
  {
   "cell_type": "markdown",
   "id": "ccd647e5",
   "metadata": {},
   "source": [
    "Большинство пользователей используют тариф более дорогой, чем им нужно.\\\n",
    "Самая неоптимальная группа на тарифе B и с него целесообразно перейти на C (94 пользователя).\\\n",
    "С тарифа A выгодно перейти на тариф C (25 пользователей).\\\n",
    "Только одному пользователю необходимо перейти на более дорогой тариф (с тарифа C на тариф B)."
   ]
  },
  {
   "cell_type": "markdown",
   "id": "fd16ea2e",
   "metadata": {},
   "source": [
    "#### В денежном выражении"
   ]
  },
  {
   "cell_type": "code",
   "execution_count": 76,
   "id": "dce50fbb",
   "metadata": {},
   "outputs": [
    {
     "data": {
      "text/html": [
       "<div>\n",
       "<style scoped>\n",
       "    .dataframe tbody tr th:only-of-type {\n",
       "        vertical-align: middle;\n",
       "    }\n",
       "\n",
       "    .dataframe tbody tr th {\n",
       "        vertical-align: top;\n",
       "    }\n",
       "\n",
       "    .dataframe thead th {\n",
       "        text-align: right;\n",
       "    }\n",
       "</style>\n",
       "<table border=\"1\" class=\"dataframe\">\n",
       "  <thead>\n",
       "    <tr style=\"text-align: right;\">\n",
       "      <th></th>\n",
       "      <th>user_id</th>\n",
       "      <th>month</th>\n",
       "      <th>tariff_plan</th>\n",
       "      <th>A</th>\n",
       "      <th>B</th>\n",
       "      <th>C</th>\n",
       "      <th>sum_now</th>\n",
       "      <th>tariff_plan_best</th>\n",
       "      <th>sum_best</th>\n",
       "      <th>diff</th>\n",
       "    </tr>\n",
       "  </thead>\n",
       "  <tbody>\n",
       "    <tr>\n",
       "      <th>0</th>\n",
       "      <td>166377</td>\n",
       "      <td>11</td>\n",
       "      <td>2</td>\n",
       "      <td>6053.2</td>\n",
       "      <td>3216.5</td>\n",
       "      <td>2543.1</td>\n",
       "      <td>3216.5</td>\n",
       "      <td>3</td>\n",
       "      <td>2543.1</td>\n",
       "      <td>1</td>\n",
       "    </tr>\n",
       "    <tr>\n",
       "      <th>1</th>\n",
       "      <td>166406</td>\n",
       "      <td>11</td>\n",
       "      <td>2</td>\n",
       "      <td>5522.4</td>\n",
       "      <td>2603.0</td>\n",
       "      <td>1764.2</td>\n",
       "      <td>2603.0</td>\n",
       "      <td>3</td>\n",
       "      <td>1764.2</td>\n",
       "      <td>1</td>\n",
       "    </tr>\n",
       "    <tr>\n",
       "      <th>2</th>\n",
       "      <td>166407</td>\n",
       "      <td>11</td>\n",
       "      <td>1</td>\n",
       "      <td>5856.4</td>\n",
       "      <td>2870.5</td>\n",
       "      <td>1898.7</td>\n",
       "      <td>5856.4</td>\n",
       "      <td>3</td>\n",
       "      <td>1898.7</td>\n",
       "      <td>2</td>\n",
       "    </tr>\n",
       "    <tr>\n",
       "      <th>3</th>\n",
       "      <td>166428</td>\n",
       "      <td>11</td>\n",
       "      <td>2</td>\n",
       "      <td>5100.0</td>\n",
       "      <td>2100.0</td>\n",
       "      <td>1100.0</td>\n",
       "      <td>2100.0</td>\n",
       "      <td>3</td>\n",
       "      <td>1100.0</td>\n",
       "      <td>1</td>\n",
       "    </tr>\n",
       "    <tr>\n",
       "      <th>4</th>\n",
       "      <td>166485</td>\n",
       "      <td>11</td>\n",
       "      <td>2</td>\n",
       "      <td>6864.8</td>\n",
       "      <td>4206.0</td>\n",
       "      <td>3888.4</td>\n",
       "      <td>4206.0</td>\n",
       "      <td>3</td>\n",
       "      <td>3888.4</td>\n",
       "      <td>1</td>\n",
       "    </tr>\n",
       "    <tr>\n",
       "      <th>...</th>\n",
       "      <td>...</td>\n",
       "      <td>...</td>\n",
       "      <td>...</td>\n",
       "      <td>...</td>\n",
       "      <td>...</td>\n",
       "      <td>...</td>\n",
       "      <td>...</td>\n",
       "      <td>...</td>\n",
       "      <td>...</td>\n",
       "      <td>...</td>\n",
       "    </tr>\n",
       "    <tr>\n",
       "      <th>115</th>\n",
       "      <td>168562</td>\n",
       "      <td>11</td>\n",
       "      <td>2</td>\n",
       "      <td>5100.0</td>\n",
       "      <td>2100.0</td>\n",
       "      <td>1100.0</td>\n",
       "      <td>2100.0</td>\n",
       "      <td>3</td>\n",
       "      <td>1100.0</td>\n",
       "      <td>1</td>\n",
       "    </tr>\n",
       "    <tr>\n",
       "      <th>116</th>\n",
       "      <td>168578</td>\n",
       "      <td>11</td>\n",
       "      <td>2</td>\n",
       "      <td>5000.0</td>\n",
       "      <td>2000.0</td>\n",
       "      <td>1000.0</td>\n",
       "      <td>2000.0</td>\n",
       "      <td>3</td>\n",
       "      <td>1000.0</td>\n",
       "      <td>1</td>\n",
       "    </tr>\n",
       "    <tr>\n",
       "      <th>117</th>\n",
       "      <td>168579</td>\n",
       "      <td>11</td>\n",
       "      <td>2</td>\n",
       "      <td>5200.0</td>\n",
       "      <td>2200.0</td>\n",
       "      <td>1200.0</td>\n",
       "      <td>2200.0</td>\n",
       "      <td>3</td>\n",
       "      <td>1200.0</td>\n",
       "      <td>1</td>\n",
       "    </tr>\n",
       "    <tr>\n",
       "      <th>118</th>\n",
       "      <td>168583</td>\n",
       "      <td>11</td>\n",
       "      <td>2</td>\n",
       "      <td>5200.0</td>\n",
       "      <td>2200.0</td>\n",
       "      <td>1200.0</td>\n",
       "      <td>2200.0</td>\n",
       "      <td>3</td>\n",
       "      <td>1200.0</td>\n",
       "      <td>1</td>\n",
       "    </tr>\n",
       "    <tr>\n",
       "      <th>119</th>\n",
       "      <td>168603</td>\n",
       "      <td>11</td>\n",
       "      <td>2</td>\n",
       "      <td>5109.2</td>\n",
       "      <td>2111.5</td>\n",
       "      <td>1116.1</td>\n",
       "      <td>2111.5</td>\n",
       "      <td>3</td>\n",
       "      <td>1116.1</td>\n",
       "      <td>1</td>\n",
       "    </tr>\n",
       "  </tbody>\n",
       "</table>\n",
       "<p>120 rows × 10 columns</p>\n",
       "</div>"
      ],
      "text/plain": [
       "     user_id  month  tariff_plan       A       B       C  sum_now  \\\n",
       "0     166377     11            2  6053.2  3216.5  2543.1   3216.5   \n",
       "1     166406     11            2  5522.4  2603.0  1764.2   2603.0   \n",
       "2     166407     11            1  5856.4  2870.5  1898.7   5856.4   \n",
       "3     166428     11            2  5100.0  2100.0  1100.0   2100.0   \n",
       "4     166485     11            2  6864.8  4206.0  3888.4   4206.0   \n",
       "..       ...    ...          ...     ...     ...     ...      ...   \n",
       "115   168562     11            2  5100.0  2100.0  1100.0   2100.0   \n",
       "116   168578     11            2  5000.0  2000.0  1000.0   2000.0   \n",
       "117   168579     11            2  5200.0  2200.0  1200.0   2200.0   \n",
       "118   168583     11            2  5200.0  2200.0  1200.0   2200.0   \n",
       "119   168603     11            2  5109.2  2111.5  1116.1   2111.5   \n",
       "\n",
       "     tariff_plan_best  sum_best  diff  \n",
       "0                   3    2543.1     1  \n",
       "1                   3    1764.2     1  \n",
       "2                   3    1898.7     2  \n",
       "3                   3    1100.0     1  \n",
       "4                   3    3888.4     1  \n",
       "..                ...       ...   ...  \n",
       "115                 3    1100.0     1  \n",
       "116                 3    1000.0     1  \n",
       "117                 3    1200.0     1  \n",
       "118                 3    1200.0     1  \n",
       "119                 3    1116.1     1  \n",
       "\n",
       "[120 rows x 10 columns]"
      ]
     },
     "execution_count": 76,
     "metadata": {},
     "output_type": "execute_result"
    }
   ],
   "source": [
    "total_bad_tarif"
   ]
  },
  {
   "cell_type": "code",
   "execution_count": 77,
   "id": "51e265e3",
   "metadata": {},
   "outputs": [],
   "source": [
    "total_bad_tarif['sum_diff'] = total_bad_tarif['sum_best'] - total_bad_tarif['sum_now']"
   ]
  },
  {
   "cell_type": "code",
   "execution_count": 78,
   "id": "5eec505a",
   "metadata": {},
   "outputs": [
    {
     "data": {
      "text/html": [
       "<div>\n",
       "<style scoped>\n",
       "    .dataframe tbody tr th:only-of-type {\n",
       "        vertical-align: middle;\n",
       "    }\n",
       "\n",
       "    .dataframe tbody tr th {\n",
       "        vertical-align: top;\n",
       "    }\n",
       "\n",
       "    .dataframe thead th {\n",
       "        text-align: right;\n",
       "    }\n",
       "</style>\n",
       "<table border=\"1\" class=\"dataframe\">\n",
       "  <thead>\n",
       "    <tr style=\"text-align: right;\">\n",
       "      <th></th>\n",
       "      <th>tariff_plan_now</th>\n",
       "      <th>delta</th>\n",
       "      <th>Потенциальный убыток</th>\n",
       "    </tr>\n",
       "  </thead>\n",
       "  <tbody>\n",
       "    <tr>\n",
       "      <th>0</th>\n",
       "      <td>A</td>\n",
       "      <td>2</td>\n",
       "      <td>96657.1</td>\n",
       "    </tr>\n",
       "    <tr>\n",
       "      <th>1</th>\n",
       "      <td>B</td>\n",
       "      <td>1</td>\n",
       "      <td>85785.4</td>\n",
       "    </tr>\n",
       "    <tr>\n",
       "      <th>2</th>\n",
       "      <td>C</td>\n",
       "      <td>-1</td>\n",
       "      <td>937.2</td>\n",
       "    </tr>\n",
       "  </tbody>\n",
       "</table>\n",
       "</div>"
      ],
      "text/plain": [
       "  tariff_plan_now  delta  Потенциальный убыток\n",
       "0               A      2               96657.1\n",
       "1               B      1               85785.4\n",
       "2               C     -1                 937.2"
      ]
     },
     "execution_count": 78,
     "metadata": {},
     "output_type": "execute_result"
    }
   ],
   "source": [
    "sum_delta = total_bad_tarif.groupby(['tariff_plan','diff'])[['sum_diff']].sum().reset_index()\n",
    "sum_delta['sum_diff'] = sum_delta['sum_diff']*-1\n",
    "sum_delta.columns = ['tariff_plan_now', 'delta', 'Потенциальный убыток']\n",
    "sum_delta['tariff_plan_now'] = sum_delta['tariff_plan_now'].map(tariff_dict_rev)\n",
    "sum_delta"
   ]
  },
  {
   "cell_type": "code",
   "execution_count": 79,
   "id": "5d14ddbe",
   "metadata": {},
   "outputs": [
    {
     "data": {
      "image/png": "[encoded data removed]",
      "text/plain": [
       "<Figure size 504x360 with 1 Axes>"
      ]
     },
     "metadata": {
      "needs_background": "light"
     },
     "output_type": "display_data"
    }
   ],
   "source": [
    "plt.figure(figsize=(7, 5))\n",
    "ax = sns.barplot(x='tariff_plan_now', y='Потенциальный убыток', hue='delta', data=sum_delta) \n",
    "plt.title('Изменение тарифов на оптимальные')\n",
    "plt.grid(True)\n",
    "plt.ylabel('Изменение тарифа')\n",
    "plt.xlabel('Текущий тариф');"
   ]
  },
  {
   "cell_type": "markdown",
   "id": "19fe967a",
   "metadata": {},
   "source": [
    "Можно заметить, что максимальный убыток даст перевод пользователей с тарифа А на тариф С.\\\n",
    "В данной ситуации стоит рассмотреть перевод этих пользователей с А на В.\\\n",
    "С точки зрения выбора пользователей для перевода необходимо понять политику компании в данном вопросе.\\\n",
    "Более подробный расчет будет далее."
   ]
  },
  {
   "cell_type": "markdown",
   "id": "3fda0422",
   "metadata": {},
   "source": [
    "#### Проанализируем изменения по сумме"
   ]
  },
  {
   "cell_type": "markdown",
   "id": "f11792b8",
   "metadata": {},
   "source": [
    "##### Предположим, что следующий месяц будет таким же как ноябрь."
   ]
  },
  {
   "cell_type": "code",
   "execution_count": 80,
   "id": "66d5054e",
   "metadata": {},
   "outputs": [],
   "source": [
    "total_bad_tarif['sum_now_cumsum'] = total_bad_tarif['sum_now'].cumsum()\n",
    "total_bad_tarif['sum_best_cumsum'] = total_bad_tarif['sum_best'].cumsum()\n",
    "total_bad_tarif['% превышения расходов над оптимальными'] = total_bad_tarif['sum_now_cumsum']/total_bad_tarif['sum_best_cumsum']*100"
   ]
  },
  {
   "cell_type": "code",
   "execution_count": 81,
   "id": "e59ca5fa",
   "metadata": {},
   "outputs": [
    {
     "data": {
      "text/html": [
       "<div>\n",
       "<style scoped>\n",
       "    .dataframe tbody tr th:only-of-type {\n",
       "        vertical-align: middle;\n",
       "    }\n",
       "\n",
       "    .dataframe tbody tr th {\n",
       "        vertical-align: top;\n",
       "    }\n",
       "\n",
       "    .dataframe thead th {\n",
       "        text-align: right;\n",
       "    }\n",
       "</style>\n",
       "<table border=\"1\" class=\"dataframe\">\n",
       "  <thead>\n",
       "    <tr style=\"text-align: right;\">\n",
       "      <th></th>\n",
       "      <th>Вариант</th>\n",
       "      <th>Доход при текущих тарифах всего</th>\n",
       "      <th>Доход при оптимизации</th>\n",
       "      <th>Разница</th>\n",
       "    </tr>\n",
       "  </thead>\n",
       "  <tbody>\n",
       "  </tbody>\n",
       "</table>\n",
       "</div>"
      ],
      "text/plain": [
       "Empty DataFrame\n",
       "Columns: [Вариант, Доход при текущих тарифах всего, Доход при оптимизации, Разница]\n",
       "Index: []"
      ]
     },
     "execution_count": 81,
     "metadata": {},
     "output_type": "execute_result"
    }
   ],
   "source": [
    "# Создадим датафрейм с расчетами доходов. \n",
    "sums_compare = pd.DataFrame({\n",
    "    'Вариант': [],\n",
    "    'Доход при текущих тарифах всего': [],\n",
    "    'Доход при оптимизации': [], \n",
    "    'Разница': []})\n",
    "sums_compare"
   ]
  },
  {
   "cell_type": "code",
   "execution_count": 82,
   "id": "0fcfd54e",
   "metadata": {},
   "outputs": [
    {
     "name": "stderr",
     "output_type": "stream",
     "text": [
      "C:\\Users\\Strel\\AppData\\Local\\Temp\\ipykernel_3832\\919378410.py:5: FutureWarning: The frame.append method is deprecated and will be removed from pandas in a future version. Use pandas.concat instead.\n",
      "  sums_compare = sums_compare.append(a, ignore_index=True)\n"
     ]
    },
    {
     "data": {
      "text/html": [
       "<div>\n",
       "<style scoped>\n",
       "    .dataframe tbody tr th:only-of-type {\n",
       "        vertical-align: middle;\n",
       "    }\n",
       "\n",
       "    .dataframe tbody tr th {\n",
       "        vertical-align: top;\n",
       "    }\n",
       "\n",
       "    .dataframe thead th {\n",
       "        text-align: right;\n",
       "    }\n",
       "</style>\n",
       "<table border=\"1\" class=\"dataframe\">\n",
       "  <thead>\n",
       "    <tr style=\"text-align: right;\">\n",
       "      <th></th>\n",
       "      <th>Вариант</th>\n",
       "      <th>Доход при текущих тарифах всего</th>\n",
       "      <th>Доход при оптимизации</th>\n",
       "      <th>Разница</th>\n",
       "    </tr>\n",
       "  </thead>\n",
       "  <tbody>\n",
       "    <tr>\n",
       "      <th>0</th>\n",
       "      <td>Вариант_Все(максимум)</td>\n",
       "      <td>381573.9</td>\n",
       "      <td>198194.2</td>\n",
       "      <td>-183379.7</td>\n",
       "    </tr>\n",
       "  </tbody>\n",
       "</table>\n",
       "</div>"
      ],
      "text/plain": [
       "                 Вариант  Доход при текущих тарифах всего  \\\n",
       "0  Вариант_Все(максимум)                         381573.9   \n",
       "\n",
       "   Доход при оптимизации   Разница  \n",
       "0               198194.2 -183379.7  "
      ]
     },
     "execution_count": 82,
     "metadata": {},
     "output_type": "execute_result"
    }
   ],
   "source": [
    "a={'Вариант':'Вариант_Все(максимум)',\n",
    "   'Доход при текущих тарифах всего':total_bad_tarif['sum_now'].sum(),\n",
    "   'Доход при оптимизации':total_bad_tarif['sum_best'].sum(),\n",
    "   'Разница':total_bad_tarif['sum_best'].sum()-total_bad_tarif['sum_now'].sum()}\n",
    "sums_compare = sums_compare.append(a, ignore_index=True)\n",
    "sums_compare\n",
    "\n",
    "# print('Доход при текущих тарифах всего', total_bad_tarif['sum_now'].sum(),'\\n',\n",
    "#       'Доход при оптимальных тарифах всего', total_bad_tarif['sum_best'].sum(),'\\n',\n",
    "#       'Разница', round(total_bad_tarif['sum_best'].sum()-total_bad_tarif['sum_now'].sum()))"
   ]
  },
  {
   "cell_type": "code",
   "execution_count": 83,
   "id": "b8d5af8c",
   "metadata": {},
   "outputs": [
    {
     "data": {
      "text/html": [
       "<div>\n",
       "<style scoped>\n",
       "    .dataframe tbody tr th:only-of-type {\n",
       "        vertical-align: middle;\n",
       "    }\n",
       "\n",
       "    .dataframe tbody tr th {\n",
       "        vertical-align: top;\n",
       "    }\n",
       "\n",
       "    .dataframe thead th {\n",
       "        text-align: right;\n",
       "    }\n",
       "</style>\n",
       "<table border=\"1\" class=\"dataframe\">\n",
       "  <thead>\n",
       "    <tr style=\"text-align: right;\">\n",
       "      <th></th>\n",
       "      <th>user_id</th>\n",
       "      <th>month</th>\n",
       "      <th>tariff_plan</th>\n",
       "      <th>A</th>\n",
       "      <th>B</th>\n",
       "      <th>C</th>\n",
       "      <th>sum_now</th>\n",
       "      <th>tariff_plan_best</th>\n",
       "      <th>sum_best</th>\n",
       "      <th>diff</th>\n",
       "      <th>sum_diff</th>\n",
       "      <th>sum_now_cumsum</th>\n",
       "      <th>sum_best_cumsum</th>\n",
       "      <th>% превышения расходов над оптимальными</th>\n",
       "    </tr>\n",
       "  </thead>\n",
       "  <tbody>\n",
       "    <tr>\n",
       "      <th>0</th>\n",
       "      <td>166377</td>\n",
       "      <td>11</td>\n",
       "      <td>2</td>\n",
       "      <td>6053.2</td>\n",
       "      <td>3216.5</td>\n",
       "      <td>2543.1</td>\n",
       "      <td>3216.5</td>\n",
       "      <td>3</td>\n",
       "      <td>2543.1</td>\n",
       "      <td>1</td>\n",
       "      <td>-673.4</td>\n",
       "      <td>3216.5</td>\n",
       "      <td>2543.1</td>\n",
       "      <td>126.479494</td>\n",
       "    </tr>\n",
       "    <tr>\n",
       "      <th>1</th>\n",
       "      <td>166406</td>\n",
       "      <td>11</td>\n",
       "      <td>2</td>\n",
       "      <td>5522.4</td>\n",
       "      <td>2603.0</td>\n",
       "      <td>1764.2</td>\n",
       "      <td>2603.0</td>\n",
       "      <td>3</td>\n",
       "      <td>1764.2</td>\n",
       "      <td>1</td>\n",
       "      <td>-838.8</td>\n",
       "      <td>5819.5</td>\n",
       "      <td>4307.3</td>\n",
       "      <td>135.107840</td>\n",
       "    </tr>\n",
       "  </tbody>\n",
       "</table>\n",
       "</div>"
      ],
      "text/plain": [
       "   user_id  month  tariff_plan       A       B       C  sum_now  \\\n",
       "0   166377     11            2  6053.2  3216.5  2543.1   3216.5   \n",
       "1   166406     11            2  5522.4  2603.0  1764.2   2603.0   \n",
       "\n",
       "   tariff_plan_best  sum_best  diff  sum_diff  sum_now_cumsum  \\\n",
       "0                 3    2543.1     1    -673.4          3216.5   \n",
       "1                 3    1764.2     1    -838.8          5819.5   \n",
       "\n",
       "   sum_best_cumsum  % превышения расходов над оптимальными  \n",
       "0           2543.1                              126.479494  \n",
       "1           4307.3                              135.107840  "
      ]
     },
     "metadata": {},
     "output_type": "display_data"
    }
   ],
   "source": [
    "display(total_bad_tarif.head(2))"
   ]
  },
  {
   "cell_type": "code",
   "execution_count": 84,
   "id": "bfa27a84",
   "metadata": {
    "scrolled": true
   },
   "outputs": [
    {
     "data": {
      "image/png": "[encoded data removed]",
      "text/plain": [
       "<Figure size 432x288 with 1 Axes>"
      ]
     },
     "metadata": {
      "needs_background": "light"
     },
     "output_type": "display_data"
    }
   ],
   "source": [
    "total_bad_tarif[['sum_now_cumsum','sum_best_cumsum']].plot(grid=True, xlabel='Пользователи', ylabel='Выручка', title='Изменение кумулятивной выручки');"
   ]
  },
  {
   "cell_type": "code",
   "execution_count": 85,
   "id": "c886e333",
   "metadata": {},
   "outputs": [
    {
     "data": {
      "image/png": "[encoded data removed]",
      "text/plain": [
       "<Figure size 504x360 with 1 Axes>"
      ]
     },
     "metadata": {
      "needs_background": "light"
     },
     "output_type": "display_data"
    }
   ],
   "source": [
    "total_bad_tarif[['% превышения расходов над оптимальными']].plot(grid=True, xlabel='Пользователи', ylabel='Изменение выручки', title='Относительное изменение кумулятивной выручки', figsize=(7, 5));"
   ]
  },
  {
   "cell_type": "markdown",
   "id": "bb90a8f9",
   "metadata": {},
   "source": [
    "##### Предположим, что в исследуемый период у всех НЕОПТИМАЛЬНЫХ пользователей был бы оптимальный тариф."
   ]
  },
  {
   "cell_type": "code",
   "execution_count": 86,
   "id": "28bdbee6",
   "metadata": {},
   "outputs": [
    {
     "name": "stdout",
     "output_type": "stream",
     "text": [
      " Доход при текущих тарифах всего 1038679 \n",
      " Доход при оптимальных тарифах всего 510247 \n",
      " Разница -528432\n"
     ]
    }
   ],
   "source": [
    "# a={'Вариант':'Вариант_Все(4 месяца)',\n",
    "#    'Доход при текущих тарифах всего':total_bad_tarif_agg['sum_now'].sum(),\n",
    "#    'Доход при оптимизации':total_bad_tarif_agg['sum_best'].sum(),\n",
    "#    'Разница':total_bad_tarif_agg['sum_best'].sum()-total_bad_tarif_agg['sum_now'].sum()}\n",
    "# sums_compare = sums_compare.append(a, ignore_index=True)\n",
    "# sums_compare\n",
    "print(' Доход при текущих тарифах всего', round(total_bad_tarif_agg['sum_now'].sum()),'\\n',\n",
    "      'Доход при оптимальных тарифах всего', round(total_bad_tarif_agg['sum_best'].sum()),'\\n',\n",
    "      'Разница', round(total_bad_tarif_agg['sum_best'].sum()-total_bad_tarif_agg['sum_now'].sum()))"
   ]
  },
  {
   "cell_type": "code",
   "execution_count": 87,
   "id": "56cfcdfb",
   "metadata": {},
   "outputs": [],
   "source": [
    "total_bad_tarif_agg['sum_now_cumsum'] = total_bad_tarif_agg['sum_now'].cumsum()\n",
    "total_bad_tarif_agg['sum_best_cumsum'] = total_bad_tarif_agg['sum_best'].cumsum()\n",
    "total_bad_tarif_agg['% превышения расходов над оптимальными'] = total_bad_tarif_agg['sum_now_cumsum']/total_bad_tarif_agg['sum_best_cumsum']*100"
   ]
  },
  {
   "cell_type": "code",
   "execution_count": 88,
   "id": "29b14fbc",
   "metadata": {
    "scrolled": true
   },
   "outputs": [
    {
     "data": {
      "image/png": "[encoded data removed]",
      "text/plain": [
       "<Figure size 432x288 with 1 Axes>"
      ]
     },
     "metadata": {
      "needs_background": "light"
     },
     "output_type": "display_data"
    }
   ],
   "source": [
    "total_bad_tarif_agg[['sum_now_cumsum','sum_best_cumsum']].plot(grid=True, xlabel='Пользователи', ylabel='Выручка', title='Изменение кумулятивной выручки');"
   ]
  },
  {
   "cell_type": "code",
   "execution_count": 89,
   "id": "6f13704e",
   "metadata": {
    "scrolled": false
   },
   "outputs": [
    {
     "data": {
      "image/png": "[encoded data removed]",
      "text/plain": [
       "<Figure size 432x288 with 1 Axes>"
      ]
     },
     "metadata": {
      "needs_background": "light"
     },
     "output_type": "display_data"
    }
   ],
   "source": [
    "total_bad_tarif_agg[['% превышения расходов над оптимальными']].plot(grid=True, xlabel='Пользователи', ylabel='Изменение выручки', title='Относительное изменение кумулятивной выручки');"
   ]
  },
  {
   "cell_type": "markdown",
   "id": "91d91a1f",
   "metadata": {},
   "source": [
    "По всем полученным данным видно, что полный перевод пользователей на оптимальный тариф крайне сильно скажется на прибыль компании."
   ]
  },
  {
   "cell_type": "markdown",
   "id": "65719fd5",
   "metadata": {},
   "source": [
    "#### Колебание убытка по пользователям (при переводе на оптимальный тариф)"
   ]
  },
  {
   "cell_type": "code",
   "execution_count": 90,
   "id": "65824f5c",
   "metadata": {},
   "outputs": [
    {
     "data": {
      "text/html": [
       "<div>\n",
       "<style scoped>\n",
       "    .dataframe tbody tr th:only-of-type {\n",
       "        vertical-align: middle;\n",
       "    }\n",
       "\n",
       "    .dataframe tbody tr th {\n",
       "        vertical-align: top;\n",
       "    }\n",
       "\n",
       "    .dataframe thead th {\n",
       "        text-align: right;\n",
       "    }\n",
       "</style>\n",
       "<table border=\"1\" class=\"dataframe\">\n",
       "  <thead>\n",
       "    <tr style=\"text-align: right;\">\n",
       "      <th></th>\n",
       "      <th>user_id</th>\n",
       "      <th>month</th>\n",
       "      <th>tariff_plan</th>\n",
       "      <th>A</th>\n",
       "      <th>B</th>\n",
       "      <th>C</th>\n",
       "      <th>sum_now</th>\n",
       "      <th>tariff_plan_best</th>\n",
       "      <th>sum_best</th>\n",
       "      <th>diff</th>\n",
       "      <th>sum_diff</th>\n",
       "      <th>sum_now_cumsum</th>\n",
       "      <th>sum_best_cumsum</th>\n",
       "      <th>% превышения расходов над оптимальными</th>\n",
       "    </tr>\n",
       "  </thead>\n",
       "  <tbody>\n",
       "    <tr>\n",
       "      <th>0</th>\n",
       "      <td>166377</td>\n",
       "      <td>11</td>\n",
       "      <td>2</td>\n",
       "      <td>6053.2</td>\n",
       "      <td>3216.5</td>\n",
       "      <td>2543.1</td>\n",
       "      <td>3216.5</td>\n",
       "      <td>3</td>\n",
       "      <td>2543.1</td>\n",
       "      <td>1</td>\n",
       "      <td>-673.4</td>\n",
       "      <td>3216.5</td>\n",
       "      <td>2543.1</td>\n",
       "      <td>126.479494</td>\n",
       "    </tr>\n",
       "    <tr>\n",
       "      <th>1</th>\n",
       "      <td>166406</td>\n",
       "      <td>11</td>\n",
       "      <td>2</td>\n",
       "      <td>5522.4</td>\n",
       "      <td>2603.0</td>\n",
       "      <td>1764.2</td>\n",
       "      <td>2603.0</td>\n",
       "      <td>3</td>\n",
       "      <td>1764.2</td>\n",
       "      <td>1</td>\n",
       "      <td>-838.8</td>\n",
       "      <td>5819.5</td>\n",
       "      <td>4307.3</td>\n",
       "      <td>135.107840</td>\n",
       "    </tr>\n",
       "  </tbody>\n",
       "</table>\n",
       "</div>"
      ],
      "text/plain": [
       "   user_id  month  tariff_plan       A       B       C  sum_now  \\\n",
       "0   166377     11            2  6053.2  3216.5  2543.1   3216.5   \n",
       "1   166406     11            2  5522.4  2603.0  1764.2   2603.0   \n",
       "\n",
       "   tariff_plan_best  sum_best  diff  sum_diff  sum_now_cumsum  \\\n",
       "0                 3    2543.1     1    -673.4          3216.5   \n",
       "1                 3    1764.2     1    -838.8          5819.5   \n",
       "\n",
       "   sum_best_cumsum  % превышения расходов над оптимальными  \n",
       "0           2543.1                              126.479494  \n",
       "1           4307.3                              135.107840  "
      ]
     },
     "execution_count": 90,
     "metadata": {},
     "output_type": "execute_result"
    }
   ],
   "source": [
    "total_bad_tarif.head(2)"
   ]
  },
  {
   "cell_type": "code",
   "execution_count": 91,
   "id": "fe51e9e6",
   "metadata": {
    "scrolled": false
   },
   "outputs": [
    {
     "data": {
      "image/png": "[encoded data removed]",
      "text/plain": [
       "<Figure size 504x360 with 1 Axes>"
      ]
     },
     "metadata": {
      "needs_background": "light"
     },
     "output_type": "display_data"
    }
   ],
   "source": [
    "total_bad_tarif['tariff_plan'] = total_bad_tarif['tariff_plan'].map(tariff_dict_rev)\n",
    "plt.figure(figsize=(7, 5))\n",
    "ax = sns.scatterplot(x='sum_now', y='sum_diff', hue='tariff_plan',palette='dark', data=total_bad_tarif)\n",
    "plt.grid(True)\n",
    "plt.xlabel('Доход от пользователя')\n",
    "plt.ylabel('Потери при смене тарифа')\n",
    "plt.title('Потери при смене тарифа / расходы пользователей', size=18);"
   ]
  },
  {
   "cell_type": "markdown",
   "id": "219d808d",
   "metadata": {},
   "source": [
    "Проанализировав график можно отметить, что есть пользователи, котрые принесут не очень большой убыток при этом их достаточно много, а платят мало.\\\n",
    "Несколько пользователей платят очень много при этом убыток будет средний. (их точно нужно переводить)\\\n",
    "И есть группа , которая платит в районе 6000 при этом при переводе их на оптимальный тариф убыток будет по 3,5-4 тысячи. ( думаю что эту группу лучше не трогать, либо трогать, с частичным улучшением условий).\\\n",
    "Посмотрим, как будет выглядеть этот график, если предложить частичное улучшение условий."
   ]
  },
  {
   "cell_type": "markdown",
   "id": "f5d07c79",
   "metadata": {},
   "source": [
    "### Просчет дельты при разных вариантах перехода (например Если для пользователя с текущим тарифом А и выгодном тарифе С, просчитать варианты перехода с А на В и с А на С)."
   ]
  },
  {
   "cell_type": "markdown",
   "id": "13758628",
   "metadata": {},
   "source": [
    "#### Вариант 1. Изменим улучшение тарифа с 2ух шагов на 1"
   ]
  },
  {
   "cell_type": "code",
   "execution_count": 92,
   "id": "14e9d177",
   "metadata": {},
   "outputs": [],
   "source": [
    "total_bad_tarif['diff_1'] = total_bad_tarif['diff'].mask(total_bad_tarif['diff'] == 2, 1)"
   ]
  },
  {
   "cell_type": "code",
   "execution_count": 93,
   "id": "30001a4c",
   "metadata": {},
   "outputs": [],
   "source": [
    "total_bad_tarif['tariff_plan'] = total_bad_tarif['tariff_plan'].map(tariff_dict)"
   ]
  },
  {
   "cell_type": "code",
   "execution_count": 94,
   "id": "e8c9b2cd",
   "metadata": {},
   "outputs": [],
   "source": [
    "total_bad_tarif['tariff_plan_1'] = total_bad_tarif['tariff_plan'] + total_bad_tarif['diff_1']"
   ]
  },
  {
   "cell_type": "code",
   "execution_count": 95,
   "id": "f14b2021",
   "metadata": {},
   "outputs": [],
   "source": [
    "total_bad_tarif['tariff_plan_1'] = total_bad_tarif['tariff_plan_1'].map(tariff_dict_rev)"
   ]
  },
  {
   "cell_type": "code",
   "execution_count": 96,
   "id": "944043a0",
   "metadata": {},
   "outputs": [],
   "source": [
    "# Функция для возвращения сумммы за тариф по НОМЕРУ тарифа\n",
    "def sum_by_name(row,num):\n",
    "    return row[row['tariff_plan_%s' %num]]"
   ]
  },
  {
   "cell_type": "code",
   "execution_count": 97,
   "id": "43bbee95",
   "metadata": {
    "scrolled": true
   },
   "outputs": [],
   "source": [
    "total_bad_tarif['sum_1'] = total_bad_tarif.apply(sum_by_name, num=1, axis=1)\n",
    "total_bad_tarif['sum_diff_1'] = total_bad_tarif['sum_1'] - total_bad_tarif['sum_now']"
   ]
  },
  {
   "cell_type": "code",
   "execution_count": 98,
   "id": "713d4664",
   "metadata": {},
   "outputs": [
    {
     "data": {
      "image/png": "[encoded data removed]",
      "text/plain": [
       "<Figure size 504x360 with 1 Axes>"
      ]
     },
     "metadata": {
      "needs_background": "light"
     },
     "output_type": "display_data"
    }
   ],
   "source": [
    "total_bad_tarif['tariff_plan'] = total_bad_tarif['tariff_plan'].map(tariff_dict_rev)\n",
    "plt.figure(figsize=(7, 5))\n",
    "ax = sns.scatterplot(x='sum_now', y='sum_diff_1',hue='tariff_plan',palette='dark', data=total_bad_tarif)\n",
    "plt.grid(True)\n",
    "plt.xlabel('Доход от пользователя')\n",
    "plt.ylabel('Потери при смене тарифа')\n",
    "plt.title('Потери при смене тарифа / расходы пользователей', size=18); #Потери при смене тарифа / расходы пользователей\n",
    "total_bad_tarif['tariff_plan'] = total_bad_tarif['tariff_plan'].map(tariff_dict)"
   ]
  },
  {
   "cell_type": "markdown",
   "id": "e29f4dca",
   "metadata": {},
   "source": [
    "Ситуация сильно не поменялась. Только группа которая могла принести недополучение прибыли 3,5-4 тысячи, теперь принесёт недополучение 2,5-3 тысячи. Таким образом, стоит хорошо обдумать стоит ли их трогать."
   ]
  },
  {
   "cell_type": "code",
   "execution_count": 99,
   "id": "2432b210",
   "metadata": {
    "scrolled": true
   },
   "outputs": [
    {
     "name": "stderr",
     "output_type": "stream",
     "text": [
      "C:\\Users\\Strel\\AppData\\Local\\Temp\\ipykernel_3832\\1510109899.py:5: FutureWarning: The frame.append method is deprecated and will be removed from pandas in a future version. Use pandas.concat instead.\n",
      "  sums_compare = sums_compare.append(a, ignore_index=True)\n"
     ]
    },
    {
     "data": {
      "text/html": [
       "<div>\n",
       "<style scoped>\n",
       "    .dataframe tbody tr th:only-of-type {\n",
       "        vertical-align: middle;\n",
       "    }\n",
       "\n",
       "    .dataframe tbody tr th {\n",
       "        vertical-align: top;\n",
       "    }\n",
       "\n",
       "    .dataframe thead th {\n",
       "        text-align: right;\n",
       "    }\n",
       "</style>\n",
       "<table border=\"1\" class=\"dataframe\">\n",
       "  <thead>\n",
       "    <tr style=\"text-align: right;\">\n",
       "      <th></th>\n",
       "      <th>Вариант</th>\n",
       "      <th>Доход при текущих тарифах всего</th>\n",
       "      <th>Доход при оптимизации</th>\n",
       "      <th>Разница</th>\n",
       "    </tr>\n",
       "  </thead>\n",
       "  <tbody>\n",
       "    <tr>\n",
       "      <th>0</th>\n",
       "      <td>Вариант_Все(максимум)</td>\n",
       "      <td>381573.9</td>\n",
       "      <td>198194.2</td>\n",
       "      <td>-183379.7</td>\n",
       "    </tr>\n",
       "    <tr>\n",
       "      <th>1</th>\n",
       "      <td>Вариант_Все(1шаг)</td>\n",
       "      <td>381573.9</td>\n",
       "      <td>220965.6</td>\n",
       "      <td>-160608.3</td>\n",
       "    </tr>\n",
       "  </tbody>\n",
       "</table>\n",
       "</div>"
      ],
      "text/plain": [
       "                 Вариант  Доход при текущих тарифах всего  \\\n",
       "0  Вариант_Все(максимум)                         381573.9   \n",
       "1      Вариант_Все(1шаг)                         381573.9   \n",
       "\n",
       "   Доход при оптимизации   Разница  \n",
       "0               198194.2 -183379.7  \n",
       "1               220965.6 -160608.3  "
      ]
     },
     "execution_count": 99,
     "metadata": {},
     "output_type": "execute_result"
    }
   ],
   "source": [
    "a={'Вариант':'Вариант_Все(1шаг)',\n",
    "   'Доход при текущих тарифах всего':total_bad_tarif['sum_now'].sum(),\n",
    "   'Доход при оптимизации':total_bad_tarif['sum_1'].sum(),\n",
    "   'Разница':total_bad_tarif['sum_1'].sum()-total_bad_tarif['sum_now'].sum()}\n",
    "sums_compare = sums_compare.append(a, ignore_index=True)\n",
    "sums_compare\n",
    "\n",
    "# print(' Доход при текущих тарифах всего', round(total_bad_tarif['sum_now'].sum()),'\\n',\n",
    "#       'Доход при переводе всех на 1 шаг', round(total_bad_tarif['sum_1'].sum()),'\\n',\n",
    "#       'Разница', round(total_bad_tarif['sum_1'].sum()-total_bad_tarif['sum_now'].sum()))"
   ]
  },
  {
   "cell_type": "markdown",
   "id": "f1a005e5",
   "metadata": {},
   "source": [
    "Изначальный вариант\\\n",
    " Разница всего -191877\n",
    "\n",
    "Разница между двумя подходами небольшая."
   ]
  },
  {
   "cell_type": "markdown",
   "id": "2ffecbd0",
   "metadata": {},
   "source": [
    "#### Вариант 2 для минимизации потери выручки."
   ]
  },
  {
   "cell_type": "markdown",
   "id": "15bbf163",
   "metadata": {},
   "source": [
    "В данном варианте не будем трогать пользователей которые приносят не очень много денег при этом сильно переплачивают.\\\n",
    "А клиентов, от которых потеряем не более 2,5 тысяч добавим в список изменений."
   ]
  },
  {
   "cell_type": "code",
   "execution_count": 100,
   "id": "f09ad829",
   "metadata": {},
   "outputs": [],
   "source": [
    "total_bad_tarif = total_bad_tarif.drop(['month','sum_now_cumsum','sum_best_cumsum'], axis=1)"
   ]
  },
  {
   "cell_type": "code",
   "execution_count": 101,
   "id": "7047f7f1",
   "metadata": {
    "scrolled": true
   },
   "outputs": [
    {
     "data": {
      "text/html": [
       "<div>\n",
       "<style scoped>\n",
       "    .dataframe tbody tr th:only-of-type {\n",
       "        vertical-align: middle;\n",
       "    }\n",
       "\n",
       "    .dataframe tbody tr th {\n",
       "        vertical-align: top;\n",
       "    }\n",
       "\n",
       "    .dataframe thead th {\n",
       "        text-align: right;\n",
       "    }\n",
       "</style>\n",
       "<table border=\"1\" class=\"dataframe\">\n",
       "  <thead>\n",
       "    <tr style=\"text-align: right;\">\n",
       "      <th></th>\n",
       "      <th>user_id</th>\n",
       "      <th>tariff_plan</th>\n",
       "      <th>A</th>\n",
       "      <th>B</th>\n",
       "      <th>C</th>\n",
       "      <th>sum_now</th>\n",
       "      <th>tariff_plan_best</th>\n",
       "      <th>sum_best</th>\n",
       "      <th>diff</th>\n",
       "      <th>sum_diff</th>\n",
       "      <th>% превышения расходов над оптимальными</th>\n",
       "      <th>diff_1</th>\n",
       "      <th>tariff_plan_1</th>\n",
       "      <th>sum_1</th>\n",
       "      <th>sum_diff_1</th>\n",
       "    </tr>\n",
       "  </thead>\n",
       "  <tbody>\n",
       "    <tr>\n",
       "      <th>0</th>\n",
       "      <td>166377</td>\n",
       "      <td>2</td>\n",
       "      <td>6053.2</td>\n",
       "      <td>3216.5</td>\n",
       "      <td>2543.1</td>\n",
       "      <td>3216.5</td>\n",
       "      <td>3</td>\n",
       "      <td>2543.1</td>\n",
       "      <td>1</td>\n",
       "      <td>-673.4</td>\n",
       "      <td>126.479494</td>\n",
       "      <td>1</td>\n",
       "      <td>C</td>\n",
       "      <td>2543.1</td>\n",
       "      <td>-673.4</td>\n",
       "    </tr>\n",
       "    <tr>\n",
       "      <th>1</th>\n",
       "      <td>166406</td>\n",
       "      <td>2</td>\n",
       "      <td>5522.4</td>\n",
       "      <td>2603.0</td>\n",
       "      <td>1764.2</td>\n",
       "      <td>2603.0</td>\n",
       "      <td>3</td>\n",
       "      <td>1764.2</td>\n",
       "      <td>1</td>\n",
       "      <td>-838.8</td>\n",
       "      <td>135.107840</td>\n",
       "      <td>1</td>\n",
       "      <td>C</td>\n",
       "      <td>1764.2</td>\n",
       "      <td>-838.8</td>\n",
       "    </tr>\n",
       "  </tbody>\n",
       "</table>\n",
       "</div>"
      ],
      "text/plain": [
       "   user_id  tariff_plan       A       B       C  sum_now  tariff_plan_best  \\\n",
       "0   166377            2  6053.2  3216.5  2543.1   3216.5                 3   \n",
       "1   166406            2  5522.4  2603.0  1764.2   2603.0                 3   \n",
       "\n",
       "   sum_best  diff  sum_diff  % превышения расходов над оптимальными  diff_1  \\\n",
       "0    2543.1     1    -673.4                              126.479494       1   \n",
       "1    1764.2     1    -838.8                              135.107840       1   \n",
       "\n",
       "  tariff_plan_1   sum_1  sum_diff_1  \n",
       "0             C  2543.1      -673.4  \n",
       "1             C  1764.2      -838.8  "
      ]
     },
     "execution_count": 101,
     "metadata": {},
     "output_type": "execute_result"
    }
   ],
   "source": [
    "total_bad_tarif.head(2)"
   ]
  },
  {
   "cell_type": "code",
   "execution_count": 102,
   "id": "2d973a14",
   "metadata": {},
   "outputs": [],
   "source": [
    "# Функция для создания смещения по тарифной сетке (для варианта 2):\n",
    "def condition_2(row):\n",
    "    if row['sum_diff']>-2500:\n",
    "        return row['diff_1']\n",
    "    else:\n",
    "        return 0    "
   ]
  },
  {
   "cell_type": "code",
   "execution_count": 103,
   "id": "963f5011",
   "metadata": {},
   "outputs": [
    {
     "data": {
      "text/html": [
       "<div>\n",
       "<style scoped>\n",
       "    .dataframe tbody tr th:only-of-type {\n",
       "        vertical-align: middle;\n",
       "    }\n",
       "\n",
       "    .dataframe tbody tr th {\n",
       "        vertical-align: top;\n",
       "    }\n",
       "\n",
       "    .dataframe thead th {\n",
       "        text-align: right;\n",
       "    }\n",
       "</style>\n",
       "<table border=\"1\" class=\"dataframe\">\n",
       "  <thead>\n",
       "    <tr style=\"text-align: right;\">\n",
       "      <th></th>\n",
       "      <th>user_id</th>\n",
       "      <th>tariff_plan</th>\n",
       "      <th>A</th>\n",
       "      <th>B</th>\n",
       "      <th>C</th>\n",
       "      <th>sum_now</th>\n",
       "      <th>tariff_plan_best</th>\n",
       "      <th>sum_best</th>\n",
       "      <th>diff</th>\n",
       "      <th>sum_diff</th>\n",
       "      <th>% превышения расходов над оптимальными</th>\n",
       "      <th>diff_1</th>\n",
       "      <th>tariff_plan_1</th>\n",
       "      <th>sum_1</th>\n",
       "      <th>sum_diff_1</th>\n",
       "    </tr>\n",
       "  </thead>\n",
       "  <tbody>\n",
       "    <tr>\n",
       "      <th>0</th>\n",
       "      <td>166377</td>\n",
       "      <td>2</td>\n",
       "      <td>6053.2</td>\n",
       "      <td>3216.5</td>\n",
       "      <td>2543.1</td>\n",
       "      <td>3216.5</td>\n",
       "      <td>3</td>\n",
       "      <td>2543.1</td>\n",
       "      <td>1</td>\n",
       "      <td>-673.4</td>\n",
       "      <td>126.479494</td>\n",
       "      <td>1</td>\n",
       "      <td>C</td>\n",
       "      <td>2543.1</td>\n",
       "      <td>-673.4</td>\n",
       "    </tr>\n",
       "    <tr>\n",
       "      <th>1</th>\n",
       "      <td>166406</td>\n",
       "      <td>2</td>\n",
       "      <td>5522.4</td>\n",
       "      <td>2603.0</td>\n",
       "      <td>1764.2</td>\n",
       "      <td>2603.0</td>\n",
       "      <td>3</td>\n",
       "      <td>1764.2</td>\n",
       "      <td>1</td>\n",
       "      <td>-838.8</td>\n",
       "      <td>135.107840</td>\n",
       "      <td>1</td>\n",
       "      <td>C</td>\n",
       "      <td>1764.2</td>\n",
       "      <td>-838.8</td>\n",
       "    </tr>\n",
       "    <tr>\n",
       "      <th>2</th>\n",
       "      <td>166407</td>\n",
       "      <td>1</td>\n",
       "      <td>5856.4</td>\n",
       "      <td>2870.5</td>\n",
       "      <td>1898.7</td>\n",
       "      <td>5856.4</td>\n",
       "      <td>3</td>\n",
       "      <td>1898.7</td>\n",
       "      <td>2</td>\n",
       "      <td>-3957.7</td>\n",
       "      <td>188.138898</td>\n",
       "      <td>1</td>\n",
       "      <td>B</td>\n",
       "      <td>2870.5</td>\n",
       "      <td>-2985.9</td>\n",
       "    </tr>\n",
       "    <tr>\n",
       "      <th>3</th>\n",
       "      <td>166428</td>\n",
       "      <td>2</td>\n",
       "      <td>5100.0</td>\n",
       "      <td>2100.0</td>\n",
       "      <td>1100.0</td>\n",
       "      <td>2100.0</td>\n",
       "      <td>3</td>\n",
       "      <td>1100.0</td>\n",
       "      <td>1</td>\n",
       "      <td>-1000.0</td>\n",
       "      <td>188.555981</td>\n",
       "      <td>1</td>\n",
       "      <td>C</td>\n",
       "      <td>1100.0</td>\n",
       "      <td>-1000.0</td>\n",
       "    </tr>\n",
       "    <tr>\n",
       "      <th>4</th>\n",
       "      <td>166485</td>\n",
       "      <td>2</td>\n",
       "      <td>6864.8</td>\n",
       "      <td>4206.0</td>\n",
       "      <td>3888.4</td>\n",
       "      <td>4206.0</td>\n",
       "      <td>3</td>\n",
       "      <td>3888.4</td>\n",
       "      <td>1</td>\n",
       "      <td>-317.6</td>\n",
       "      <td>160.632995</td>\n",
       "      <td>1</td>\n",
       "      <td>C</td>\n",
       "      <td>3888.4</td>\n",
       "      <td>-317.6</td>\n",
       "    </tr>\n",
       "    <tr>\n",
       "      <th>...</th>\n",
       "      <td>...</td>\n",
       "      <td>...</td>\n",
       "      <td>...</td>\n",
       "      <td>...</td>\n",
       "      <td>...</td>\n",
       "      <td>...</td>\n",
       "      <td>...</td>\n",
       "      <td>...</td>\n",
       "      <td>...</td>\n",
       "      <td>...</td>\n",
       "      <td>...</td>\n",
       "      <td>...</td>\n",
       "      <td>...</td>\n",
       "      <td>...</td>\n",
       "      <td>...</td>\n",
       "    </tr>\n",
       "    <tr>\n",
       "      <th>115</th>\n",
       "      <td>168562</td>\n",
       "      <td>2</td>\n",
       "      <td>5100.0</td>\n",
       "      <td>2100.0</td>\n",
       "      <td>1100.0</td>\n",
       "      <td>2100.0</td>\n",
       "      <td>3</td>\n",
       "      <td>1100.0</td>\n",
       "      <td>1</td>\n",
       "      <td>-1000.0</td>\n",
       "      <td>192.619816</td>\n",
       "      <td>1</td>\n",
       "      <td>C</td>\n",
       "      <td>1100.0</td>\n",
       "      <td>-1000.0</td>\n",
       "    </tr>\n",
       "    <tr>\n",
       "      <th>116</th>\n",
       "      <td>168578</td>\n",
       "      <td>2</td>\n",
       "      <td>5000.0</td>\n",
       "      <td>2000.0</td>\n",
       "      <td>1000.0</td>\n",
       "      <td>2000.0</td>\n",
       "      <td>3</td>\n",
       "      <td>1000.0</td>\n",
       "      <td>1</td>\n",
       "      <td>-1000.0</td>\n",
       "      <td>192.657726</td>\n",
       "      <td>1</td>\n",
       "      <td>C</td>\n",
       "      <td>1000.0</td>\n",
       "      <td>-1000.0</td>\n",
       "    </tr>\n",
       "    <tr>\n",
       "      <th>117</th>\n",
       "      <td>168579</td>\n",
       "      <td>2</td>\n",
       "      <td>5200.0</td>\n",
       "      <td>2200.0</td>\n",
       "      <td>1200.0</td>\n",
       "      <td>2200.0</td>\n",
       "      <td>3</td>\n",
       "      <td>1200.0</td>\n",
       "      <td>1</td>\n",
       "      <td>-1000.0</td>\n",
       "      <td>192.600602</td>\n",
       "      <td>1</td>\n",
       "      <td>C</td>\n",
       "      <td>1200.0</td>\n",
       "      <td>-1000.0</td>\n",
       "    </tr>\n",
       "    <tr>\n",
       "      <th>118</th>\n",
       "      <td>168583</td>\n",
       "      <td>2</td>\n",
       "      <td>5200.0</td>\n",
       "      <td>2200.0</td>\n",
       "      <td>1200.0</td>\n",
       "      <td>2200.0</td>\n",
       "      <td>3</td>\n",
       "      <td>1200.0</td>\n",
       "      <td>1</td>\n",
       "      <td>-1000.0</td>\n",
       "      <td>192.544174</td>\n",
       "      <td>1</td>\n",
       "      <td>C</td>\n",
       "      <td>1200.0</td>\n",
       "      <td>-1000.0</td>\n",
       "    </tr>\n",
       "    <tr>\n",
       "      <th>119</th>\n",
       "      <td>168603</td>\n",
       "      <td>2</td>\n",
       "      <td>5109.2</td>\n",
       "      <td>2111.5</td>\n",
       "      <td>1116.1</td>\n",
       "      <td>2111.5</td>\n",
       "      <td>3</td>\n",
       "      <td>1116.1</td>\n",
       "      <td>1</td>\n",
       "      <td>-995.4</td>\n",
       "      <td>192.525261</td>\n",
       "      <td>1</td>\n",
       "      <td>C</td>\n",
       "      <td>1116.1</td>\n",
       "      <td>-995.4</td>\n",
       "    </tr>\n",
       "  </tbody>\n",
       "</table>\n",
       "<p>120 rows × 15 columns</p>\n",
       "</div>"
      ],
      "text/plain": [
       "     user_id  tariff_plan       A       B       C  sum_now  tariff_plan_best  \\\n",
       "0     166377            2  6053.2  3216.5  2543.1   3216.5                 3   \n",
       "1     166406            2  5522.4  2603.0  1764.2   2603.0                 3   \n",
       "2     166407            1  5856.4  2870.5  1898.7   5856.4                 3   \n",
       "3     166428            2  5100.0  2100.0  1100.0   2100.0                 3   \n",
       "4     166485            2  6864.8  4206.0  3888.4   4206.0                 3   \n",
       "..       ...          ...     ...     ...     ...      ...               ...   \n",
       "115   168562            2  5100.0  2100.0  1100.0   2100.0                 3   \n",
       "116   168578            2  5000.0  2000.0  1000.0   2000.0                 3   \n",
       "117   168579            2  5200.0  2200.0  1200.0   2200.0                 3   \n",
       "118   168583            2  5200.0  2200.0  1200.0   2200.0                 3   \n",
       "119   168603            2  5109.2  2111.5  1116.1   2111.5                 3   \n",
       "\n",
       "     sum_best  diff  sum_diff  % превышения расходов над оптимальными  diff_1  \\\n",
       "0      2543.1     1    -673.4                              126.479494       1   \n",
       "1      1764.2     1    -838.8                              135.107840       1   \n",
       "2      1898.7     2   -3957.7                              188.138898       1   \n",
       "3      1100.0     1   -1000.0                              188.555981       1   \n",
       "4      3888.4     1    -317.6                              160.632995       1   \n",
       "..        ...   ...       ...                                     ...     ...   \n",
       "115    1100.0     1   -1000.0                              192.619816       1   \n",
       "116    1000.0     1   -1000.0                              192.657726       1   \n",
       "117    1200.0     1   -1000.0                              192.600602       1   \n",
       "118    1200.0     1   -1000.0                              192.544174       1   \n",
       "119    1116.1     1    -995.4                              192.525261       1   \n",
       "\n",
       "    tariff_plan_1   sum_1  sum_diff_1  \n",
       "0               C  2543.1      -673.4  \n",
       "1               C  1764.2      -838.8  \n",
       "2               B  2870.5     -2985.9  \n",
       "3               C  1100.0     -1000.0  \n",
       "4               C  3888.4      -317.6  \n",
       "..            ...     ...         ...  \n",
       "115             C  1100.0     -1000.0  \n",
       "116             C  1000.0     -1000.0  \n",
       "117             C  1200.0     -1000.0  \n",
       "118             C  1200.0     -1000.0  \n",
       "119             C  1116.1      -995.4  \n",
       "\n",
       "[120 rows x 15 columns]"
      ]
     },
     "execution_count": 103,
     "metadata": {},
     "output_type": "execute_result"
    }
   ],
   "source": [
    "total_bad_tarif"
   ]
  },
  {
   "cell_type": "code",
   "execution_count": 104,
   "id": "569c12e2",
   "metadata": {},
   "outputs": [],
   "source": [
    "# применим сдвиг и рассчитаем все параметры.\n",
    "total_bad_tarif['diff_2'] = total_bad_tarif.apply(condition_2, axis=1)\n",
    "total_bad_tarif['tariff_plan_2'] = (total_bad_tarif['tariff_plan'] + total_bad_tarif['diff_2']).map(tariff_dict_rev)\n",
    "total_bad_tarif['sum_2'] = total_bad_tarif.apply(sum_by_name, num=2, axis=1)\n",
    "total_bad_tarif['sum_diff_2'] = total_bad_tarif['sum_2'] - total_bad_tarif['sum_now']"
   ]
  },
  {
   "cell_type": "code",
   "execution_count": 105,
   "id": "e5a9026c",
   "metadata": {},
   "outputs": [
    {
     "data": {
      "image/png": "[encoded data removed]",
      "text/plain": [
       "<Figure size 504x360 with 1 Axes>"
      ]
     },
     "metadata": {
      "needs_background": "light"
     },
     "output_type": "display_data"
    }
   ],
   "source": [
    "total_bad_tarif['tariff_plan'] = total_bad_tarif['tariff_plan'].map(tariff_dict_rev)\n",
    "plt.figure(figsize=(7, 5))\n",
    "ax = sns.scatterplot(x='sum_now', y='sum_diff_2',hue='tariff_plan',palette='dark', data=total_bad_tarif)\n",
    "plt.grid(True)\n",
    "plt.xlabel('Доход от пользователя')\n",
    "plt.ylabel('Потери при смене тарифа')\n",
    "plt.title('Потери при смене тарифа / расходы пользователей', size=18)\n",
    "total_bad_tarif['tariff_plan'] = total_bad_tarif['tariff_plan'].map(tariff_dict)"
   ]
  },
  {
   "cell_type": "code",
   "execution_count": 106,
   "id": "17b3f610",
   "metadata": {},
   "outputs": [
    {
     "name": "stderr",
     "output_type": "stream",
     "text": [
      "C:\\Users\\Strel\\AppData\\Local\\Temp\\ipykernel_3832\\3071640028.py:5: FutureWarning: The frame.append method is deprecated and will be removed from pandas in a future version. Use pandas.concat instead.\n",
      "  sums_compare = sums_compare.append(a, ignore_index=True)\n"
     ]
    },
    {
     "data": {
      "text/html": [
       "<div>\n",
       "<style scoped>\n",
       "    .dataframe tbody tr th:only-of-type {\n",
       "        vertical-align: middle;\n",
       "    }\n",
       "\n",
       "    .dataframe tbody tr th {\n",
       "        vertical-align: top;\n",
       "    }\n",
       "\n",
       "    .dataframe thead th {\n",
       "        text-align: right;\n",
       "    }\n",
       "</style>\n",
       "<table border=\"1\" class=\"dataframe\">\n",
       "  <thead>\n",
       "    <tr style=\"text-align: right;\">\n",
       "      <th></th>\n",
       "      <th>Вариант</th>\n",
       "      <th>Доход при текущих тарифах всего</th>\n",
       "      <th>Доход при оптимизации</th>\n",
       "      <th>Разница</th>\n",
       "    </tr>\n",
       "  </thead>\n",
       "  <tbody>\n",
       "    <tr>\n",
       "      <th>0</th>\n",
       "      <td>Вариант_Все(максимум)</td>\n",
       "      <td>381573.9</td>\n",
       "      <td>198194.2</td>\n",
       "      <td>-183379.7</td>\n",
       "    </tr>\n",
       "    <tr>\n",
       "      <th>1</th>\n",
       "      <td>Вариант_Все(1шаг)</td>\n",
       "      <td>381573.9</td>\n",
       "      <td>220965.6</td>\n",
       "      <td>-160608.3</td>\n",
       "    </tr>\n",
       "    <tr>\n",
       "      <th>2</th>\n",
       "      <td>Вариант_Частично</td>\n",
       "      <td>381573.9</td>\n",
       "      <td>294851.3</td>\n",
       "      <td>-86722.6</td>\n",
       "    </tr>\n",
       "  </tbody>\n",
       "</table>\n",
       "</div>"
      ],
      "text/plain": [
       "                 Вариант  Доход при текущих тарифах всего  \\\n",
       "0  Вариант_Все(максимум)                         381573.9   \n",
       "1      Вариант_Все(1шаг)                         381573.9   \n",
       "2       Вариант_Частично                         381573.9   \n",
       "\n",
       "   Доход при оптимизации   Разница  \n",
       "0               198194.2 -183379.7  \n",
       "1               220965.6 -160608.3  \n",
       "2               294851.3  -86722.6  "
      ]
     },
     "execution_count": 106,
     "metadata": {},
     "output_type": "execute_result"
    }
   ],
   "source": [
    "a={'Вариант':'Вариант_Частично',\n",
    "   'Доход при текущих тарифах всего':total_bad_tarif['sum_now'].sum(),\n",
    "   'Доход при оптимизации':total_bad_tarif['sum_2'].sum(),\n",
    "   'Разница':total_bad_tarif['sum_2'].sum()-total_bad_tarif['sum_now'].sum()}\n",
    "sums_compare = sums_compare.append(a, ignore_index=True)\n",
    "sums_compare\n",
    "\n",
    "# print(' Доход при текущих тарифах всего', round(total_bad_tarif['sum_now'].sum()),'\\n',\n",
    "#       'Доход при переводе с учетом 2варианта', round(total_bad_tarif['sum_2'].sum()),'\\n',\n",
    "#       'Разница', round(total_bad_tarif['sum_2'].sum()-total_bad_tarif['sum_now'].sum()))"
   ]
  },
  {
   "cell_type": "markdown",
   "id": "609cd1fc",
   "metadata": {},
   "source": [
    "При данном условии уже заметно значительное уменьшение потерь потенциального дохода при оптимизации."
   ]
  },
  {
   "cell_type": "markdown",
   "id": "7f12c3ac",
   "metadata": {},
   "source": [
    "### Визуализация результатов"
   ]
  },
  {
   "cell_type": "code",
   "execution_count": 107,
   "id": "c0f78c6e",
   "metadata": {},
   "outputs": [],
   "source": [
    "sums_compare_c=sums_compare.copy()\n",
    "sums_compare=sums_compare_c.copy()"
   ]
  },
  {
   "cell_type": "code",
   "execution_count": 108,
   "id": "b4474155",
   "metadata": {
    "scrolled": false
   },
   "outputs": [
    {
     "data": {
      "text/html": [
       "<div>\n",
       "<style scoped>\n",
       "    .dataframe tbody tr th:only-of-type {\n",
       "        vertical-align: middle;\n",
       "    }\n",
       "\n",
       "    .dataframe tbody tr th {\n",
       "        vertical-align: top;\n",
       "    }\n",
       "\n",
       "    .dataframe thead th {\n",
       "        text-align: right;\n",
       "    }\n",
       "</style>\n",
       "<table border=\"1\" class=\"dataframe\">\n",
       "  <thead>\n",
       "    <tr style=\"text-align: right;\">\n",
       "      <th></th>\n",
       "      <th>Доход при текущих тарифах всего</th>\n",
       "      <th>Доход при оптимизации</th>\n",
       "      <th>Разница</th>\n",
       "    </tr>\n",
       "    <tr>\n",
       "      <th>Вариант</th>\n",
       "      <th></th>\n",
       "      <th></th>\n",
       "      <th></th>\n",
       "    </tr>\n",
       "  </thead>\n",
       "  <tbody>\n",
       "    <tr>\n",
       "      <th>Вариант_Все(максимум)</th>\n",
       "      <td>381573.9</td>\n",
       "      <td>198194.2</td>\n",
       "      <td>-183379.7</td>\n",
       "    </tr>\n",
       "    <tr>\n",
       "      <th>Вариант_Все(1шаг)</th>\n",
       "      <td>381573.9</td>\n",
       "      <td>220965.6</td>\n",
       "      <td>-160608.3</td>\n",
       "    </tr>\n",
       "    <tr>\n",
       "      <th>Вариант_Частично</th>\n",
       "      <td>381573.9</td>\n",
       "      <td>294851.3</td>\n",
       "      <td>-86722.6</td>\n",
       "    </tr>\n",
       "  </tbody>\n",
       "</table>\n",
       "</div>"
      ],
      "text/plain": [
       "                       Доход при текущих тарифах всего  Доход при оптимизации  \\\n",
       "Вариант                                                                         \n",
       "Вариант_Все(максимум)                         381573.9               198194.2   \n",
       "Вариант_Все(1шаг)                             381573.9               220965.6   \n",
       "Вариант_Частично                              381573.9               294851.3   \n",
       "\n",
       "                        Разница  \n",
       "Вариант                          \n",
       "Вариант_Все(максимум) -183379.7  \n",
       "Вариант_Все(1шаг)     -160608.3  \n",
       "Вариант_Частично       -86722.6  "
      ]
     },
     "execution_count": 108,
     "metadata": {},
     "output_type": "execute_result"
    }
   ],
   "source": [
    "sums_compare\n",
    "sums_compare = sums_compare.set_index('Вариант')\n",
    "sums_compare"
   ]
  },
  {
   "cell_type": "code",
   "execution_count": 109,
   "id": "122c20a1",
   "metadata": {},
   "outputs": [],
   "source": [
    "sums_compare = sums_compare.stack().reset_index()\n",
    "sums_compare.columns = ['Вариант','Тип','Сумма']"
   ]
  },
  {
   "cell_type": "code",
   "execution_count": 110,
   "id": "d69c4302",
   "metadata": {
    "scrolled": false
   },
   "outputs": [
    {
     "data": {
      "text/html": [
       "<div>\n",
       "<style scoped>\n",
       "    .dataframe tbody tr th:only-of-type {\n",
       "        vertical-align: middle;\n",
       "    }\n",
       "\n",
       "    .dataframe tbody tr th {\n",
       "        vertical-align: top;\n",
       "    }\n",
       "\n",
       "    .dataframe thead th {\n",
       "        text-align: right;\n",
       "    }\n",
       "</style>\n",
       "<table border=\"1\" class=\"dataframe\">\n",
       "  <thead>\n",
       "    <tr style=\"text-align: right;\">\n",
       "      <th></th>\n",
       "      <th>Вариант</th>\n",
       "      <th>Тип</th>\n",
       "      <th>Сумма</th>\n",
       "    </tr>\n",
       "  </thead>\n",
       "  <tbody>\n",
       "    <tr>\n",
       "      <th>0</th>\n",
       "      <td>Вариант_Все(максимум)</td>\n",
       "      <td>Доход при текущих тарифах всего</td>\n",
       "      <td>381573.9</td>\n",
       "    </tr>\n",
       "    <tr>\n",
       "      <th>1</th>\n",
       "      <td>Вариант_Все(максимум)</td>\n",
       "      <td>Доход при оптимизации</td>\n",
       "      <td>198194.2</td>\n",
       "    </tr>\n",
       "    <tr>\n",
       "      <th>2</th>\n",
       "      <td>Вариант_Все(максимум)</td>\n",
       "      <td>Разница</td>\n",
       "      <td>-183379.7</td>\n",
       "    </tr>\n",
       "    <tr>\n",
       "      <th>3</th>\n",
       "      <td>Вариант_Все(1шаг)</td>\n",
       "      <td>Доход при текущих тарифах всего</td>\n",
       "      <td>381573.9</td>\n",
       "    </tr>\n",
       "    <tr>\n",
       "      <th>4</th>\n",
       "      <td>Вариант_Все(1шаг)</td>\n",
       "      <td>Доход при оптимизации</td>\n",
       "      <td>220965.6</td>\n",
       "    </tr>\n",
       "    <tr>\n",
       "      <th>5</th>\n",
       "      <td>Вариант_Все(1шаг)</td>\n",
       "      <td>Разница</td>\n",
       "      <td>-160608.3</td>\n",
       "    </tr>\n",
       "    <tr>\n",
       "      <th>6</th>\n",
       "      <td>Вариант_Частично</td>\n",
       "      <td>Доход при текущих тарифах всего</td>\n",
       "      <td>381573.9</td>\n",
       "    </tr>\n",
       "    <tr>\n",
       "      <th>7</th>\n",
       "      <td>Вариант_Частично</td>\n",
       "      <td>Доход при оптимизации</td>\n",
       "      <td>294851.3</td>\n",
       "    </tr>\n",
       "    <tr>\n",
       "      <th>8</th>\n",
       "      <td>Вариант_Частично</td>\n",
       "      <td>Разница</td>\n",
       "      <td>-86722.6</td>\n",
       "    </tr>\n",
       "  </tbody>\n",
       "</table>\n",
       "</div>"
      ],
      "text/plain": [
       "                 Вариант                              Тип     Сумма\n",
       "0  Вариант_Все(максимум)  Доход при текущих тарифах всего  381573.9\n",
       "1  Вариант_Все(максимум)            Доход при оптимизации  198194.2\n",
       "2  Вариант_Все(максимум)                          Разница -183379.7\n",
       "3      Вариант_Все(1шаг)  Доход при текущих тарифах всего  381573.9\n",
       "4      Вариант_Все(1шаг)            Доход при оптимизации  220965.6\n",
       "5      Вариант_Все(1шаг)                          Разница -160608.3\n",
       "6       Вариант_Частично  Доход при текущих тарифах всего  381573.9\n",
       "7       Вариант_Частично            Доход при оптимизации  294851.3\n",
       "8       Вариант_Частично                          Разница  -86722.6"
      ]
     },
     "execution_count": 110,
     "metadata": {},
     "output_type": "execute_result"
    }
   ],
   "source": [
    "sums_compare"
   ]
  },
  {
   "cell_type": "code",
   "execution_count": 111,
   "id": "39d3dfe2",
   "metadata": {
    "scrolled": false
   },
   "outputs": [
    {
     "data": {
      "image/png": "[encoded data removed]",
      "text/plain": [
       "<Figure size 720x504 with 1 Axes>"
      ]
     },
     "metadata": {
      "needs_background": "light"
     },
     "output_type": "display_data"
    }
   ],
   "source": [
    "plt.figure(figsize=(10, 7))\n",
    "ax = sns.barplot(y='Вариант', x='Сумма',hue='Тип', data = sums_compare)\n",
    "plt.title('Изменение доходов в зависимости от варианта')\n",
    "plt.grid(True)\n",
    "plt.show()"
   ]
  },
  {
   "cell_type": "markdown",
   "id": "fa0a3484",
   "metadata": {},
   "source": [
    "В каждом варианте видно, что доходы уменьшаются.\n",
    "При этом вариант с наименьшей потерей прибыли - это частичная оптимизация тарифов (только у тех пользователей из-за которых теряем не много и тех, которые приносят очень большой текущий доход)."
   ]
  },
  {
   "cell_type": "markdown",
   "id": "67ed4e5c",
   "metadata": {},
   "source": [
    "## Проверка гипотиз\n"
   ]
  },
  {
   "cell_type": "code",
   "execution_count": 112,
   "id": "80d54e17",
   "metadata": {},
   "outputs": [],
   "source": [
    "# Требуемый уровень значимости \n",
    "alpha = 0.05"
   ]
  },
  {
   "cell_type": "markdown",
   "id": "486c0fb8",
   "metadata": {},
   "source": [
    "### Нулевая гипотиза: Переход с Текущего тарифа на Оптимальный тариф всех пользователей не повлечет  изменения в доходах «Нупозвони»\n",
    "Альтернативная гипотиза: Переход с Текущего тарифа на Оптимальный тариф всех пользователей повлечет изменения в доходах «Нупозвони»"
   ]
  },
  {
   "cell_type": "code",
   "execution_count": 113,
   "id": "dce998df",
   "metadata": {},
   "outputs": [
    {
     "data": {
      "text/plain": [
       "359"
      ]
     },
     "execution_count": 113,
     "metadata": {},
     "output_type": "execute_result"
    }
   ],
   "source": [
    "total_good_tarif = total_good_tarif.query('user_id in @users_optimal')#.query('~user_id.duplicated(keep=\"last\")')\n",
    "optimal_sums = total_good_tarif['sum_now']\n",
    "len(optimal_sums)"
   ]
  },
  {
   "cell_type": "code",
   "execution_count": 114,
   "id": "8e989dfd",
   "metadata": {},
   "outputs": [
    {
     "name": "stdout",
     "output_type": "stream",
     "text": [
      "p-значение:  3.6401744976573925e-06\n",
      "Отвергаем нулевую гипотезу: разница статистически значима\n"
     ]
    }
   ],
   "source": [
    "first = pd.concat([total_bad_tarif['sum_now'], optimal_sums])\n",
    "second= pd.concat([total_bad_tarif['sum_best'], optimal_sums])\n",
    "\n",
    "results = st.mannwhitneyu(first, second)\n",
    "\n",
    "print('p-значение: ', results.pvalue)\n",
    "\n",
    "if results.pvalue < alpha:\n",
    "    print('Отвергаем нулевую гипотезу: разница статистически значима')\n",
    "else:\n",
    "    print(\n",
    "        'Не получилось отвергнуть нулевую гипотезу, вывод о различии сделать нельзя'\n",
    "    ) "
   ]
  },
  {
   "cell_type": "markdown",
   "id": "d492b0a2",
   "metadata": {},
   "source": [
    "### Нулевая гипотиза: Переход части клиентов по выдвинутому предложению (Вариант 2) не повлечет изменения в доходах «Нупозвони».\n",
    "Альтернативная гипотиза: Переход части клиентов по выдвинутому предложению (Вариант 2) повлечет изменения в доходах «Нупозвони»."
   ]
  },
  {
   "cell_type": "code",
   "execution_count": 115,
   "id": "dfcbb016",
   "metadata": {},
   "outputs": [
    {
     "name": "stdout",
     "output_type": "stream",
     "text": [
      "p-значение:  0.000716321715238511\n",
      "Отвергаем нулевую гипотезу: разница статистически значима\n"
     ]
    }
   ],
   "source": [
    "first = pd.concat([total_bad_tarif['sum_now'], optimal_sums])\n",
    "second= pd.concat([total_bad_tarif['sum_2'], optimal_sums])\n",
    "\n",
    "results = st.mannwhitneyu(first, second)\n",
    "print('p-значение: ', results.pvalue)\n",
    "\n",
    "if results.pvalue < alpha:\n",
    "    print('Отвергаем нулевую гипотезу: разница статистически значима')\n",
    "else:\n",
    "    print(\n",
    "        'Не получилось отвергнуть нулевую гипотезу, вывод о различии сделать нельзя'\n",
    "    ) "
   ]
  },
  {
   "cell_type": "markdown",
   "id": "230f75fa",
   "metadata": {},
   "source": [
    "В обоих случаях изменения статистически значимы и повлекут изменения в доходах «Нупозвони»."
   ]
  },
  {
   "cell_type": "markdown",
   "id": "6fb050db",
   "metadata": {},
   "source": [
    "## Выводы"
   ]
  },
  {
   "cell_type": "markdown",
   "id": "2d6a8578",
   "metadata": {},
   "source": [
    "Для проверки оптимальности тарифа были отобраны активные пользователи. Критерием стало наличие платных действий в ноябре.\n",
    "Всего активных пользователей: 261 из 307.<br>\n",
    "\n",
    "Большинство пользователей используют тариф более дорогой, чем им нужно.<br>\n",
    "Самая неоптимальная группа на тарифе B и с него целесообразно перейти на C (94 пользователя).<br>\n",
    "С тарифа A выгодно перейти на тариф C (25 пользователей).<br>\n",
    "Только одному пользователю необходимо перейти на более дорогой тариф (с тарифа C на тариф B).<br>\n",
    "\n",
    "Максимальный убыток даст перевод пользователей с тарифа А на тариф В или С.<br>"
   ]
  },
  {
   "cell_type": "markdown",
   "id": "03dec640",
   "metadata": {},
   "source": [
    "Вариант полного перевода всех пользователей на оптимальный тариф крайне неоптимален. Недополучение выручки будет -183380.<br>\n",
    "Потери можно сократить, если не трогать пользователей которые приносят не очень много денег при этом сильно переплачивают, а клиентов, от которых потеряем не более 2,5 тысяч добавим в список изменений.<br>\n",
    "    Доход при текущих тарифах за ноябрь 381574.<br>\n",
    "    Доход при переводе с учетом варианта 2 (частично) 294851.<br>\n",
    "    Разница всего -86723.<br>"
   ]
  },
  {
   "cell_type": "markdown",
   "id": "ad94436b",
   "metadata": {},
   "source": [
    "При всех проверенных изменениях будет существенное изменение в уровне выручки."
   ]
  },
  {
   "cell_type": "markdown",
   "id": "1ee85109",
   "metadata": {},
   "source": [
    "## Материалы\n",
    "Данные выгрузки: https://disk.yandex.ru/i/-sSonvZPdOL_DQ <br>\n",
    "Презентация: https://disk.yandex.ru/i/PtrXlMcEbaoEBQ <br>\n",
    "Дашборд: (тут не требуется, приложу в следующем разделе)."
   ]
  },
  {
   "cell_type": "code",
   "execution_count": 116,
   "id": "d7a4fdd7",
   "metadata": {
    "scrolled": true
   },
   "outputs": [
    {
     "data": {
      "text/plain": [
       "[166391,\n",
       " 166392,\n",
       " 166482,\n",
       " 166487,\n",
       " 166511,\n",
       " 166520,\n",
       " 166585,\n",
       " 166604,\n",
       " 166619,\n",
       " 166636,\n",
       " 166649,\n",
       " 166658,\n",
       " 166669,\n",
       " 166677,\n",
       " 166688,\n",
       " 166691,\n",
       " 166692,\n",
       " 166708,\n",
       " 166717,\n",
       " 166726,\n",
       " 166782,\n",
       " 166803,\n",
       " 166812,\n",
       " 166833,\n",
       " 166836,\n",
       " 166939,\n",
       " 166940,\n",
       " 166973,\n",
       " 166974,\n",
       " 166983,\n",
       " 166985,\n",
       " 166997,\n",
       " 167003,\n",
       " 167016,\n",
       " 167031,\n",
       " 167035,\n",
       " 167052,\n",
       " 167059,\n",
       " 167079,\n",
       " 167102,\n",
       " 167109,\n",
       " 167112,\n",
       " 167139,\n",
       " 167150,\n",
       " 167162,\n",
       " 167180,\n",
       " 167188,\n",
       " 167199,\n",
       " 167200,\n",
       " 167235,\n",
       " 167238,\n",
       " 167242,\n",
       " 167246,\n",
       " 167272,\n",
       " 167277,\n",
       " 167286,\n",
       " 167364,\n",
       " 167397,\n",
       " 167412,\n",
       " 167455,\n",
       " 167456,\n",
       " 167466,\n",
       " 167471,\n",
       " 167506,\n",
       " 167532,\n",
       " 167533,\n",
       " 167534,\n",
       " 167545,\n",
       " 167575,\n",
       " 167599,\n",
       " 167630,\n",
       " 167644,\n",
       " 167646,\n",
       " 167650,\n",
       " 167653,\n",
       " 167664,\n",
       " 167715,\n",
       " 167721,\n",
       " 167727,\n",
       " 167742,\n",
       " 167744,\n",
       " 167747,\n",
       " 167756,\n",
       " 167781,\n",
       " 167792,\n",
       " 167805,\n",
       " 167816,\n",
       " 167829,\n",
       " 167852,\n",
       " 167870,\n",
       " 167888,\n",
       " 167906,\n",
       " 167923,\n",
       " 167927,\n",
       " 167936,\n",
       " 167948,\n",
       " 167958,\n",
       " 167976,\n",
       " 167994,\n",
       " 167998,\n",
       " 168004,\n",
       " 168008,\n",
       " 168010,\n",
       " 168016,\n",
       " 168019,\n",
       " 168024,\n",
       " 168042,\n",
       " 168054,\n",
       " 168064,\n",
       " 168073,\n",
       " 168090,\n",
       " 168101,\n",
       " 168110,\n",
       " 168155,\n",
       " 168185,\n",
       " 168190,\n",
       " 168202,\n",
       " 168221,\n",
       " 168228,\n",
       " 168264,\n",
       " 168271,\n",
       " 168275,\n",
       " 168303,\n",
       " 168336,\n",
       " 168366,\n",
       " 168412,\n",
       " 168416,\n",
       " 168464,\n",
       " 168466,\n",
       " 168473,\n",
       " 168522,\n",
       " 168575,\n",
       " 168598,\n",
       " 168601,\n",
       " 168606]"
      ]
     },
     "execution_count": 116,
     "metadata": {},
     "output_type": "execute_result"
    }
   ],
   "source": [
    "users_optimal"
   ]
  },
  {
   "cell_type": "code",
   "execution_count": 117,
   "id": "e57e684a",
   "metadata": {},
   "outputs": [
    {
     "data": {
      "text/plain": [
       "[]"
      ]
     },
     "execution_count": 117,
     "metadata": {},
     "output_type": "execute_result"
    }
   ],
   "source": [
    "users_stabilased"
   ]
  },
  {
   "cell_type": "code",
   "execution_count": 118,
   "id": "54f6d185",
   "metadata": {},
   "outputs": [],
   "source": [
    "total_good_tarif[['user_id','tariff_plan','sum_now']].to_excel('total_good_tarif.xlsx', index=False)\n",
    "total_bad_tarif.to_excel('total_bad_tarif.xlsx', index=False)"
   ]
  },
  {
   "cell_type": "markdown",
   "id": "94c4cd08",
   "metadata": {},
   "source": [
    "Пользователь 166582 крайне необычный. Отдельные данные по нему в выгрузке."
   ]
  },
  {
   "cell_type": "code",
   "execution_count": 119,
   "id": "ee0d6123",
   "metadata": {},
   "outputs": [],
   "source": [
    "data_copy.query('user_id == 166582').to_excel('166582.xlsx', index=False)"
   ]
  },
  {
   "cell_type": "code",
   "execution_count": 120,
   "id": "703e7c6c",
   "metadata": {},
   "outputs": [],
   "source": [
    "total_not_stable = total_not_stable.reset_index()"
   ]
  }
 ],
 "metadata": {
  "ExecuteTimeLog": [
   {
    "duration": 1387,
    "start_time": "2022-10-16T14:44:46.256Z"
   },
   {
    "duration": 142,
    "start_time": "2022-10-16T14:44:47.645Z"
   },
   {
    "duration": 0,
    "start_time": "2022-10-16T14:44:47.792Z"
   },
   {
    "duration": 0,
    "start_time": "2022-10-16T14:44:47.793Z"
   },
   {
    "duration": 0,
    "start_time": "2022-10-16T14:44:47.794Z"
   },
   {
    "duration": 0,
    "start_time": "2022-10-16T14:44:47.796Z"
   },
   {
    "duration": 0,
    "start_time": "2022-10-16T14:44:47.797Z"
   },
   {
    "duration": 0,
    "start_time": "2022-10-16T14:44:47.798Z"
   },
   {
    "duration": 0,
    "start_time": "2022-10-16T14:44:47.799Z"
   },
   {
    "duration": 0,
    "start_time": "2022-10-16T14:44:47.801Z"
   },
   {
    "duration": 0,
    "start_time": "2022-10-16T14:44:47.802Z"
   },
   {
    "duration": 1,
    "start_time": "2022-10-16T14:44:47.804Z"
   },
   {
    "duration": 0,
    "start_time": "2022-10-16T14:44:47.806Z"
   },
   {
    "duration": 0,
    "start_time": "2022-10-16T14:44:47.808Z"
   },
   {
    "duration": 0,
    "start_time": "2022-10-16T14:44:47.808Z"
   },
   {
    "duration": 0,
    "start_time": "2022-10-16T14:44:47.810Z"
   },
   {
    "duration": 0,
    "start_time": "2022-10-16T14:44:47.811Z"
   },
   {
    "duration": 0,
    "start_time": "2022-10-16T14:44:47.812Z"
   },
   {
    "duration": 0,
    "start_time": "2022-10-16T14:44:47.813Z"
   },
   {
    "duration": 0,
    "start_time": "2022-10-16T14:44:47.814Z"
   },
   {
    "duration": 0,
    "start_time": "2022-10-16T14:44:47.816Z"
   },
   {
    "duration": 0,
    "start_time": "2022-10-16T14:44:47.817Z"
   },
   {
    "duration": 0,
    "start_time": "2022-10-16T14:44:47.855Z"
   },
   {
    "duration": 0,
    "start_time": "2022-10-16T14:44:47.857Z"
   },
   {
    "duration": 0,
    "start_time": "2022-10-16T14:44:47.858Z"
   },
   {
    "duration": 0,
    "start_time": "2022-10-16T14:44:47.859Z"
   },
   {
    "duration": 0,
    "start_time": "2022-10-16T14:44:47.861Z"
   },
   {
    "duration": 0,
    "start_time": "2022-10-16T14:44:47.862Z"
   },
   {
    "duration": 0,
    "start_time": "2022-10-16T14:44:47.863Z"
   },
   {
    "duration": 0,
    "start_time": "2022-10-16T14:44:47.865Z"
   },
   {
    "duration": 0,
    "start_time": "2022-10-16T14:44:47.866Z"
   },
   {
    "duration": 0,
    "start_time": "2022-10-16T14:44:47.867Z"
   },
   {
    "duration": 0,
    "start_time": "2022-10-16T14:44:47.869Z"
   },
   {
    "duration": 1,
    "start_time": "2022-10-16T14:44:47.870Z"
   },
   {
    "duration": 0,
    "start_time": "2022-10-16T14:44:47.872Z"
   },
   {
    "duration": 0,
    "start_time": "2022-10-16T14:44:47.873Z"
   },
   {
    "duration": 0,
    "start_time": "2022-10-16T14:44:47.874Z"
   },
   {
    "duration": 0,
    "start_time": "2022-10-16T14:44:47.876Z"
   },
   {
    "duration": 0,
    "start_time": "2022-10-16T14:44:47.878Z"
   },
   {
    "duration": 0,
    "start_time": "2022-10-16T14:44:47.880Z"
   },
   {
    "duration": 0,
    "start_time": "2022-10-16T14:44:47.881Z"
   },
   {
    "duration": 0,
    "start_time": "2022-10-16T14:44:47.882Z"
   },
   {
    "duration": 0,
    "start_time": "2022-10-16T14:44:47.884Z"
   },
   {
    "duration": 0,
    "start_time": "2022-10-16T14:44:47.885Z"
   },
   {
    "duration": 0,
    "start_time": "2022-10-16T14:44:47.887Z"
   },
   {
    "duration": 0,
    "start_time": "2022-10-16T14:44:47.889Z"
   },
   {
    "duration": 0,
    "start_time": "2022-10-16T14:44:47.890Z"
   },
   {
    "duration": 0,
    "start_time": "2022-10-16T14:44:47.892Z"
   },
   {
    "duration": 0,
    "start_time": "2022-10-16T14:44:47.894Z"
   },
   {
    "duration": 0,
    "start_time": "2022-10-16T14:44:47.895Z"
   },
   {
    "duration": 0,
    "start_time": "2022-10-16T14:44:47.955Z"
   },
   {
    "duration": 0,
    "start_time": "2022-10-16T14:44:47.956Z"
   },
   {
    "duration": 1,
    "start_time": "2022-10-16T14:44:47.956Z"
   },
   {
    "duration": 0,
    "start_time": "2022-10-16T14:44:47.957Z"
   },
   {
    "duration": 0,
    "start_time": "2022-10-16T14:44:47.958Z"
   },
   {
    "duration": 0,
    "start_time": "2022-10-16T14:44:47.959Z"
   },
   {
    "duration": 0,
    "start_time": "2022-10-16T14:44:47.963Z"
   },
   {
    "duration": 0,
    "start_time": "2022-10-16T14:44:47.964Z"
   },
   {
    "duration": 0,
    "start_time": "2022-10-16T14:44:47.965Z"
   },
   {
    "duration": 0,
    "start_time": "2022-10-16T14:44:47.965Z"
   },
   {
    "duration": 0,
    "start_time": "2022-10-16T14:44:47.966Z"
   },
   {
    "duration": 0,
    "start_time": "2022-10-16T14:44:47.970Z"
   },
   {
    "duration": 0,
    "start_time": "2022-10-16T14:44:47.972Z"
   },
   {
    "duration": 0,
    "start_time": "2022-10-16T14:44:47.974Z"
   },
   {
    "duration": 0,
    "start_time": "2022-10-16T14:44:47.975Z"
   },
   {
    "duration": 0,
    "start_time": "2022-10-16T14:44:47.976Z"
   },
   {
    "duration": 0,
    "start_time": "2022-10-16T14:44:47.978Z"
   },
   {
    "duration": 0,
    "start_time": "2022-10-16T14:44:47.979Z"
   },
   {
    "duration": 0,
    "start_time": "2022-10-16T14:44:47.980Z"
   },
   {
    "duration": 0,
    "start_time": "2022-10-16T14:44:47.981Z"
   },
   {
    "duration": 0,
    "start_time": "2022-10-16T14:44:47.983Z"
   },
   {
    "duration": 0,
    "start_time": "2022-10-16T14:44:47.985Z"
   },
   {
    "duration": 0,
    "start_time": "2022-10-16T14:44:47.986Z"
   },
   {
    "duration": 0,
    "start_time": "2022-10-16T14:44:47.987Z"
   },
   {
    "duration": 0,
    "start_time": "2022-10-16T14:44:47.989Z"
   },
   {
    "duration": 0,
    "start_time": "2022-10-16T14:44:47.990Z"
   },
   {
    "duration": 0,
    "start_time": "2022-10-16T14:44:47.992Z"
   },
   {
    "duration": 0,
    "start_time": "2022-10-16T14:44:47.993Z"
   },
   {
    "duration": 0,
    "start_time": "2022-10-16T14:44:47.994Z"
   },
   {
    "duration": 0,
    "start_time": "2022-10-16T14:44:47.997Z"
   },
   {
    "duration": 0,
    "start_time": "2022-10-16T14:44:47.998Z"
   },
   {
    "duration": 0,
    "start_time": "2022-10-16T14:44:48.000Z"
   },
   {
    "duration": 0,
    "start_time": "2022-10-16T14:44:48.002Z"
   },
   {
    "duration": 0,
    "start_time": "2022-10-16T14:44:48.055Z"
   },
   {
    "duration": 1,
    "start_time": "2022-10-16T14:44:48.057Z"
   },
   {
    "duration": 0,
    "start_time": "2022-10-16T14:44:48.059Z"
   },
   {
    "duration": 0,
    "start_time": "2022-10-16T14:44:48.060Z"
   },
   {
    "duration": 0,
    "start_time": "2022-10-16T14:44:48.062Z"
   },
   {
    "duration": 0,
    "start_time": "2022-10-16T14:44:48.063Z"
   },
   {
    "duration": 0,
    "start_time": "2022-10-16T14:44:48.065Z"
   },
   {
    "duration": 0,
    "start_time": "2022-10-16T14:44:48.066Z"
   },
   {
    "duration": 0,
    "start_time": "2022-10-16T14:44:48.068Z"
   },
   {
    "duration": 0,
    "start_time": "2022-10-16T14:44:48.069Z"
   },
   {
    "duration": 0,
    "start_time": "2022-10-16T14:44:48.071Z"
   },
   {
    "duration": 0,
    "start_time": "2022-10-16T14:44:48.072Z"
   },
   {
    "duration": 0,
    "start_time": "2022-10-16T14:44:48.073Z"
   },
   {
    "duration": 0,
    "start_time": "2022-10-16T14:44:48.075Z"
   },
   {
    "duration": 0,
    "start_time": "2022-10-16T14:44:48.077Z"
   },
   {
    "duration": 163,
    "start_time": "2022-10-16T14:50:08.627Z"
   },
   {
    "duration": 1285,
    "start_time": "2022-10-16T14:50:14.557Z"
   },
   {
    "duration": 79,
    "start_time": "2022-10-16T14:50:15.844Z"
   },
   {
    "duration": 24,
    "start_time": "2022-10-16T14:50:15.925Z"
   },
   {
    "duration": 12,
    "start_time": "2022-10-16T14:50:15.951Z"
   },
   {
    "duration": 570,
    "start_time": "2022-10-16T14:50:15.966Z"
   },
   {
    "duration": 19,
    "start_time": "2022-10-16T14:50:16.538Z"
   },
   {
    "duration": 6,
    "start_time": "2022-10-16T14:50:16.559Z"
   },
   {
    "duration": 19,
    "start_time": "2022-10-16T14:50:16.569Z"
   },
   {
    "duration": 15,
    "start_time": "2022-10-16T14:50:16.589Z"
   },
   {
    "duration": 17,
    "start_time": "2022-10-16T14:50:16.606Z"
   },
   {
    "duration": 6,
    "start_time": "2022-10-16T14:50:16.624Z"
   },
   {
    "duration": 59,
    "start_time": "2022-10-16T14:50:16.631Z"
   },
   {
    "duration": 19,
    "start_time": "2022-10-16T14:50:16.692Z"
   },
   {
    "duration": 59,
    "start_time": "2022-10-16T14:50:16.714Z"
   },
   {
    "duration": 17,
    "start_time": "2022-10-16T14:50:16.776Z"
   },
   {
    "duration": 6,
    "start_time": "2022-10-16T14:50:16.796Z"
   },
   {
    "duration": 63,
    "start_time": "2022-10-16T14:50:16.804Z"
   },
   {
    "duration": 5,
    "start_time": "2022-10-16T14:50:16.869Z"
   },
   {
    "duration": 13,
    "start_time": "2022-10-16T14:50:16.875Z"
   },
   {
    "duration": 23,
    "start_time": "2022-10-16T14:50:16.890Z"
   },
   {
    "duration": 24,
    "start_time": "2022-10-16T14:50:16.914Z"
   },
   {
    "duration": 4,
    "start_time": "2022-10-16T14:50:16.953Z"
   },
   {
    "duration": 22,
    "start_time": "2022-10-16T14:50:16.959Z"
   },
   {
    "duration": 132,
    "start_time": "2022-10-16T14:50:16.983Z"
   },
   {
    "duration": 10,
    "start_time": "2022-10-16T14:50:17.117Z"
   },
   {
    "duration": 33,
    "start_time": "2022-10-16T14:50:17.128Z"
   },
   {
    "duration": 31,
    "start_time": "2022-10-16T14:50:17.162Z"
   },
   {
    "duration": 19,
    "start_time": "2022-10-16T14:50:17.195Z"
   },
   {
    "duration": 7,
    "start_time": "2022-10-16T14:50:17.216Z"
   },
   {
    "duration": 36,
    "start_time": "2022-10-16T14:50:17.225Z"
   },
   {
    "duration": 40,
    "start_time": "2022-10-16T14:50:17.268Z"
   },
   {
    "duration": 205,
    "start_time": "2022-10-16T14:50:17.310Z"
   },
   {
    "duration": 10,
    "start_time": "2022-10-16T14:50:17.517Z"
   },
   {
    "duration": 27,
    "start_time": "2022-10-16T14:50:17.528Z"
   },
   {
    "duration": 182,
    "start_time": "2022-10-16T14:50:17.557Z"
   },
   {
    "duration": 6,
    "start_time": "2022-10-16T14:50:17.741Z"
   },
   {
    "duration": 10,
    "start_time": "2022-10-16T14:50:17.755Z"
   },
   {
    "duration": 16,
    "start_time": "2022-10-16T14:50:17.767Z"
   },
   {
    "duration": 16,
    "start_time": "2022-10-16T14:50:17.785Z"
   },
   {
    "duration": 14,
    "start_time": "2022-10-16T14:50:17.803Z"
   },
   {
    "duration": 18,
    "start_time": "2022-10-16T14:50:17.824Z"
   },
   {
    "duration": 9,
    "start_time": "2022-10-16T14:50:17.844Z"
   },
   {
    "duration": 39,
    "start_time": "2022-10-16T14:50:17.855Z"
   },
   {
    "duration": 11,
    "start_time": "2022-10-16T14:50:17.896Z"
   },
   {
    "duration": 19,
    "start_time": "2022-10-16T14:50:17.908Z"
   },
   {
    "duration": 39,
    "start_time": "2022-10-16T14:50:17.929Z"
   },
   {
    "duration": 3,
    "start_time": "2022-10-16T14:50:17.970Z"
   },
   {
    "duration": 25,
    "start_time": "2022-10-16T14:50:17.974Z"
   },
   {
    "duration": 8,
    "start_time": "2022-10-16T14:50:18.000Z"
   },
   {
    "duration": 25,
    "start_time": "2022-10-16T14:50:18.009Z"
   },
   {
    "duration": 80,
    "start_time": "2022-10-16T14:50:18.036Z"
   },
   {
    "duration": 160,
    "start_time": "2022-10-16T14:50:18.118Z"
   },
   {
    "duration": 9,
    "start_time": "2022-10-16T14:50:18.279Z"
   },
   {
    "duration": 19,
    "start_time": "2022-10-16T14:50:18.289Z"
   },
   {
    "duration": 11,
    "start_time": "2022-10-16T14:50:18.310Z"
   },
   {
    "duration": 9,
    "start_time": "2022-10-16T14:50:18.322Z"
   },
   {
    "duration": 10,
    "start_time": "2022-10-16T14:50:18.332Z"
   },
   {
    "duration": 13,
    "start_time": "2022-10-16T14:50:18.344Z"
   },
   {
    "duration": 21,
    "start_time": "2022-10-16T14:50:18.359Z"
   },
   {
    "duration": 18,
    "start_time": "2022-10-16T14:50:18.382Z"
   },
   {
    "duration": 23,
    "start_time": "2022-10-16T14:50:18.401Z"
   },
   {
    "duration": 8,
    "start_time": "2022-10-16T14:50:18.426Z"
   },
   {
    "duration": 6,
    "start_time": "2022-10-16T14:50:18.436Z"
   },
   {
    "duration": 33,
    "start_time": "2022-10-16T14:50:18.454Z"
   },
   {
    "duration": 5,
    "start_time": "2022-10-16T14:50:18.489Z"
   },
   {
    "duration": 14,
    "start_time": "2022-10-16T14:50:18.495Z"
   },
   {
    "duration": 207,
    "start_time": "2022-10-16T14:50:18.511Z"
   },
   {
    "duration": 21,
    "start_time": "2022-10-16T14:50:18.720Z"
   },
   {
    "duration": 14,
    "start_time": "2022-10-16T14:50:18.743Z"
   },
   {
    "duration": 24,
    "start_time": "2022-10-16T14:50:18.759Z"
   },
   {
    "duration": 229,
    "start_time": "2022-10-16T14:50:18.785Z"
   },
   {
    "duration": 6,
    "start_time": "2022-10-16T14:50:19.016Z"
   },
   {
    "duration": 6,
    "start_time": "2022-10-16T14:50:19.024Z"
   },
   {
    "duration": 183,
    "start_time": "2022-10-16T14:50:19.032Z"
   },
   {
    "duration": 5,
    "start_time": "2022-10-16T14:50:19.216Z"
   },
   {
    "duration": 8,
    "start_time": "2022-10-16T14:50:19.223Z"
   },
   {
    "duration": 178,
    "start_time": "2022-10-16T14:50:19.233Z"
   },
   {
    "duration": 279,
    "start_time": "2022-10-16T14:50:19.413Z"
   },
   {
    "duration": 5,
    "start_time": "2022-10-16T14:50:19.694Z"
   },
   {
    "duration": 10,
    "start_time": "2022-10-16T14:50:19.700Z"
   },
   {
    "duration": 21,
    "start_time": "2022-10-16T14:50:19.711Z"
   },
   {
    "duration": 10,
    "start_time": "2022-10-16T14:50:19.734Z"
   },
   {
    "duration": 14,
    "start_time": "2022-10-16T14:50:19.746Z"
   },
   {
    "duration": 174,
    "start_time": "2022-10-16T14:50:19.761Z"
   },
   {
    "duration": 6,
    "start_time": "2022-10-16T14:50:19.937Z"
   },
   {
    "duration": 6,
    "start_time": "2022-10-16T14:50:19.954Z"
   },
   {
    "duration": 21,
    "start_time": "2022-10-16T14:50:19.963Z"
   },
   {
    "duration": 10,
    "start_time": "2022-10-16T14:50:19.986Z"
   },
   {
    "duration": 17,
    "start_time": "2022-10-16T14:50:19.997Z"
   },
   {
    "duration": 184,
    "start_time": "2022-10-16T14:50:20.016Z"
   },
   {
    "duration": 5,
    "start_time": "2022-10-16T14:50:20.202Z"
   },
   {
    "duration": 9,
    "start_time": "2022-10-16T14:50:20.209Z"
   },
   {
    "duration": 13,
    "start_time": "2022-10-16T14:50:20.220Z"
   },
   {
    "duration": 22,
    "start_time": "2022-10-16T14:50:20.235Z"
   },
   {
    "duration": 29,
    "start_time": "2022-10-16T14:50:20.258Z"
   },
   {
    "duration": 13,
    "start_time": "2022-10-16T14:50:20.289Z"
   },
   {
    "duration": 7,
    "start_time": "2022-10-16T14:50:20.304Z"
   },
   {
    "duration": 7,
    "start_time": "2022-10-16T14:50:20.312Z"
   },
   {
    "duration": 28,
    "start_time": "2022-10-16T15:51:28.105Z"
   },
   {
    "duration": 13,
    "start_time": "2022-10-16T15:55:36.653Z"
   },
   {
    "duration": 110,
    "start_time": "2022-10-16T15:55:54.528Z"
   },
   {
    "duration": 25,
    "start_time": "2022-10-16T15:56:10.304Z"
   },
   {
    "duration": 36,
    "start_time": "2022-10-16T15:56:13.053Z"
   },
   {
    "duration": 39,
    "start_time": "2022-10-16T15:56:32.803Z"
   },
   {
    "duration": 30,
    "start_time": "2022-10-16T15:56:42.554Z"
   },
   {
    "duration": 31,
    "start_time": "2022-10-16T15:58:56.305Z"
   },
   {
    "duration": 5,
    "start_time": "2022-10-16T15:59:26.917Z"
   },
   {
    "duration": 42,
    "start_time": "2022-10-16T15:59:28.706Z"
   },
   {
    "duration": 20,
    "start_time": "2022-10-16T16:08:21.986Z"
   },
   {
    "duration": 58,
    "start_time": "2022-10-16T16:09:07.267Z"
   },
   {
    "duration": 73,
    "start_time": "2022-10-16T16:09:32.691Z"
   },
   {
    "duration": 66,
    "start_time": "2022-10-16T16:09:44.863Z"
   },
   {
    "duration": 53,
    "start_time": "2022-10-16T16:10:18.012Z"
   },
   {
    "duration": 88,
    "start_time": "2022-10-16T16:10:21.536Z"
   },
   {
    "duration": 73,
    "start_time": "2022-10-16T16:10:26.512Z"
   },
   {
    "duration": 70,
    "start_time": "2022-10-16T16:10:37.588Z"
   },
   {
    "duration": 56,
    "start_time": "2022-10-16T16:14:23.421Z"
   },
   {
    "duration": 52,
    "start_time": "2022-10-16T16:14:27.764Z"
   },
   {
    "duration": 64,
    "start_time": "2022-10-16T16:14:33.338Z"
   },
   {
    "duration": 55,
    "start_time": "2022-10-16T16:14:58.689Z"
   },
   {
    "duration": 1311,
    "start_time": "2022-10-16T16:44:32.418Z"
   },
   {
    "duration": 90,
    "start_time": "2022-10-16T16:44:33.731Z"
   },
   {
    "duration": 25,
    "start_time": "2022-10-16T16:44:33.823Z"
   },
   {
    "duration": 13,
    "start_time": "2022-10-16T16:44:33.850Z"
   },
   {
    "duration": 698,
    "start_time": "2022-10-16T16:44:33.865Z"
   },
   {
    "duration": 21,
    "start_time": "2022-10-16T16:44:34.565Z"
   },
   {
    "duration": 23,
    "start_time": "2022-10-16T16:44:34.589Z"
   },
   {
    "duration": 21,
    "start_time": "2022-10-16T16:44:34.613Z"
   },
   {
    "duration": 27,
    "start_time": "2022-10-16T16:44:34.636Z"
   },
   {
    "duration": 28,
    "start_time": "2022-10-16T16:44:34.666Z"
   },
   {
    "duration": 19,
    "start_time": "2022-10-16T16:44:34.696Z"
   },
   {
    "duration": 54,
    "start_time": "2022-10-16T16:44:34.717Z"
   },
   {
    "duration": 17,
    "start_time": "2022-10-16T16:44:34.772Z"
   },
   {
    "duration": 48,
    "start_time": "2022-10-16T16:44:34.791Z"
   },
   {
    "duration": 26,
    "start_time": "2022-10-16T16:44:34.841Z"
   },
   {
    "duration": 14,
    "start_time": "2022-10-16T16:44:34.869Z"
   },
   {
    "duration": 50,
    "start_time": "2022-10-16T16:44:34.884Z"
   },
   {
    "duration": 3,
    "start_time": "2022-10-16T16:44:34.936Z"
   },
   {
    "duration": 44,
    "start_time": "2022-10-16T16:44:34.941Z"
   },
   {
    "duration": 35,
    "start_time": "2022-10-16T16:44:34.987Z"
   },
   {
    "duration": 52,
    "start_time": "2022-10-16T16:44:35.024Z"
   },
   {
    "duration": 11,
    "start_time": "2022-10-16T16:44:35.078Z"
   },
   {
    "duration": 31,
    "start_time": "2022-10-16T16:44:35.090Z"
   },
   {
    "duration": 123,
    "start_time": "2022-10-16T16:44:35.123Z"
   },
   {
    "duration": 11,
    "start_time": "2022-10-16T16:44:35.255Z"
   },
   {
    "duration": 18,
    "start_time": "2022-10-16T16:44:35.268Z"
   },
   {
    "duration": 32,
    "start_time": "2022-10-16T16:44:35.288Z"
   },
   {
    "duration": 35,
    "start_time": "2022-10-16T16:44:35.325Z"
   },
   {
    "duration": 36,
    "start_time": "2022-10-16T16:44:35.361Z"
   },
   {
    "duration": 4,
    "start_time": "2022-10-16T16:44:35.399Z"
   },
   {
    "duration": 14,
    "start_time": "2022-10-16T16:44:35.405Z"
   },
   {
    "duration": 51,
    "start_time": "2022-10-16T16:44:35.421Z"
   },
   {
    "duration": 242,
    "start_time": "2022-10-16T16:44:35.474Z"
   },
   {
    "duration": 8,
    "start_time": "2022-10-16T16:44:35.718Z"
   },
   {
    "duration": 18,
    "start_time": "2022-10-16T16:44:35.727Z"
   },
   {
    "duration": 53,
    "start_time": "2022-10-16T16:44:35.753Z"
   },
   {
    "duration": 179,
    "start_time": "2022-10-16T16:44:35.808Z"
   },
   {
    "duration": 7,
    "start_time": "2022-10-16T16:44:35.988Z"
   },
   {
    "duration": 31,
    "start_time": "2022-10-16T16:44:35.996Z"
   },
   {
    "duration": 11,
    "start_time": "2022-10-16T16:44:36.028Z"
   },
   {
    "duration": 13,
    "start_time": "2022-10-16T16:44:36.040Z"
   },
   {
    "duration": 29,
    "start_time": "2022-10-16T16:44:36.055Z"
   },
   {
    "duration": 18,
    "start_time": "2022-10-16T16:44:36.085Z"
   },
   {
    "duration": 16,
    "start_time": "2022-10-16T16:44:36.104Z"
   },
   {
    "duration": 13,
    "start_time": "2022-10-16T16:44:36.122Z"
   },
   {
    "duration": 14,
    "start_time": "2022-10-16T16:44:36.137Z"
   },
   {
    "duration": 28,
    "start_time": "2022-10-16T16:44:36.152Z"
   },
   {
    "duration": 34,
    "start_time": "2022-10-16T16:44:36.182Z"
   },
   {
    "duration": 3,
    "start_time": "2022-10-16T16:44:36.218Z"
   },
   {
    "duration": 74,
    "start_time": "2022-10-16T16:44:36.223Z"
   },
   {
    "duration": 19,
    "start_time": "2022-10-16T16:44:36.299Z"
   },
   {
    "duration": 9,
    "start_time": "2022-10-16T16:44:36.321Z"
   },
   {
    "duration": 42,
    "start_time": "2022-10-16T16:44:36.332Z"
   },
   {
    "duration": 60,
    "start_time": "2022-10-16T16:44:36.375Z"
   },
   {
    "duration": 183,
    "start_time": "2022-10-16T16:44:36.437Z"
   },
   {
    "duration": 9,
    "start_time": "2022-10-16T16:44:36.622Z"
   },
   {
    "duration": 15,
    "start_time": "2022-10-16T16:44:36.632Z"
   },
   {
    "duration": 35,
    "start_time": "2022-10-16T16:44:36.661Z"
   },
   {
    "duration": 8,
    "start_time": "2022-10-16T16:44:36.698Z"
   },
   {
    "duration": 14,
    "start_time": "2022-10-16T16:44:36.707Z"
   },
   {
    "duration": 8,
    "start_time": "2022-10-16T16:44:36.723Z"
   },
   {
    "duration": 8,
    "start_time": "2022-10-16T16:44:36.733Z"
   },
   {
    "duration": 36,
    "start_time": "2022-10-16T16:44:36.742Z"
   },
   {
    "duration": 24,
    "start_time": "2022-10-16T16:44:36.780Z"
   },
   {
    "duration": 8,
    "start_time": "2022-10-16T16:44:36.806Z"
   },
   {
    "duration": 15,
    "start_time": "2022-10-16T16:44:36.816Z"
   },
   {
    "duration": 18,
    "start_time": "2022-10-16T16:44:36.832Z"
   },
   {
    "duration": 17,
    "start_time": "2022-10-16T16:44:36.852Z"
   },
   {
    "duration": 14,
    "start_time": "2022-10-16T16:44:36.870Z"
   },
   {
    "duration": 194,
    "start_time": "2022-10-16T16:44:36.886Z"
   },
   {
    "duration": 18,
    "start_time": "2022-10-16T16:44:37.082Z"
   },
   {
    "duration": 5,
    "start_time": "2022-10-16T16:44:37.102Z"
   },
   {
    "duration": 31,
    "start_time": "2022-10-16T16:44:37.109Z"
   },
   {
    "duration": 215,
    "start_time": "2022-10-16T16:44:37.143Z"
   },
   {
    "duration": 7,
    "start_time": "2022-10-16T16:44:37.360Z"
   },
   {
    "duration": 19,
    "start_time": "2022-10-16T16:44:37.369Z"
   },
   {
    "duration": 188,
    "start_time": "2022-10-16T16:44:37.390Z"
   },
   {
    "duration": 7,
    "start_time": "2022-10-16T16:44:37.581Z"
   },
   {
    "duration": 10,
    "start_time": "2022-10-16T16:44:37.590Z"
   },
   {
    "duration": 277,
    "start_time": "2022-10-16T16:44:37.602Z"
   },
   {
    "duration": 195,
    "start_time": "2022-10-16T16:44:37.881Z"
   },
   {
    "duration": 5,
    "start_time": "2022-10-16T16:44:38.083Z"
   },
   {
    "duration": 7,
    "start_time": "2022-10-16T16:44:38.090Z"
   },
   {
    "duration": 11,
    "start_time": "2022-10-16T16:44:38.099Z"
   },
   {
    "duration": 5,
    "start_time": "2022-10-16T16:44:38.111Z"
   },
   {
    "duration": 9,
    "start_time": "2022-10-16T16:44:38.118Z"
   },
   {
    "duration": 194,
    "start_time": "2022-10-16T16:44:38.128Z"
   },
   {
    "duration": 8,
    "start_time": "2022-10-16T16:44:38.325Z"
   },
   {
    "duration": 22,
    "start_time": "2022-10-16T16:44:38.335Z"
   },
   {
    "duration": 30,
    "start_time": "2022-10-16T16:44:38.359Z"
   },
   {
    "duration": 13,
    "start_time": "2022-10-16T16:44:38.390Z"
   },
   {
    "duration": 18,
    "start_time": "2022-10-16T16:44:38.405Z"
   },
   {
    "duration": 201,
    "start_time": "2022-10-16T16:44:38.425Z"
   },
   {
    "duration": 9,
    "start_time": "2022-10-16T16:44:38.628Z"
   },
   {
    "duration": 16,
    "start_time": "2022-10-16T16:44:38.639Z"
   },
   {
    "duration": 37,
    "start_time": "2022-10-16T16:44:38.657Z"
   },
   {
    "duration": 18,
    "start_time": "2022-10-16T16:44:38.697Z"
   },
   {
    "duration": 13,
    "start_time": "2022-10-16T16:44:38.717Z"
   },
   {
    "duration": 7,
    "start_time": "2022-10-16T16:44:38.732Z"
   },
   {
    "duration": 5,
    "start_time": "2022-10-16T16:44:38.741Z"
   },
   {
    "duration": 27,
    "start_time": "2022-10-16T16:44:38.748Z"
   },
   {
    "duration": 50,
    "start_time": "2022-10-17T07:58:04.619Z"
   },
   {
    "duration": 6,
    "start_time": "2022-10-17T07:58:32.832Z"
   },
   {
    "duration": 1380,
    "start_time": "2022-10-17T07:58:40.337Z"
   },
   {
    "duration": 158,
    "start_time": "2022-10-17T07:58:41.720Z"
   },
   {
    "duration": 23,
    "start_time": "2022-10-17T07:58:41.881Z"
   },
   {
    "duration": 10,
    "start_time": "2022-10-17T07:58:41.906Z"
   },
   {
    "duration": 530,
    "start_time": "2022-10-17T07:58:41.917Z"
   },
   {
    "duration": 16,
    "start_time": "2022-10-17T07:58:42.449Z"
   },
   {
    "duration": 5,
    "start_time": "2022-10-17T07:58:42.466Z"
   },
   {
    "duration": 14,
    "start_time": "2022-10-17T07:58:42.472Z"
   },
   {
    "duration": 10,
    "start_time": "2022-10-17T07:58:42.488Z"
   },
   {
    "duration": 40,
    "start_time": "2022-10-17T07:58:42.500Z"
   },
   {
    "duration": 5,
    "start_time": "2022-10-17T07:58:42.542Z"
   },
   {
    "duration": 36,
    "start_time": "2022-10-17T07:58:42.549Z"
   },
   {
    "duration": 16,
    "start_time": "2022-10-17T07:58:42.587Z"
   },
   {
    "duration": 53,
    "start_time": "2022-10-17T07:58:42.604Z"
   },
   {
    "duration": 15,
    "start_time": "2022-10-17T07:58:42.658Z"
   },
   {
    "duration": 6,
    "start_time": "2022-10-17T07:58:42.674Z"
   },
   {
    "duration": 54,
    "start_time": "2022-10-17T07:58:42.681Z"
   },
   {
    "duration": 4,
    "start_time": "2022-10-17T07:58:42.736Z"
   },
   {
    "duration": 9,
    "start_time": "2022-10-17T07:58:42.741Z"
   },
   {
    "duration": 16,
    "start_time": "2022-10-17T07:58:42.752Z"
   },
   {
    "duration": 20,
    "start_time": "2022-10-17T07:58:42.769Z"
   },
   {
    "duration": 4,
    "start_time": "2022-10-17T07:58:42.790Z"
   },
   {
    "duration": 13,
    "start_time": "2022-10-17T07:58:42.796Z"
   },
   {
    "duration": 145,
    "start_time": "2022-10-17T07:58:42.810Z"
   },
   {
    "duration": 9,
    "start_time": "2022-10-17T07:58:42.956Z"
   },
   {
    "duration": 16,
    "start_time": "2022-10-17T07:58:42.967Z"
   },
   {
    "duration": 25,
    "start_time": "2022-10-17T07:58:42.984Z"
   },
   {
    "duration": 17,
    "start_time": "2022-10-17T07:58:43.034Z"
   },
   {
    "duration": 24,
    "start_time": "2022-10-17T07:58:43.053Z"
   },
   {
    "duration": 3,
    "start_time": "2022-10-17T07:58:43.079Z"
   },
   {
    "duration": 12,
    "start_time": "2022-10-17T07:58:43.084Z"
   },
   {
    "duration": 50,
    "start_time": "2022-10-17T07:58:43.099Z"
   },
   {
    "duration": 198,
    "start_time": "2022-10-17T07:58:43.151Z"
   },
   {
    "duration": 8,
    "start_time": "2022-10-17T07:58:43.351Z"
   },
   {
    "duration": 11,
    "start_time": "2022-10-17T07:58:43.361Z"
   },
   {
    "duration": 40,
    "start_time": "2022-10-17T07:58:43.373Z"
   },
   {
    "duration": 169,
    "start_time": "2022-10-17T07:58:43.434Z"
   },
   {
    "duration": 7,
    "start_time": "2022-10-17T07:58:43.605Z"
   },
   {
    "duration": 11,
    "start_time": "2022-10-17T07:58:43.613Z"
   },
   {
    "duration": 12,
    "start_time": "2022-10-17T07:58:43.634Z"
   },
   {
    "duration": 6,
    "start_time": "2022-10-17T07:58:43.648Z"
   },
   {
    "duration": 10,
    "start_time": "2022-10-17T07:58:43.656Z"
   },
   {
    "duration": 11,
    "start_time": "2022-10-17T07:58:43.668Z"
   },
   {
    "duration": 5,
    "start_time": "2022-10-17T07:58:43.681Z"
   },
   {
    "duration": 19,
    "start_time": "2022-10-17T07:58:43.688Z"
   },
   {
    "duration": 10,
    "start_time": "2022-10-17T07:58:43.708Z"
   },
   {
    "duration": 11,
    "start_time": "2022-10-17T07:58:43.734Z"
   },
   {
    "duration": 27,
    "start_time": "2022-10-17T07:58:43.746Z"
   },
   {
    "duration": 2,
    "start_time": "2022-10-17T07:58:43.775Z"
   },
   {
    "duration": 72,
    "start_time": "2022-10-17T07:58:43.778Z"
   },
   {
    "duration": 18,
    "start_time": "2022-10-17T07:58:43.851Z"
   },
   {
    "duration": 8,
    "start_time": "2022-10-17T07:58:43.870Z"
   },
   {
    "duration": 20,
    "start_time": "2022-10-17T07:58:43.879Z"
   },
   {
    "duration": 84,
    "start_time": "2022-10-17T07:58:43.900Z"
   },
   {
    "duration": 162,
    "start_time": "2022-10-17T07:58:43.985Z"
   },
   {
    "duration": 9,
    "start_time": "2022-10-17T07:58:44.149Z"
   },
   {
    "duration": 23,
    "start_time": "2022-10-17T07:58:44.161Z"
   },
   {
    "duration": 9,
    "start_time": "2022-10-17T07:58:44.186Z"
   },
   {
    "duration": 12,
    "start_time": "2022-10-17T07:58:44.197Z"
   },
   {
    "duration": 13,
    "start_time": "2022-10-17T07:58:44.211Z"
   },
   {
    "duration": 5,
    "start_time": "2022-10-17T07:58:44.234Z"
   },
   {
    "duration": 6,
    "start_time": "2022-10-17T07:58:44.241Z"
   },
   {
    "duration": 18,
    "start_time": "2022-10-17T07:58:44.249Z"
   },
   {
    "duration": 21,
    "start_time": "2022-10-17T07:58:44.269Z"
   },
   {
    "duration": 6,
    "start_time": "2022-10-17T07:58:44.292Z"
   },
   {
    "duration": 35,
    "start_time": "2022-10-17T07:58:44.299Z"
   },
   {
    "duration": 15,
    "start_time": "2022-10-17T07:58:44.336Z"
   },
   {
    "duration": 9,
    "start_time": "2022-10-17T07:58:44.353Z"
   },
   {
    "duration": 14,
    "start_time": "2022-10-17T07:58:44.364Z"
   },
   {
    "duration": 185,
    "start_time": "2022-10-17T07:58:44.380Z"
   },
   {
    "duration": 17,
    "start_time": "2022-10-17T07:58:44.567Z"
   },
   {
    "duration": 6,
    "start_time": "2022-10-17T07:58:44.586Z"
   },
   {
    "duration": 14,
    "start_time": "2022-10-17T07:58:44.593Z"
   },
   {
    "duration": 206,
    "start_time": "2022-10-17T07:58:44.609Z"
   },
   {
    "duration": 5,
    "start_time": "2022-10-17T07:58:44.817Z"
   },
   {
    "duration": 13,
    "start_time": "2022-10-17T07:58:44.823Z"
   },
   {
    "duration": 162,
    "start_time": "2022-10-17T07:58:44.837Z"
   },
   {
    "duration": 5,
    "start_time": "2022-10-17T07:58:45.001Z"
   },
   {
    "duration": 22,
    "start_time": "2022-10-17T07:58:45.008Z"
   },
   {
    "duration": 233,
    "start_time": "2022-10-17T07:58:45.032Z"
   },
   {
    "duration": 173,
    "start_time": "2022-10-17T07:58:45.266Z"
   },
   {
    "duration": 4,
    "start_time": "2022-10-17T07:58:45.445Z"
   },
   {
    "duration": 7,
    "start_time": "2022-10-17T07:58:45.450Z"
   },
   {
    "duration": 8,
    "start_time": "2022-10-17T07:58:45.459Z"
   },
   {
    "duration": 4,
    "start_time": "2022-10-17T07:58:45.469Z"
   },
   {
    "duration": 9,
    "start_time": "2022-10-17T07:58:45.474Z"
   },
   {
    "duration": 174,
    "start_time": "2022-10-17T07:58:45.484Z"
   },
   {
    "duration": 5,
    "start_time": "2022-10-17T07:58:45.660Z"
   },
   {
    "duration": 7,
    "start_time": "2022-10-17T07:58:45.666Z"
   },
   {
    "duration": 15,
    "start_time": "2022-10-17T07:58:45.674Z"
   },
   {
    "duration": 9,
    "start_time": "2022-10-17T07:58:45.691Z"
   },
   {
    "duration": 16,
    "start_time": "2022-10-17T07:58:45.701Z"
   },
   {
    "duration": 175,
    "start_time": "2022-10-17T07:58:45.719Z"
   },
   {
    "duration": 5,
    "start_time": "2022-10-17T07:58:45.896Z"
   },
   {
    "duration": 8,
    "start_time": "2022-10-17T07:58:45.903Z"
   },
   {
    "duration": 10,
    "start_time": "2022-10-17T07:58:45.912Z"
   },
   {
    "duration": 8,
    "start_time": "2022-10-17T07:58:45.933Z"
   },
   {
    "duration": 11,
    "start_time": "2022-10-17T07:58:45.942Z"
   },
   {
    "duration": 6,
    "start_time": "2022-10-17T07:58:45.955Z"
   },
   {
    "duration": 7,
    "start_time": "2022-10-17T07:58:45.962Z"
   },
   {
    "duration": 5,
    "start_time": "2022-10-17T07:58:45.970Z"
   },
   {
    "duration": 32,
    "start_time": "2022-10-17T07:58:54.409Z"
   },
   {
    "duration": 236,
    "start_time": "2022-10-17T08:01:05.501Z"
   },
   {
    "duration": 88,
    "start_time": "2022-10-17T08:02:19.001Z"
   },
   {
    "duration": 17,
    "start_time": "2022-10-17T08:02:24.214Z"
   },
   {
    "duration": 231,
    "start_time": "2022-10-17T08:02:29.613Z"
   },
   {
    "duration": 237,
    "start_time": "2022-10-17T08:02:54.864Z"
   },
   {
    "duration": 4,
    "start_time": "2022-10-17T12:09:56.186Z"
   },
   {
    "duration": 77,
    "start_time": "2022-10-17T12:09:56.600Z"
   },
   {
    "duration": 4,
    "start_time": "2022-10-17T12:10:06.043Z"
   },
   {
    "duration": 13,
    "start_time": "2022-10-17T12:10:06.049Z"
   },
   {
    "duration": 77,
    "start_time": "2022-10-17T12:10:06.063Z"
   },
   {
    "duration": 23,
    "start_time": "2022-10-17T12:10:06.142Z"
   },
   {
    "duration": 20,
    "start_time": "2022-10-17T12:10:06.167Z"
   },
   {
    "duration": 626,
    "start_time": "2022-10-17T12:10:06.189Z"
   },
   {
    "duration": 20,
    "start_time": "2022-10-17T12:10:06.817Z"
   },
   {
    "duration": 4,
    "start_time": "2022-10-17T12:10:06.838Z"
   },
   {
    "duration": 8,
    "start_time": "2022-10-17T12:10:06.845Z"
   },
   {
    "duration": 12,
    "start_time": "2022-10-17T12:10:06.854Z"
   },
   {
    "duration": 16,
    "start_time": "2022-10-17T12:10:06.868Z"
   },
   {
    "duration": 5,
    "start_time": "2022-10-17T12:10:06.885Z"
   },
   {
    "duration": 55,
    "start_time": "2022-10-17T12:10:06.891Z"
   },
   {
    "duration": 17,
    "start_time": "2022-10-17T12:10:06.948Z"
   },
   {
    "duration": 33,
    "start_time": "2022-10-17T12:10:06.966Z"
   },
   {
    "duration": 14,
    "start_time": "2022-10-17T12:10:07.000Z"
   },
   {
    "duration": 5,
    "start_time": "2022-10-17T12:10:07.033Z"
   },
   {
    "duration": 39,
    "start_time": "2022-10-17T12:10:07.040Z"
   },
   {
    "duration": 4,
    "start_time": "2022-10-17T12:10:07.080Z"
   },
   {
    "duration": 13,
    "start_time": "2022-10-17T12:10:07.085Z"
   },
   {
    "duration": 34,
    "start_time": "2022-10-17T12:10:07.100Z"
   },
   {
    "duration": 22,
    "start_time": "2022-10-17T12:10:07.135Z"
   },
   {
    "duration": 6,
    "start_time": "2022-10-17T12:10:07.158Z"
   },
   {
    "duration": 7,
    "start_time": "2022-10-17T12:10:07.168Z"
   },
   {
    "duration": 114,
    "start_time": "2022-10-17T12:10:07.176Z"
   },
   {
    "duration": 8,
    "start_time": "2022-10-17T12:10:07.292Z"
   },
   {
    "duration": 19,
    "start_time": "2022-10-17T12:10:07.301Z"
   },
   {
    "duration": 25,
    "start_time": "2022-10-17T12:10:07.333Z"
   },
   {
    "duration": 18,
    "start_time": "2022-10-17T12:10:07.360Z"
   },
   {
    "duration": 27,
    "start_time": "2022-10-17T12:10:07.380Z"
   },
   {
    "duration": 23,
    "start_time": "2022-10-17T12:10:07.409Z"
   },
   {
    "duration": 11,
    "start_time": "2022-10-17T12:10:07.434Z"
   },
   {
    "duration": 32,
    "start_time": "2022-10-17T12:10:07.447Z"
   },
   {
    "duration": 203,
    "start_time": "2022-10-17T12:10:07.480Z"
   },
   {
    "duration": 8,
    "start_time": "2022-10-17T12:10:07.685Z"
   },
   {
    "duration": 12,
    "start_time": "2022-10-17T12:10:07.695Z"
   },
   {
    "duration": 57,
    "start_time": "2022-10-17T12:10:07.709Z"
   },
   {
    "duration": 174,
    "start_time": "2022-10-17T12:10:07.767Z"
   },
   {
    "duration": 7,
    "start_time": "2022-10-17T12:10:07.942Z"
   },
   {
    "duration": 11,
    "start_time": "2022-10-17T12:10:07.950Z"
   },
   {
    "duration": 10,
    "start_time": "2022-10-17T12:10:07.963Z"
   },
   {
    "duration": 9,
    "start_time": "2022-10-17T12:10:07.974Z"
   },
   {
    "duration": 13,
    "start_time": "2022-10-17T12:10:07.984Z"
   },
   {
    "duration": 12,
    "start_time": "2022-10-17T12:10:07.998Z"
   },
   {
    "duration": 21,
    "start_time": "2022-10-17T12:10:08.011Z"
   },
   {
    "duration": 15,
    "start_time": "2022-10-17T12:10:08.034Z"
   },
   {
    "duration": 11,
    "start_time": "2022-10-17T12:10:08.050Z"
   },
   {
    "duration": 14,
    "start_time": "2022-10-17T12:10:08.062Z"
   },
   {
    "duration": 31,
    "start_time": "2022-10-17T12:10:08.078Z"
   },
   {
    "duration": 22,
    "start_time": "2022-10-17T12:10:08.111Z"
   },
   {
    "duration": 62,
    "start_time": "2022-10-17T12:10:08.135Z"
   },
   {
    "duration": 37,
    "start_time": "2022-10-17T12:10:08.199Z"
   },
   {
    "duration": 9,
    "start_time": "2022-10-17T12:10:08.238Z"
   },
   {
    "duration": 22,
    "start_time": "2022-10-17T12:10:08.248Z"
   },
   {
    "duration": 20,
    "start_time": "2022-10-17T12:10:08.272Z"
   },
   {
    "duration": 167,
    "start_time": "2022-10-17T12:10:08.293Z"
   },
   {
    "duration": 8,
    "start_time": "2022-10-17T12:10:08.461Z"
   },
   {
    "duration": 13,
    "start_time": "2022-10-17T12:10:08.470Z"
   },
   {
    "duration": 8,
    "start_time": "2022-10-17T12:10:08.485Z"
   },
   {
    "duration": 10,
    "start_time": "2022-10-17T12:10:08.494Z"
   },
   {
    "duration": 6,
    "start_time": "2022-10-17T12:10:08.506Z"
   },
   {
    "duration": 4,
    "start_time": "2022-10-17T12:10:08.534Z"
   },
   {
    "duration": 6,
    "start_time": "2022-10-17T12:10:08.540Z"
   },
   {
    "duration": 98,
    "start_time": "2022-10-17T12:10:08.548Z"
   },
   {
    "duration": 18,
    "start_time": "2022-10-17T12:10:08.647Z"
   },
   {
    "duration": 4,
    "start_time": "2022-10-17T12:10:08.667Z"
   },
   {
    "duration": 8,
    "start_time": "2022-10-17T12:10:08.673Z"
   },
   {
    "duration": 18,
    "start_time": "2022-10-17T12:10:08.683Z"
   },
   {
    "duration": 4,
    "start_time": "2022-10-17T12:10:08.708Z"
   },
   {
    "duration": 13,
    "start_time": "2022-10-17T12:10:08.733Z"
   },
   {
    "duration": 201,
    "start_time": "2022-10-17T12:10:08.747Z"
   },
   {
    "duration": 19,
    "start_time": "2022-10-17T12:10:08.950Z"
   },
   {
    "duration": 8,
    "start_time": "2022-10-17T12:10:08.970Z"
   },
   {
    "duration": 16,
    "start_time": "2022-10-17T12:10:08.980Z"
   },
   {
    "duration": 205,
    "start_time": "2022-10-17T12:10:08.997Z"
   },
   {
    "duration": 5,
    "start_time": "2022-10-17T12:10:09.203Z"
   },
   {
    "duration": 13,
    "start_time": "2022-10-17T12:10:09.209Z"
   },
   {
    "duration": 170,
    "start_time": "2022-10-17T12:10:09.223Z"
   },
   {
    "duration": 6,
    "start_time": "2022-10-17T12:10:09.395Z"
   },
   {
    "duration": 7,
    "start_time": "2022-10-17T12:10:09.403Z"
   },
   {
    "duration": 170,
    "start_time": "2022-10-17T12:10:09.411Z"
   },
   {
    "duration": 21,
    "start_time": "2022-10-17T12:10:09.582Z"
   },
   {
    "duration": 265,
    "start_time": "2022-10-17T12:10:09.604Z"
   },
   {
    "duration": 4,
    "start_time": "2022-10-17T12:10:09.871Z"
   },
   {
    "duration": 13,
    "start_time": "2022-10-17T12:10:09.877Z"
   },
   {
    "duration": 9,
    "start_time": "2022-10-17T12:10:09.892Z"
   },
   {
    "duration": 6,
    "start_time": "2022-10-17T12:10:09.902Z"
   },
   {
    "duration": 8,
    "start_time": "2022-10-17T12:10:09.910Z"
   },
   {
    "duration": 167,
    "start_time": "2022-10-17T12:10:09.920Z"
   },
   {
    "duration": 4,
    "start_time": "2022-10-17T12:10:10.089Z"
   },
   {
    "duration": 8,
    "start_time": "2022-10-17T12:10:10.095Z"
   },
   {
    "duration": 16,
    "start_time": "2022-10-17T12:10:10.104Z"
   },
   {
    "duration": 13,
    "start_time": "2022-10-17T12:10:10.121Z"
   },
   {
    "duration": 12,
    "start_time": "2022-10-17T12:10:10.135Z"
   },
   {
    "duration": 171,
    "start_time": "2022-10-17T12:10:10.149Z"
   },
   {
    "duration": 5,
    "start_time": "2022-10-17T12:10:10.322Z"
   },
   {
    "duration": 5,
    "start_time": "2022-10-17T12:10:10.334Z"
   },
   {
    "duration": 10,
    "start_time": "2022-10-17T12:10:10.341Z"
   },
   {
    "duration": 8,
    "start_time": "2022-10-17T12:10:10.352Z"
   },
   {
    "duration": 10,
    "start_time": "2022-10-17T12:10:10.362Z"
   },
   {
    "duration": 13,
    "start_time": "2022-10-17T12:10:10.374Z"
   },
   {
    "duration": 7,
    "start_time": "2022-10-17T12:10:10.389Z"
   },
   {
    "duration": 6,
    "start_time": "2022-10-17T12:10:10.397Z"
   },
   {
    "duration": 1162,
    "start_time": "2022-10-17T12:11:08.835Z"
   },
   {
    "duration": 3,
    "start_time": "2022-10-17T12:11:09.999Z"
   },
   {
    "duration": 85,
    "start_time": "2022-10-17T12:11:10.004Z"
   },
   {
    "duration": 24,
    "start_time": "2022-10-17T12:11:10.091Z"
   },
   {
    "duration": 10,
    "start_time": "2022-10-17T12:11:10.116Z"
   },
   {
    "duration": 536,
    "start_time": "2022-10-17T12:11:10.133Z"
   },
   {
    "duration": 15,
    "start_time": "2022-10-17T12:11:10.671Z"
   },
   {
    "duration": 4,
    "start_time": "2022-10-17T12:11:10.687Z"
   },
   {
    "duration": 13,
    "start_time": "2022-10-17T12:11:10.693Z"
   },
   {
    "duration": 10,
    "start_time": "2022-10-17T12:11:10.708Z"
   },
   {
    "duration": 15,
    "start_time": "2022-10-17T12:11:10.734Z"
   },
   {
    "duration": 5,
    "start_time": "2022-10-17T12:11:10.750Z"
   },
   {
    "duration": 32,
    "start_time": "2022-10-17T12:11:10.757Z"
   },
   {
    "duration": 16,
    "start_time": "2022-10-17T12:11:10.791Z"
   },
   {
    "duration": 29,
    "start_time": "2022-10-17T12:11:10.834Z"
   },
   {
    "duration": 14,
    "start_time": "2022-10-17T12:11:10.865Z"
   },
   {
    "duration": 6,
    "start_time": "2022-10-17T12:11:10.880Z"
   },
   {
    "duration": 58,
    "start_time": "2022-10-17T12:11:10.887Z"
   },
   {
    "duration": 4,
    "start_time": "2022-10-17T12:11:10.947Z"
   },
   {
    "duration": 10,
    "start_time": "2022-10-17T12:11:10.953Z"
   },
   {
    "duration": 19,
    "start_time": "2022-10-17T12:11:10.965Z"
   },
   {
    "duration": 23,
    "start_time": "2022-10-17T12:11:10.985Z"
   },
   {
    "duration": 25,
    "start_time": "2022-10-17T12:11:11.009Z"
   },
   {
    "duration": 14,
    "start_time": "2022-10-17T12:11:11.036Z"
   },
   {
    "duration": 112,
    "start_time": "2022-10-17T12:11:11.051Z"
   },
   {
    "duration": 9,
    "start_time": "2022-10-17T12:11:11.165Z"
   },
   {
    "duration": 17,
    "start_time": "2022-10-17T12:11:11.175Z"
   },
   {
    "duration": 44,
    "start_time": "2022-10-17T12:11:11.196Z"
   },
   {
    "duration": 18,
    "start_time": "2022-10-17T12:11:11.241Z"
   },
   {
    "duration": 21,
    "start_time": "2022-10-17T12:11:11.261Z"
   },
   {
    "duration": 4,
    "start_time": "2022-10-17T12:11:11.284Z"
   },
   {
    "duration": 14,
    "start_time": "2022-10-17T12:11:11.289Z"
   },
   {
    "duration": 24,
    "start_time": "2022-10-17T12:11:11.334Z"
   },
   {
    "duration": 193,
    "start_time": "2022-10-17T12:11:11.359Z"
   },
   {
    "duration": 8,
    "start_time": "2022-10-17T12:11:11.553Z"
   },
   {
    "duration": 33,
    "start_time": "2022-10-17T12:11:11.563Z"
   },
   {
    "duration": 50,
    "start_time": "2022-10-17T12:11:11.597Z"
   },
   {
    "duration": 185,
    "start_time": "2022-10-17T12:11:11.649Z"
   },
   {
    "duration": 6,
    "start_time": "2022-10-17T12:11:11.836Z"
   },
   {
    "duration": 13,
    "start_time": "2022-10-17T12:11:11.843Z"
   },
   {
    "duration": 25,
    "start_time": "2022-10-17T12:11:11.858Z"
   },
   {
    "duration": 23,
    "start_time": "2022-10-17T12:11:11.885Z"
   },
   {
    "duration": 24,
    "start_time": "2022-10-17T12:11:11.909Z"
   },
   {
    "duration": 22,
    "start_time": "2022-10-17T12:11:11.934Z"
   },
   {
    "duration": 16,
    "start_time": "2022-10-17T12:11:11.958Z"
   },
   {
    "duration": 32,
    "start_time": "2022-10-17T12:11:11.975Z"
   },
   {
    "duration": 23,
    "start_time": "2022-10-17T12:11:12.009Z"
   },
   {
    "duration": 24,
    "start_time": "2022-10-17T12:11:12.034Z"
   },
   {
    "duration": 40,
    "start_time": "2022-10-17T12:11:12.060Z"
   },
   {
    "duration": 3,
    "start_time": "2022-10-17T12:11:12.102Z"
   },
   {
    "duration": 91,
    "start_time": "2022-10-17T12:11:12.107Z"
   },
   {
    "duration": 18,
    "start_time": "2022-10-17T12:11:12.200Z"
   },
   {
    "duration": 12,
    "start_time": "2022-10-17T12:11:12.220Z"
   },
   {
    "duration": 21,
    "start_time": "2022-10-17T12:11:12.234Z"
   },
   {
    "duration": 55,
    "start_time": "2022-10-17T12:11:12.256Z"
   },
   {
    "duration": 164,
    "start_time": "2022-10-17T12:11:12.312Z"
   },
   {
    "duration": 8,
    "start_time": "2022-10-17T12:11:12.478Z"
   },
   {
    "duration": 11,
    "start_time": "2022-10-17T12:11:12.488Z"
   },
   {
    "duration": 7,
    "start_time": "2022-10-17T12:11:12.501Z"
   },
   {
    "duration": 27,
    "start_time": "2022-10-17T12:11:12.510Z"
   },
   {
    "duration": 6,
    "start_time": "2022-10-17T12:11:12.539Z"
   },
   {
    "duration": 11,
    "start_time": "2022-10-17T12:11:12.546Z"
   },
   {
    "duration": 7,
    "start_time": "2022-10-17T12:11:12.559Z"
   },
   {
    "duration": 15,
    "start_time": "2022-10-17T12:11:12.568Z"
   },
   {
    "duration": 27,
    "start_time": "2022-10-17T12:11:12.585Z"
   },
   {
    "duration": 22,
    "start_time": "2022-10-17T12:11:12.614Z"
   },
   {
    "duration": 13,
    "start_time": "2022-10-17T12:11:12.637Z"
   },
   {
    "duration": 17,
    "start_time": "2022-10-17T12:11:12.651Z"
   },
   {
    "duration": 7,
    "start_time": "2022-10-17T12:11:12.670Z"
   },
   {
    "duration": 14,
    "start_time": "2022-10-17T12:11:12.679Z"
   },
   {
    "duration": 192,
    "start_time": "2022-10-17T12:11:12.695Z"
   },
   {
    "duration": 18,
    "start_time": "2022-10-17T12:11:12.889Z"
   },
   {
    "duration": 5,
    "start_time": "2022-10-17T12:11:12.909Z"
   },
   {
    "duration": 25,
    "start_time": "2022-10-17T12:11:12.916Z"
   },
   {
    "duration": 205,
    "start_time": "2022-10-17T12:11:12.942Z"
   },
   {
    "duration": 4,
    "start_time": "2022-10-17T12:11:13.149Z"
   },
   {
    "duration": 7,
    "start_time": "2022-10-17T12:11:13.155Z"
   },
   {
    "duration": 171,
    "start_time": "2022-10-17T12:11:13.164Z"
   },
   {
    "duration": 6,
    "start_time": "2022-10-17T12:11:13.336Z"
   },
   {
    "duration": 10,
    "start_time": "2022-10-17T12:11:13.343Z"
   },
   {
    "duration": 161,
    "start_time": "2022-10-17T12:11:13.354Z"
   },
   {
    "duration": 28,
    "start_time": "2022-10-17T12:11:13.521Z"
   },
   {
    "duration": 303,
    "start_time": "2022-10-17T12:11:13.550Z"
   },
   {
    "duration": 4,
    "start_time": "2022-10-17T12:11:13.855Z"
   },
   {
    "duration": 9,
    "start_time": "2022-10-17T12:11:13.860Z"
   },
   {
    "duration": 7,
    "start_time": "2022-10-17T12:11:13.870Z"
   },
   {
    "duration": 5,
    "start_time": "2022-10-17T12:11:13.878Z"
   },
   {
    "duration": 11,
    "start_time": "2022-10-17T12:11:13.884Z"
   },
   {
    "duration": 171,
    "start_time": "2022-10-17T12:11:13.896Z"
   },
   {
    "duration": 4,
    "start_time": "2022-10-17T12:11:14.069Z"
   },
   {
    "duration": 7,
    "start_time": "2022-10-17T12:11:14.075Z"
   },
   {
    "duration": 16,
    "start_time": "2022-10-17T12:11:14.083Z"
   },
   {
    "duration": 6,
    "start_time": "2022-10-17T12:11:14.100Z"
   },
   {
    "duration": 30,
    "start_time": "2022-10-17T12:11:14.107Z"
   },
   {
    "duration": 164,
    "start_time": "2022-10-17T12:11:14.138Z"
   },
   {
    "duration": 5,
    "start_time": "2022-10-17T12:11:14.303Z"
   },
   {
    "duration": 6,
    "start_time": "2022-10-17T12:11:14.309Z"
   },
   {
    "duration": 21,
    "start_time": "2022-10-17T12:11:14.317Z"
   },
   {
    "duration": 9,
    "start_time": "2022-10-17T12:11:14.339Z"
   },
   {
    "duration": 7,
    "start_time": "2022-10-17T12:11:14.349Z"
   },
   {
    "duration": 4,
    "start_time": "2022-10-17T12:11:14.358Z"
   },
   {
    "duration": 6,
    "start_time": "2022-10-17T12:11:14.363Z"
   },
   {
    "duration": 7,
    "start_time": "2022-10-17T12:11:14.370Z"
   },
   {
    "duration": 45,
    "start_time": "2022-10-17T12:12:41.557Z"
   },
   {
    "duration": 65,
    "start_time": "2022-10-17T12:39:40.516Z"
   },
   {
    "duration": 3,
    "start_time": "2022-10-17T12:45:58.323Z"
   },
   {
    "duration": 12,
    "start_time": "2022-10-17T12:48:13.005Z"
   },
   {
    "duration": 18,
    "start_time": "2022-10-17T12:49:12.562Z"
   },
   {
    "duration": 23,
    "start_time": "2022-10-17T12:49:39.212Z"
   },
   {
    "duration": 24,
    "start_time": "2022-10-17T12:50:19.396Z"
   },
   {
    "duration": 17,
    "start_time": "2022-10-17T12:50:43.618Z"
   },
   {
    "duration": 11,
    "start_time": "2022-10-17T12:50:53.739Z"
   },
   {
    "duration": 19,
    "start_time": "2022-10-17T12:50:57.172Z"
   },
   {
    "duration": 12,
    "start_time": "2022-10-17T12:50:57.459Z"
   },
   {
    "duration": 22,
    "start_time": "2022-10-17T13:32:53.360Z"
   },
   {
    "duration": 119,
    "start_time": "2022-10-17T13:34:47.302Z"
   },
   {
    "duration": 32,
    "start_time": "2022-10-17T13:35:21.317Z"
   },
   {
    "duration": 31,
    "start_time": "2022-10-17T13:36:08.063Z"
   },
   {
    "duration": 34,
    "start_time": "2022-10-17T13:36:38.433Z"
   },
   {
    "duration": 17,
    "start_time": "2022-10-17T13:38:53.579Z"
   },
   {
    "duration": 22,
    "start_time": "2022-10-17T13:39:22.945Z"
   },
   {
    "duration": 39,
    "start_time": "2022-10-17T13:39:45.369Z"
   },
   {
    "duration": 39,
    "start_time": "2022-10-17T13:40:07.568Z"
   },
   {
    "duration": 46,
    "start_time": "2022-10-17T13:40:16.166Z"
   },
   {
    "duration": 65,
    "start_time": "2022-10-17T13:41:05.846Z"
   },
   {
    "duration": 39,
    "start_time": "2022-10-17T13:41:10.513Z"
   },
   {
    "duration": 41,
    "start_time": "2022-10-17T13:42:15.249Z"
   },
   {
    "duration": 39,
    "start_time": "2022-10-17T13:42:31.263Z"
   },
   {
    "duration": 40,
    "start_time": "2022-10-17T13:42:47.697Z"
   },
   {
    "duration": 39,
    "start_time": "2022-10-17T13:42:54.600Z"
   },
   {
    "duration": 45,
    "start_time": "2022-10-17T13:43:49.626Z"
   },
   {
    "duration": 60,
    "start_time": "2022-10-17T13:44:09.547Z"
   },
   {
    "duration": 33,
    "start_time": "2022-10-17T13:44:20.436Z"
   },
   {
    "duration": 44,
    "start_time": "2022-10-17T13:44:34.346Z"
   },
   {
    "duration": 37,
    "start_time": "2022-10-17T13:47:43.779Z"
   },
   {
    "duration": 41,
    "start_time": "2022-10-17T13:47:53.864Z"
   },
   {
    "duration": 42,
    "start_time": "2022-10-17T13:48:01.699Z"
   },
   {
    "duration": 41,
    "start_time": "2022-10-17T13:49:12.677Z"
   },
   {
    "duration": 42,
    "start_time": "2022-10-17T13:49:16.472Z"
   },
   {
    "duration": 34,
    "start_time": "2022-10-17T13:54:14.717Z"
   },
   {
    "duration": 32,
    "start_time": "2022-10-17T13:56:02.109Z"
   },
   {
    "duration": 24,
    "start_time": "2022-10-17T13:56:07.705Z"
   },
   {
    "duration": 25,
    "start_time": "2022-10-17T13:56:24.586Z"
   },
   {
    "duration": 17,
    "start_time": "2022-10-17T13:56:31.868Z"
   },
   {
    "duration": 26,
    "start_time": "2022-10-17T13:56:38.711Z"
   },
   {
    "duration": 40,
    "start_time": "2022-10-17T13:59:34.312Z"
   },
   {
    "duration": 1057,
    "start_time": "2022-12-02T17:38:37.816Z"
   },
   {
    "duration": 391,
    "start_time": "2022-12-02T17:38:40.815Z"
   },
   {
    "duration": 471,
    "start_time": "2022-12-02T17:38:41.207Z"
   }
  ],
  "celltoolbar": "Отсутствует",
  "kernelspec": {
   "display_name": "Python 3 (ipykernel)",
   "language": "python",
   "name": "python3"
  },
  "language_info": {
   "codemirror_mode": {
    "name": "ipython",
    "version": 3
   },
   "file_extension": ".py",
   "mimetype": "text/x-python",
   "name": "python",
   "nbconvert_exporter": "python",
   "pygments_lexer": "ipython3",
   "version": "3.9.12"
  },
  "toc": {
   "base_numbering": 1,
   "nav_menu": {},
   "number_sections": true,
   "sideBar": true,
   "skip_h1_title": false,
   "title_cell": "Table of Contents",
   "title_sidebar": "Contents",
   "toc_cell": false,
   "toc_position": {
    "height": "calc(100% - 180px)",
    "left": "10px",
    "top": "150px",
    "width": "371.438px"
   },
   "toc_section_display": true,
   "toc_window_display": true
  }
 },
 "nbformat": 4,
 "nbformat_minor": 5
}
